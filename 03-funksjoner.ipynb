{
  "cells": [
    {
      "metadata": {},
      "cell_type": "markdown",
      "source": "# Funksjoner\nFor å øke gjenbruksverdien til programkode er det lurt å bruke funksjoner. Disse kan kjøres så mange ganger man ønsker, kun ved hjelp av et funksjonskall. \n\n```python\ndef funksjonsnavn(<innparameter>):\n    <kode som skal kjøres>\n    return <det som skal returneres>\n\nfor i in range(10):\n    funksjonsnavn(<innparameter>)\n```\n\nI eksemplet under kjøres funksjonen `hilsen()` tre ganger i en løkke."
    },
    {
      "metadata": {
        "trusted": true
      },
      "cell_type": "code",
      "source": "def hilsen():\n    print('Hallo verden!')\n    return\n\nfor i in range(3):\n    hilsen()",
      "execution_count": null,
      "outputs": []
    },
    {
      "metadata": {},
      "cell_type": "markdown",
      "source": "Mer avanserte funksjoner har [inn-/utparametre](https://en.wikipedia.org/wiki/Parameter_(computer_programming$29), som fungerer litt på samme måte som i matematikk. Dette er den aller vanligste bruksmåten for funksjoner.\n\nKoden under viser en funksjon som summerer verdien de tre tallene a, b og c og returner resultatet:"
    },
    {
      "metadata": {
        "trusted": true
      },
      "cell_type": "code",
      "source": "def legg_sammen_tre_tall(a, b, c):\n    # a = 2\n    # b = 4\n    # c = 6\n    return a + b + c\n\nsummen = legg_sammen_tre_tall(2, 4, 6)\nprint('Summen er', summen)",
      "execution_count": null,
      "outputs": []
    },
    {
      "metadata": {},
      "cell_type": "markdown",
      "source": "La oss se på et eksempel der vi lar en tekststreng være innparameter. Vi kjører så funksjonen to ganger, med ulike innparameter."
    },
    {
      "metadata": {
        "trusted": true
      },
      "cell_type": "code",
      "source": "def personligHilsen(navn):\n    print('Heisann', navn, '! Så hyggelig å se deg.')\n\npersonligHilsen('Fuzzbin')\npersonligHilsen('Bitjungle')",
      "execution_count": null,
      "outputs": []
    },
    {
      "metadata": {},
      "cell_type": "markdown",
      "source": "*Oppgave: Lag en funksjon som tar imot tallene 1 til 7 som innparameter, og som returnerer ukedag som tekststreng (1 gir \"mandag\", 2 gir \"tirsdag\" og så videre). Hint: Legg ukedagene i en liste.*"
    },
    {
      "metadata": {
        "trusted": true
      },
      "cell_type": "code",
      "source": "",
      "execution_count": null,
      "outputs": []
    },
    {
      "metadata": {},
      "cell_type": "markdown",
      "source": "*Oppgave: Lag en funksjon som regner om fra grader Celsius (innparameter) til Fahrenheit (returverdi). Formelen for omregning fra Celsius til Fahrenheit er: $F = \\frac{9}{5}C + 32$. Skriv ut verdier fra 0 til 100 grader Celsius med tilhørende grader Fahrenheit.*"
    },
    {
      "metadata": {
        "trusted": true,
        "scrolled": true
      },
      "cell_type": "code",
      "source": "",
      "execution_count": null,
      "outputs": []
    },
    {
      "metadata": {},
      "cell_type": "markdown",
      "source": "*Oppgave: Lag en funksjon som regner om fra grader Fahrenheit til Celsius.*"
    },
    {
      "metadata": {
        "trusted": true
      },
      "cell_type": "code",
      "source": "",
      "execution_count": null,
      "outputs": []
    },
    {
      "metadata": {},
      "cell_type": "markdown",
      "source": "*Oppgave: Ombygg programmet hvor du leste inn verdiene i ohms lov til å bruke funksjoner.*"
    },
    {
      "metadata": {
        "trusted": true
      },
      "cell_type": "code",
      "source": "",
      "execution_count": null,
      "outputs": []
    },
    {
      "metadata": {},
      "cell_type": "markdown",
      "source": "## Kilde"
    },
    {
      "metadata": {},
      "cell_type": "markdown",
      "source": "Materialet på denne siden bygger på [Python på 57 minutter](https://notebooks.azure.com/bitjungle/libraries/python-57)"
    }
  ],
  "metadata": {
    "kernelspec": {
      "name": "python3",
      "display_name": "Python 3",
      "language": "python"
    },
    "language_info": {
      "mimetype": "text/x-python",
      "nbconvert_exporter": "python",
      "name": "python",
      "pygments_lexer": "ipython3",
      "version": "3.5.4",
      "file_extension": ".py",
      "codemirror_mode": {
        "version": 3,
        "name": "ipython"
      }
    },
    "hide_input": false
  },
  "nbformat": 4,
  "nbformat_minor": 2
}