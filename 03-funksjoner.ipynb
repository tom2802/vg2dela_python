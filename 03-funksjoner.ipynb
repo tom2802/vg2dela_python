{
 "cells": [
  {
   "cell_type": "markdown",
   "metadata": {},
   "source": [
    "# Funksjoner\n",
    "For å øke gjenbruksverdien til programkode er det lurt å bruke funksjoner. Disse kan kjøres så mange ganger man ønsker, kun ved hjelp av et funksjonskall. \n",
    "\n",
    "```python\n",
    "def funksjonsnavn(<innparameter>):\n",
    "    <kode som skal kjøres>\n",
    "    return <det som skal returneres>\n",
    "\n",
    "for i in range(10):\n",
    "    funksjonsnavn(<innparameter>)\n",
    "```\n",
    "\n",
    "I eksemplet under kjøres funksjonen `hilsen()` tre ganger i en løkke."
   ]
  },
  {
   "cell_type": "code",
   "execution_count": null,
   "metadata": {},
   "outputs": [],
   "source": [
    "def hilsen():\n",
    "    print('Hallo verden!')\n",
    "    return\n",
    "\n",
    "for i in range(3):\n",
    "    hilsen()"
   ]
  },
  {
   "cell_type": "markdown",
   "metadata": {},
   "source": [
    "Mer avanserte funksjoner har [inn-/utparametre](https://en.wikipedia.org/wiki/Parameter_(computer_programming$29), som fungerer litt på samme måte som i matematikk. Dette er den aller vanligste bruksmåten for funksjoner.\n",
    "\n",
    "Koden under viser en funksjon som summerer verdien de tre tallene a, b og c og returner resultatet:"
   ]
  },
  {
   "cell_type": "code",
   "execution_count": null,
   "metadata": {},
   "outputs": [],
   "source": [
    "def legg_sammen_tre_tall(a, b, c):\n",
    "    # a = 2\n",
    "    # b = 4\n",
    "    # c = 6\n",
    "    return a + b + c\n",
    "\n",
    "summen = legg_sammen_tre_tall(2, 4, 6)\n",
    "print('Summen er', summen)"
   ]
  },
  {
   "cell_type": "markdown",
   "metadata": {},
   "source": [
    "La oss se på et eksempel der vi lar en tekststreng være innparameter. Vi kjører så funksjonen to ganger, med ulike innparameter."
   ]
  },
  {
   "cell_type": "code",
   "execution_count": null,
   "metadata": {},
   "outputs": [],
   "source": [
    "def personligHilsen(navn):\n",
    "    print('Heisann', navn, '! Så hyggelig å se deg.')\n",
    "\n",
    "personligHilsen('Fuzzbin')\n",
    "personligHilsen('Bitjungle')"
   ]
  },
  {
   "cell_type": "markdown",
   "metadata": {},
   "source": [
    "*Oppgave: Lag en funksjon som tar imot tallene 1 til 7 som innparameter, og som returnerer ukedag som tekststreng (1 gir \"mandag\", 2 gir \"tirsdag\" og så videre). Hint: Legg ukedagene i en liste.*"
   ]
  },
  {
   "cell_type": "code",
   "execution_count": null,
   "metadata": {},
   "outputs": [],
   "source": []
  },
  {
   "cell_type": "markdown",
   "metadata": {},
   "source": [
    "*Oppgave: Lag en funksjon som regner om fra grader Celsius (innparameter) til Fahrenheit (returverdi). Formelen for omregning fra Celsius til Fahrenheit er: $F = \\frac{9}{5}C + 32$. Skriv ut verdier fra 0 til 100 grader Celsius med tilhørende grader Fahrenheit.*"
   ]
  },
  {
   "cell_type": "code",
   "execution_count": null,
   "metadata": {
    "scrolled": true
   },
   "outputs": [],
   "source": []
  },
  {
   "cell_type": "markdown",
   "metadata": {},
   "source": [
    "*Oppgave: Lag en funksjon som regner om fra grader Fahrenheit til Celsius.*"
   ]
  },
  {
   "cell_type": "code",
   "execution_count": null,
   "metadata": {},
   "outputs": [],
   "source": []
  },
  {
   "cell_type": "markdown",
   "metadata": {},
   "source": [
    "*Oppgave: Ombygg programmet hvor du leste inn verdiene i ohms lov til å bruke funksjoner.*"
   ]
  },
  {
   "cell_type": "code",
   "execution_count": null,
   "metadata": {},
   "outputs": [],
   "source": []
  },
  {
   "cell_type": "markdown",
   "metadata": {},
   "source": [
    "## Kilde"
   ]
  },
  {
   "cell_type": "markdown",
   "metadata": {},
   "source": [
    "Materialet på denne siden bygger på [Python på 57 minutter](https://notebooks.azure.com/bitjungle/libraries/python-57)"
   ]
  }
 ],
 "metadata": {
  "hide_input": false,
  "kernelspec": {
   "display_name": "Python 3",
   "language": "python",
   "name": "python3"
  },
  "language_info": {
   "codemirror_mode": {
    "name": "ipython",
    "version": 3
   },
   "file_extension": ".py",
   "mimetype": "text/x-python",
   "name": "python",
   "nbconvert_exporter": "python",
   "pygments_lexer": "ipython3",
   "version": "3.7.6"
  }
 },
 "nbformat": 4,
 "nbformat_minor": 2
}
