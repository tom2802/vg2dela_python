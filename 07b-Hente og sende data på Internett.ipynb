{
 "cells": [
  {
   "cell_type": "markdown",
   "metadata": {
    "collapsed": true
   },
   "source": [
    "# Hente og sende data på Internett"
   ]
  },
  {
   "cell_type": "markdown",
   "metadata": {
    "slideshow": {
     "slide_type": "fragment"
    }
   },
   "source": [
    "Python er mye brukt for å lage web applikasjoner men også for å utveklse data på internett.<br>\n",
    "På nettet er det en uendelighet av dataportaler. Det kan være værdata, børskurser, statistikk, kartdata og register på det alle meste."
   ]
  },
  {
   "cell_type": "markdown",
   "metadata": {},
   "source": [
    "Data fra dataportaler kommer som oftest i [JSON](https://www.json.org/) eller [XML](https://no.wikipedia.org/wiki/XML) format."
   ]
  },
  {
   "cell_type": "markdown",
   "metadata": {},
   "source": [
    "## JSON Data fra webservice"
   ]
  },
  {
   "cell_type": "markdown",
   "metadata": {},
   "source": [
    "JSON formatet er nesten helt likt en Python Dict, det er derfor ekstra lett å arbeide med."
   ]
  },
  {
   "cell_type": "markdown",
   "metadata": {},
   "source": [
    "Her er et eksempel på hvordan vi veldig enkelt kan hente kursen på dollar fra [Floatrates](http://www.floatrates.com/)"
   ]
  },
  {
   "cell_type": "code",
   "execution_count": 1,
   "metadata": {},
   "outputs": [
    {
     "name": "stdout",
     "output_type": "stream",
     "text": [
      "1 USD er 8.5678100737398 NOK\n"
     ]
    }
   ],
   "source": [
    "import requests\n",
    "r = requests.get('http://www.floatrates.com/daily/usd.json')\n",
    "print('1 USD er', r.json()['nok']['rate'], 'NOK') "
   ]
  },
  {
   "cell_type": "markdown",
   "metadata": {},
   "source": [
    "*Oppgave: .json() funksjonen konverterer JSON data vi mottok til en dict. I eksempelet bruker jeg indeksen 'nok' og deretter 'rate' i denne ordlisten for å hente ut for norske kroner. List ut alle valuta som kommer i ordlisten. Hint: Prøv deg frem ved å bare printe .json() og .json['nok']*"
   ]
  },
  {
   "cell_type": "code",
   "execution_count": null,
   "metadata": {},
   "outputs": [],
   "source": []
  },
  {
   "cell_type": "markdown",
   "metadata": {},
   "source": [
    "### Åpne offentlige data i Norge"
   ]
  },
  {
   "cell_type": "markdown",
   "metadata": {},
   "source": [
    "Det offentlige i Norge har mye åpne data tilgjengelig. En kan finne mye på [data.norge.no](http://data.norge.no/)<br>Telemark."
   ]
  },
  {
   "cell_type": "markdown",
   "metadata": {},
   "source": [
    "## Webskraping"
   ]
  },
  {
   "cell_type": "markdown",
   "metadata": {},
   "source": [
    "[Beautiful Soup](https://www.crummy.com/software/BeautifulSoup/bs4/doc/) er et Pyton bibliotek for å trekke data ut av HTML og XML.\n",
    "Vi kan f.eks. trekke ut de siste nyhetssakene fra nrk.no med koden under.\n",
    "<img  src=\"https://notebooks.azure.com/sauce1971/libraries/vgdatapythonmaster/raw/img%2Fnrk_nyheter.png\">"
   ]
  },
  {
   "cell_type": "code",
   "execution_count": 1,
   "metadata": {},
   "outputs": [
    {
     "name": "stdout",
     "output_type": "stream",
     "text": [
      "Pågrepet etter ran i museum\n",
      "Vekst i norsk økonomi\n",
      "Julegaver for millioner\n",
      "Åpen for å flytte politiavdeling\n",
      "Sp trekker seg fra forhandlingene\n",
      "Hentar inn over ein halv milliard\n",
      "Krisepakke til Svalbard \n",
      "Starter sprengning ved Huseby skole\n",
      "FBI: Økning i hatkriminalitet i USA\n",
      "Fem nye smittetilfeller\n"
     ]
    }
   ],
   "source": [
    "import requests\n",
    "from bs4 import BeautifulSoup\n",
    "r = requests.get('https://www.nrk.no/nyheter/')\n",
    "soup = BeautifulSoup(r.text, 'html.parser')\n",
    "\n",
    "for bulletin_title in soup.find_all('h2', class_= 'bulletin-title'): # Finner alle HTML h2 elementer med classen bulletin-title\n",
    "    print(bulletin_title.text)"
   ]
  },
  {
   "cell_type": "markdown",
   "metadata": {},
   "source": [
    "Beautiful Soup lar deg navigere rundt i XML/HTML Treet. I eksempelet nedenfor plukker vi også opp tidspunktet for nyhetssaken."
   ]
  },
  {
   "cell_type": "code",
   "execution_count": null,
   "metadata": {
    "scrolled": true
   },
   "outputs": [],
   "source": [
    "import requests\n",
    "from bs4 import BeautifulSoup\n",
    "r = requests.get('https://www.nrk.no/nyheter/')\n",
    "soup = BeautifulSoup(r.text, 'html.parser')\n",
    "for bulletin_title in soup.find_all('h2', class_= 'bulletin-title'):\n",
    "    title = bulletin_title.text\n",
    "    # Vi navigerer til forelder noden og bruker find for å finne elementet med classen bulletin-publish-time\n",
    "    publish_time = bulletin_title.parent.find(class_='bulletin-publish-time').text \n",
    "    print(publish_time, title)"
   ]
  },
  {
   "cell_type": "markdown",
   "metadata": {},
   "source": [
    "*Oppgave: Skriv også ut de 100 første bokstavene av selve teksten til artikkelen.*"
   ]
  },
  {
   "cell_type": "markdown",
   "metadata": {},
   "source": [
    "## Data i XML format"
   ]
  },
  {
   "cell_type": "markdown",
   "metadata": {
    "heading_collapsed": true
   },
   "source": [
    "### api.met.no"
   ]
  },
  {
   "cell_type": "markdown",
   "metadata": {
    "hidden": true
   },
   "source": [
    "Meteorolgisk institutt lar deg bruke det meste av sine [data helt gratis](https://api.met.no/). Akkurat på samme måte som de blir brukt på yr.no eller i yr appen. Mye av disse dataene er foreløpig bare i XML format."
   ]
  },
  {
   "cell_type": "markdown",
   "metadata": {
    "hidden": true
   },
   "source": [
    "[Nowcast](https://api.met.no/weatherapi/nowcast/0.9/documentation) Gir deg regn for de nærmeste timene."
   ]
  },
  {
   "cell_type": "code",
   "execution_count": 2,
   "metadata": {
    "hidden": true
   },
   "outputs": [
    {
     "name": "stdout",
     "output_type": "stream",
     "text": [
      "07:45 0.4 mm\n",
      "07:50 0.5 mm\n",
      "07:55 0.8 mm\n",
      "08:00 0.6 mm\n",
      "08:05 0.4 mm\n",
      "08:10 0.3 mm\n",
      "08:15 0.2 mm\n",
      "08:20 0.1 mm\n",
      "08:25 0.1 mm\n",
      "08:30 0.1 mm\n",
      "08:35 0.0 mm\n",
      "08:40 0.0 mm\n",
      "08:45 0.0 mm\n",
      "08:50 0.0 mm\n",
      "08:55 0.0 mm\n",
      "09:00 0.0 mm\n",
      "09:05 0.0 mm\n",
      "09:10 0.0 mm\n",
      "09:15 0.0 mm\n",
      "09:20 0.0 mm\n",
      "09:25 0.0 mm\n",
      "09:30 0.0 mm\n",
      "09:35 0.0 mm\n"
     ]
    }
   ],
   "source": [
    "import requests\n",
    "from bs4 import BeautifulSoup\n",
    "r = requests.get('https://api.met.no/weatherapi/nowcast/0.9/?lat=59.173551&lon=9.620759')\n",
    "soup = BeautifulSoup(r.text, 'xml')\n",
    "for data in soup.find_all('time'):\n",
    "    from_time = data['from'][11:16]\n",
    "    precipitation = data.find('precipitation')['value']\n",
    "    print(from_time, precipitation, 'mm')"
   ]
  },
  {
   "cell_type": "markdown",
   "metadata": {
    "hidden": true
   },
   "source": [
    "*Oppgave: Analyser dataene fra Nowcast og gi et varsel om det snart blir regn eller ikke.*"
   ]
  },
  {
   "cell_type": "code",
   "execution_count": null,
   "metadata": {
    "hidden": true
   },
   "outputs": [],
   "source": []
  },
  {
   "cell_type": "markdown",
   "metadata": {
    "hidden": true
   },
   "source": [
    "*Oppgave: Fortell hvor lenge det er til det eventuelt kommer noe regn. Hint: Du må bruke [datetime.strptime()](https://docs.python.org/3/library/datetime.html?highlight=datetime#datetime.datetime.strptime) for å gjøre from_time om til et datetime objekt. (Google ekspempler på bruk av strptime).*"
   ]
  },
  {
   "cell_type": "code",
   "execution_count": null,
   "metadata": {
    "hidden": true
   },
   "outputs": [],
   "source": []
  },
  {
   "cell_type": "markdown",
   "metadata": {
    "hidden": true
   },
   "source": [
    "*Oppgave: Lag et stolpediagram som viser nedbør de nærmeste timene. Kan f.eks. lese [denne](https://pythonprogramming.net/bar-chart-histogram-matplotlib-tutorial/) for å se hvordan.*"
   ]
  },
  {
   "cell_type": "code",
   "execution_count": null,
   "metadata": {
    "hidden": true
   },
   "outputs": [],
   "source": []
  }
 ],
 "metadata": {
  "hide_input": false,
  "kernelspec": {
   "display_name": "Python 3",
   "language": "python",
   "name": "python3"
  },
  "language_info": {
   "codemirror_mode": {
    "name": "ipython",
    "version": 3
   },
   "file_extension": ".py",
   "mimetype": "text/x-python",
   "name": "python",
   "nbconvert_exporter": "python",
   "pygments_lexer": "ipython3",
   "version": "3.8.5"
  }
 },
 "nbformat": 4,
 "nbformat_minor": 2
}
