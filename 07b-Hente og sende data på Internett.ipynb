{
  "cells": [
    {
      "metadata": {
        "collapsed": true
      },
      "cell_type": "markdown",
      "source": "# Hente og sende data på Internett"
    },
    {
      "metadata": {
        "slideshow": {
          "slide_type": "fragment"
        }
      },
      "cell_type": "markdown",
      "source": "Python er mye brukt for å lage web applikasjoner men også for å utveklse data på internett.<br>\nPå nettet er det en uendelighet av dataportaler. Det kan være værdata, børskurser, statistikk, kartdata og register på det alle meste."
    },
    {
      "metadata": {},
      "cell_type": "markdown",
      "source": "Data fra dataportaler kommer som oftest i [JSON](https://www.json.org/) eller [XML](https://no.wikipedia.org/wiki/XML) format."
    },
    {
      "metadata": {},
      "cell_type": "markdown",
      "source": "## JSON Data fra webservice"
    },
    {
      "metadata": {},
      "cell_type": "markdown",
      "source": "JSON formatet er nesten helt likt en Python Dict, det er derfor ekstra lett å arbeide med."
    },
    {
      "metadata": {},
      "cell_type": "markdown",
      "source": "Her er et eksempel på hvordan vi veldig enkelt kan hente kursen på dollar fra [Floatrates](http://www.floatrates.com/)"
    },
    {
      "metadata": {
        "trusted": true
      },
      "cell_type": "code",
      "source": "import requests\nr = requests.get('http://www.floatrates.com/daily/usd.json')\nprint('1 USD er', r.json()['nok']['rate'], 'NOK') ",
      "execution_count": null,
      "outputs": []
    },
    {
      "metadata": {},
      "cell_type": "markdown",
      "source": "*Oppgave: .json() funksjonen konverterer JSON data vi mottok til en dict. I eksempelet bruker jeg indeksen 'nok' og deretter 'rate' i denne ordlisten for å hente ut for norske kroner. List ut alle valuta som kommer i ordlisten. Hint: Prøv deg frem ved å bare printe .json() og .json['nok']*"
    },
    {
      "metadata": {
        "trusted": true
      },
      "cell_type": "code",
      "source": "",
      "execution_count": null,
      "outputs": []
    },
    {
      "metadata": {},
      "cell_type": "markdown",
      "source": "### Åpne offentlige data i Norge"
    },
    {
      "metadata": {},
      "cell_type": "markdown",
      "source": "Det offentlige i Norge har mye åpne data tilgjengelig. En kan finne mye på [data.norge.no](http://data.norge.no/)<br>Telemark Fylkeskommune har også en del åpne data vi kan benytte oss av [her](http://apps.t-fk.no/api/#/datakilder). Et av disse er ansattregisteret som en kan se på Skogmo under [Personalet](http://www.skogmo.vgs.no/Om-skolen/Personalet)."
    },
    {
      "metadata": {
        "trusted": true
      },
      "cell_type": "code",
      "source": "# Vi må først finne ut avdelingsnummeret til Skogmo Videregående\nimport requests\nr = requests.get('http://ws.t-fk.no/?resource=departments&search=all&format=json')\ndepartments = r.json()\n#print(data)\nfor department in departments['results']:\n    print(department)",
      "execution_count": null,
      "outputs": []
    },
    {
      "metadata": {},
      "cell_type": "markdown",
      "source": "Ved å studere resultate over, ser vi at Skogmo Videregående har departementId: 45 og vi kan hente alle ansatte som tilhører avdeling 45."
    },
    {
      "metadata": {
        "trusted": true
      },
      "cell_type": "code",
      "source": "import requests\nr = requests.get('http://ws.t-fk.no/?resource=persons&search=departmentid&string=45&format=json')\npersons = r.json()\n#print(data)\nfor person in persons['results']:\n    print(person)",
      "execution_count": null,
      "outputs": []
    },
    {
      "metadata": {
        "slideshow": {
          "slide_type": "subslide"
        }
      },
      "cell_type": "markdown",
      "source": "*Oppgave: Skriv ut navn og e-post adresse på de ansatte basert på listen.*"
    },
    {
      "metadata": {
        "trusted": true
      },
      "cell_type": "code",
      "source": "",
      "execution_count": null,
      "outputs": []
    },
    {
      "metadata": {},
      "cell_type": "markdown",
      "source": "Ved å studere api'et, så ser en at det kan brukes til å søke på navn på alle ansatte i fylkeskommunen. "
    },
    {
      "metadata": {
        "trusted": true
      },
      "cell_type": "code",
      "source": "import requests\nr = requests.get('http://ws.t-fk.no/?resource=persons&search=fullname&string=Hogstad&format=json')\ndata = r.json()\nprint(data)\n",
      "execution_count": null,
      "outputs": []
    },
    {
      "metadata": {
        "slideshow": {
          "slide_type": "subslide"
        }
      },
      "cell_type": "markdown",
      "source": "*Oppgave: Bruk input funksjonen for å lage et søk på ansatte i Telemark Fylkeskommune*"
    },
    {
      "metadata": {
        "trusted": true
      },
      "cell_type": "code",
      "source": "",
      "execution_count": null,
      "outputs": []
    },
    {
      "metadata": {},
      "cell_type": "markdown",
      "source": "## Webskraping"
    },
    {
      "metadata": {},
      "cell_type": "markdown",
      "source": "[Beautiful Soup](https://www.crummy.com/software/BeautifulSoup/bs4/doc/) er et Pyton bibliotek for å trekke data ut av HTML og XML.\nVi kan f.eks. trekke ut de siste nyhetssakene fra nrk.no med koden under.\n<img  src=\"https://notebooks.azure.com/sauce1971/libraries/vgdatapythonmaster/raw/img%2Fnrk_nyheter.png\">"
    },
    {
      "metadata": {
        "trusted": true
      },
      "cell_type": "code",
      "source": "import requests\nfrom bs4 import BeautifulSoup\nr = requests.get('https://www.nrk.no/nyheter/')\nsoup = BeautifulSoup(r.text, 'html.parser')\n\nfor bulletin_title in soup.find_all('h2', class_= 'bulletin-title'): # Finner alle HTML h2 elementer med classen bulletin-title\n    print(bulletin_title.text)",
      "execution_count": null,
      "outputs": []
    },
    {
      "metadata": {},
      "cell_type": "markdown",
      "source": "Beautiful Soup lar deg navigere rundt i XML/HTML Treet. I eksempelet nedenfor plukker vi også opp tidspunktet for nyhetssaken."
    },
    {
      "metadata": {
        "trusted": true,
        "scrolled": true
      },
      "cell_type": "code",
      "source": "import requests\nfrom bs4 import BeautifulSoup\nr = requests.get('https://www.nrk.no/nyheter/')\nsoup = BeautifulSoup(r.text, 'html.parser')\nfor bulletin_title in soup.find_all('h2', class_= 'bulletin-title'):\n    title = bulletin_title.text\n    # Vi navigerer til forelder noden og bruker find for å finne elementet med classen bulletin-publish-time\n    publish_time = bulletin_title.parent.find(class_='bulletin-publish-time').text \n    print(publish_time, title)",
      "execution_count": null,
      "outputs": []
    },
    {
      "metadata": {},
      "cell_type": "markdown",
      "source": "*Oppgave: Skriv også ut de 100 første bokstavene av selve teksten til artikkelen.*"
    },
    {
      "metadata": {},
      "cell_type": "markdown",
      "source": "## Data i XML format"
    },
    {
      "metadata": {
        "heading_collapsed": true
      },
      "cell_type": "markdown",
      "source": "### api.met.no"
    },
    {
      "metadata": {
        "hidden": true
      },
      "cell_type": "markdown",
      "source": "Meteorolgisk institutt lar deg bruke det meste av sine [data helt gratis](https://api.met.no/). Akkurat på samme måte som de blir brukt på yr.no eller i yr appen. Mye av disse dataene er foreløpig bare i XML format."
    },
    {
      "metadata": {
        "hidden": true
      },
      "cell_type": "markdown",
      "source": "[Nowcast](https://api.met.no/weatherapi/nowcast/0.9/documentation) Gir deg regn for de nærmeste timene."
    },
    {
      "metadata": {
        "trusted": true,
        "hidden": true
      },
      "cell_type": "code",
      "source": "import requests\nfrom bs4 import BeautifulSoup\nr = requests.get('https://api.met.no/weatherapi/nowcast/0.9/?lat=59.173551&lon=9.620759')\nsoup = BeautifulSoup(r.text, 'xml')\nfor data in soup.find_all('time'):\n    from_time = data['from'][11:16]\n    precipitation = data.find('precipitation')['value']\n    print(from_time, precipitation, 'mm')",
      "execution_count": null,
      "outputs": []
    },
    {
      "metadata": {
        "hidden": true
      },
      "cell_type": "markdown",
      "source": "*Oppgave: Analyser dataene fra Nowcast og gi et varsel om det snart blir regn eller ikke.*"
    },
    {
      "metadata": {
        "trusted": true,
        "hidden": true
      },
      "cell_type": "code",
      "source": "",
      "execution_count": null,
      "outputs": []
    },
    {
      "metadata": {
        "hidden": true
      },
      "cell_type": "markdown",
      "source": "*Oppgave: Fortell hvor lenge det er til det eventuelt kommer noe regn. Hint: Du må bruke [datetime.strptime()](https://docs.python.org/3/library/datetime.html?highlight=datetime#datetime.datetime.strptime) for å gjøre from_time om til et datetime objekt. (Google ekspempler på bruk av strptime).*"
    },
    {
      "metadata": {
        "trusted": true,
        "hidden": true
      },
      "cell_type": "code",
      "source": "",
      "execution_count": null,
      "outputs": []
    },
    {
      "metadata": {
        "hidden": true
      },
      "cell_type": "markdown",
      "source": "*Oppgave: Lag et stolpediagram som viser nedbør de nærmeste timene. Kan f.eks. lese [denne](https://pythonprogramming.net/bar-chart-histogram-matplotlib-tutorial/) for å se hvordan.*"
    },
    {
      "metadata": {
        "trusted": true,
        "hidden": true
      },
      "cell_type": "code",
      "source": "",
      "execution_count": null,
      "outputs": []
    },
    {
      "metadata": {},
      "cell_type": "markdown",
      "source": "### yr.no"
    },
    {
      "metadata": {},
      "cell_type": "markdown",
      "source": "En kan også få data som brukes på yr.no i xml ved å legge på varsel.xml i url'en<br>\nhttps://www.yr.no/place/Norway/Telemark/Skien/Skien/varsel.xml"
    },
    {
      "metadata": {},
      "cell_type": "markdown",
      "source": "Tekstvarselet for i dag blir."
    },
    {
      "metadata": {
        "trusted": true
      },
      "cell_type": "code",
      "source": "import requests\nfrom bs4 import BeautifulSoup\nr = requests.get('https://www.yr.no/place/Norway/Telemark/Skien/Skien/varsel.xml')\nsoup = BeautifulSoup(r.text, 'xml')\ntext_forecast = soup.select('forecast text') # Returnerere en liste med matchende elementer\nprint(text_forecast[0].find('title').text)\nprint(text_forecast[0].find('body').text)",
      "execution_count": null,
      "outputs": []
    },
    {
      "metadata": {},
      "cell_type": "markdown",
      "source": "Nå verdiene er (Om du lager værstasjon uten sensorer?)"
    },
    {
      "metadata": {
        "trusted": true
      },
      "cell_type": "code",
      "source": "import requests\nfrom bs4 import BeautifulSoup\nr = requests.get('https://www.yr.no/place/Norway/Telemark/Skien/Skien/varsel.xml')\nsoup = BeautifulSoup(r.text, 'xml')\nweatherstation_name = soup.select('weatherstation')[0]['name']\nweatherstation_temperature = soup.select('weatherstation')[0].find('temperature')['value']\nprint(f'{weatherstation_name}: {weatherstation_temperature} °C')\n",
      "execution_count": null,
      "outputs": []
    },
    {
      "metadata": {},
      "cell_type": "markdown",
      "source": "*Oppgave: Vis temperatur og navn på alle de næreste stasjonene. Der det er vind, så viser du også verdien for dette.*"
    },
    {
      "metadata": {
        "trusted": true
      },
      "cell_type": "code",
      "source": "",
      "execution_count": null,
      "outputs": []
    },
    {
      "metadata": {},
      "cell_type": "markdown",
      "source": "*Oppgave: Lag en graf som viser temperatur fra varselet under \"tabluar\". (Dette er beskrevet i kapittel 4)* "
    },
    {
      "metadata": {
        "trusted": true
      },
      "cell_type": "code",
      "source": "import requests\nimport matplotlib.pyplot as plt\nimport numpy as np\nfrom bs4 import BeautifulSoup\nr = requests.get('https://www.yr.no/place/Norway/Telemark/Skien/Skien/varsel.xml')\nsoup = BeautifulSoup(r.text, 'xml')\n# Finner time taggene under tabular og plukker ut from attributten\ntime_data = [t['from'] for t in soup.find('tabular').find_all('time')] \n# Finner precipitation taggene under tabular og plukker ut value attributten\nprecipation_data = [p['value'] for p in soup.find('tabular').find_all('precipitation')]\nx = [n for n in range(len(precipation_data))] # Lager x verdier fra 0 til antall datapunkt\nplt.figure(figsize=(20,3)) # Angir størrelsen på figuren (Plottet)\nplt.bar(x ,precipation_data, label=\"Nedbør\", color='b')\n#plt.xticks(x, time_data, rotation=45) # Tekster på X aksen\n#plt.legend()\n#plt.xlabel('Tid')\n#plt.ylabel('Nedbør mm/t')\n#plt.title('Nedbørsoversikt')\nplt.show()\n",
      "execution_count": null,
      "outputs": []
    }
  ],
  "metadata": {
    "kernelspec": {
      "name": "python36",
      "display_name": "Python 3.6",
      "language": "python"
    },
    "language_info": {
      "mimetype": "text/x-python",
      "nbconvert_exporter": "python",
      "name": "python",
      "pygments_lexer": "ipython3",
      "version": "3.6.6",
      "file_extension": ".py",
      "codemirror_mode": {
        "version": 3,
        "name": "ipython"
      }
    },
    "hide_input": false
  },
  "nbformat": 4,
  "nbformat_minor": 2
}