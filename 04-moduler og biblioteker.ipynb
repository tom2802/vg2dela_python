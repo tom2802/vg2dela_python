{
  "cells": [
    {
      "metadata": {},
      "cell_type": "markdown",
      "source": "# Moduler, pakker og biblioteker\nI Python er en **modul** en samling av funksjoner og klasser som kan gjenbrukes i mange ulike programmer. Et eksempel på en slikt modul er [math](https://docs.python.org/3/library/math.html), som er en samling av matematiske funksjoner. Her finner du for eksempel trigonometriske funksjoner (sin, cos, tan, og så videre) og konstanter (for eksempel $\\pi$) som du kan bruke i programmene dine. Når du skal lage et program vil det spare deg for mye tid om du finner og bruker moduler som andre har laget allerede.\n\nEn **pakke** i Python er en samling av moduler. Mange pakker kan igjen samles i **biblioteker**. Det biblioteket du bør gjøre det kjent med aller først, er det såkalte [Python Standard Library](https://docs.python.org/3/library/index.html). Standardbiblioteket er tilgjengelig for deg uten at du trenger å installere ekstra utover en \"vanlig\" Python-installasjon.\n\nOm du ikke finner det du trenger i [standardbiblioteket](https://docs.python.org/3/library/index.html) til Python, bør du lete gjennom [The Python Package Index (PyPI)](https://pypi.python.org/pypi). Sjansene er store for at noen har laget akkurat det du trenger allerede, sånn at du ikke må lage alt helt fra bunn av.\n\nNå skal vi gjennomgå noen få (men sentrale) funksjoner og moduler fra [standardbiblioteket](https://docs.python.org/3/library/index.html), men det er viktig at du selv sørger for å gjøre deg kjent med hva du finner der. Vi skal også se på noen biblioteker fra [PyPI](https://pypi.python.org/pypi) som er nyttige i faget Programmering og modellering.\n"
    },
    {
      "metadata": {},
      "cell_type": "markdown",
      "source": "## Funksjoner og moduler i standardbiblioteket\n\nPython har en del [innebygde funksjoner](https://docs.python.org/3/library/functions.html), og du trenger en eller flere av disse i alle programmer. her er noen eksempler. Forsøk gjerne å gjøre endringer i eksemplene, og se hva som skjer.\n"
    },
    {
      "metadata": {},
      "cell_type": "markdown",
      "source": "**Avrunding**<br>\nFor å runde av et desimaltall kan vi bruke [round()](https://docs.python.org/3/library/functions.html#round)."
    },
    {
      "metadata": {
        "trusted": true
      },
      "cell_type": "code",
      "source": "a = 2.3\nb = -2.6\nprint('a ≈ {} og b ≈ {}'.format(round(a), round(b)))\n# OBS round runder .5 av mot nærmeste partall!\nfor n in range(9):\n    print('{} runder av til partallet {}'.format(n+0.5, round(n+0.5)))\n",
      "execution_count": null,
      "outputs": []
    },
    {
      "metadata": {},
      "cell_type": "markdown",
      "source": "**Sortering av liste**<br>\n[sorted()](https://docs.python.org/3/library/functions.html#sorted) funskjonen lar deg sortere en liste."
    },
    {
      "metadata": {
        "trusted": true
      },
      "cell_type": "code",
      "source": "liste = [9, 7, 8, 12, 23]\nprint(sorted(liste))\n",
      "execution_count": null,
      "outputs": []
    },
    {
      "metadata": {},
      "cell_type": "markdown",
      "source": "*Oppgave: Forsøk sorted() funksjonen på en streng.*"
    },
    {
      "metadata": {
        "trusted": true
      },
      "cell_type": "code",
      "source": "",
      "execution_count": null,
      "outputs": []
    },
    {
      "metadata": {},
      "cell_type": "markdown",
      "source": "**Matematiske funksjoner**<br>\nI tillegg til de innebygde funksjonene, vil du helt garantert få bruk for modulen [math](https://docs.python.org/3/library/math.html), som er en del av [standardbiblioteket](https://docs.python.org/3/library/index.html) i Python. Her er noen få eksempler på funksjonene i math:"
    },
    {
      "metadata": {
        "trusted": true
      },
      "cell_type": "code",
      "source": "import math\n\nx = -4.67\n\nx_abs = math.fabs(x)\nprint('Absoluttverdien av {} er {}'.format(x, x_abs))\n\nx_exp = math.exp(x)\nprint('e opphøyd i {} er {}'.format(x, x_exp))\n\nw = 100\ndbm = 10*math.log10(w/0.001)\nprint('{} Watt er {} dbm'.format(w, dbm))\n\nx_abs_sqroot = math.sqrt(x_abs)\nprint('kvadratrot av |{}| er {}'.format(x, x_abs_sqroot))\n",
      "execution_count": null,
      "outputs": []
    },
    {
      "metadata": {},
      "cell_type": "markdown",
      "source": "*Oppgave: Lag et program der brukeren kan taste inn a, b og c i funksjonen: $ f(x)=ax^2+bx+c $. Programmet skal så skrive ut nullpunktene til funksjonen. Ref.: [Andregradslignig](https://www.matematikk.org/artikkel.html?tid=154273)*"
    },
    {
      "metadata": {
        "trusted": true
      },
      "cell_type": "code",
      "source": "",
      "execution_count": null,
      "outputs": []
    },
    {
      "metadata": {},
      "cell_type": "markdown",
      "source": "**Tilfeldige tall**<br>\nEn annen nyttig modul i [standardbiblioteket](https://docs.python.org/3/library/index.html) er [random](https://docs.python.org/3/library/random.html). Her er et eksempel hvor vi genererer et tilfeldig tall:"
    },
    {
      "metadata": {
        "scrolled": true,
        "trusted": true
      },
      "cell_type": "code",
      "source": "import random\n\ntilfeldig = random.random()\nprint('Helt tilfeldig valgte jeg tallet {}'.format(tilfeldig))",
      "execution_count": null,
      "outputs": []
    },
    {
      "metadata": {},
      "cell_type": "markdown",
      "source": "*Oppgave: Bruk modulen random, og lag et program som simulerer [Lotto](https://no.wikipedia.org/wiki/Lotto_(Norge&#41;). Du skal trekke 7 tilfeldige heltall mellom 1 og 34.*"
    },
    {
      "metadata": {
        "trusted": true
      },
      "cell_type": "code",
      "source": "",
      "execution_count": null,
      "outputs": []
    },
    {
      "metadata": {},
      "cell_type": "markdown",
      "source": "*Oppgave: I oppgaven over er det ingen kontroll på om samme tall kommer flere ganger. En kan bruke funskjonen random.sample() for å trekke ut x antall tilfeldig fra en liste. Bruk random.sample() for å lage en lottotrekning uten at det kan bli like tall.*"
    },
    {
      "metadata": {
        "trusted": true
      },
      "cell_type": "code",
      "source": "",
      "execution_count": null,
      "outputs": []
    },
    {
      "metadata": {},
      "cell_type": "markdown",
      "source": "## Numpy og Matplotlib\n\nBiblioteket [numpy](https://docs.scipy.org/doc/numpy/reference/index.html) inneholder mange funksjoner for behandling av [vektorer](https://en.wikipedia.org/wiki/Vector_space) og [matriser](https://en.wikipedia.org/wiki/Matrix_(mathematics). Du kan også bruke funksjoner i numpy for å generere lister, slik som i dette eksemplet hvor vi genererer 100 tall mellom -pi (-3.14) og pi (3.14) ved hjelp av funksjonen [numpy.linspace()](https://docs.scipy.org/doc/numpy-1.15.0/reference/generated/numpy.linspace.html)."
    },
    {
      "metadata": {
        "trusted": true
      },
      "cell_type": "code",
      "source": "import numpy as np # Her lager vi et alias for numpy så vi kan skrive litt mindre\n\nx_verdier = np.linspace(-np.pi, np.pi , num=100)\nprint(x_verdier)",
      "execution_count": null,
      "outputs": []
    },
    {
      "metadata": {},
      "cell_type": "markdown",
      "source": "Nå kan vi for eksempel regne ut sinus til alle verdiene i lista vi genrerte ved hjelp av [numpy.sin()](https://docs.scipy.org/doc/numpy-1.15.1/reference/generated/numpy.sin.html)"
    },
    {
      "metadata": {
        "trusted": true
      },
      "cell_type": "code",
      "source": "y_verdier = np.sin(x_verdier)\nprint(y_verdier)",
      "execution_count": null,
      "outputs": []
    },
    {
      "metadata": {},
      "cell_type": "markdown",
      "source": "Vi vil ofte ha behov for å visualisere data. Da er biblioteket [Matplotlib](http://matplotlib.org/) kjekt å bruke. Her skal vi bruke modulen [pyplot](https://matplotlib.org/users/pyplot_tutorial.html) (som er en del av biblioteket Matplotlib) for å tegne en graf av tallene vi genererte ovenfor."
    },
    {
      "metadata": {
        "trusted": true
      },
      "cell_type": "code",
      "source": "import matplotlib.pyplot as plt\nplt.plot(x_verdier, y_verdier)\nplt.show()",
      "execution_count": null,
      "outputs": []
    },
    {
      "metadata": {},
      "cell_type": "markdown",
      "source": "I eksempelet under plotter vi funksjonen\n$$s(t) = 1 + \\text{sin}(2\\pi t) \\text{ for alle }x\\in \\{0.0 , 2.0\\}$$\nVi bruker også noen flere instillinger på grafen\n"
    },
    {
      "metadata": {
        "trusted": true
      },
      "cell_type": "code",
      "source": "# Importerer nødvendige biblioteker\nimport matplotlib.pyplot as plt\nimport numpy as np\n\n# Funksjonsdata\nt = np.arange(0.0, 2.0, 0.01) # Angir definisjonsmengden til funksjonen - Punkter for hver 0.01\ns = 1 + np.sin(2*np.pi*t) # Funksjonen som skal plottes\nplt.plot(t, s) # Plotter s(t)\n\n# Koden under beskriver hvordan koordinatsystemet skal se ut\nplt.xlabel('Tid (s)') # Navn på x-akse\nplt.ylabel('Spenning (mV)') # Navn på y-akse\nplt.title('En sinuskurve') # Tittel på grafen\nplt.grid(True) # Rutenett\nplt.show() # Vis graf",
      "execution_count": null,
      "outputs": []
    },
    {
      "metadata": {},
      "cell_type": "markdown",
      "source": "*Oppgave: Lag et program der brukeren kan taste inn amplitude og frekvens. Programmet skal så tegne den tilsvarende sinusfunksjonen med minst to hele perioder. (Hint: Du skal endre på \"tallene\" i funksjonen og \"definisjonsmengden\".*"
    },
    {
      "metadata": {
        "trusted": true
      },
      "cell_type": "code",
      "source": "",
      "execution_count": null,
      "outputs": []
    },
    {
      "metadata": {},
      "cell_type": "markdown",
      "source": "## Kilde\nMaterialet på denne siden bygger på [Python på 57 minutter](https://notebooks.azure.com/bitjungle/libraries/python-57)"
    }
  ],
  "metadata": {
    "kernelspec": {
      "name": "python3",
      "display_name": "Python 3",
      "language": "python"
    },
    "language_info": {
      "mimetype": "text/x-python",
      "nbconvert_exporter": "python",
      "name": "python",
      "file_extension": ".py",
      "version": "3.5.4",
      "pygments_lexer": "ipython3",
      "codemirror_mode": {
        "version": 3,
        "name": "ipython"
      }
    },
    "hide_input": false
  },
  "nbformat": 4,
  "nbformat_minor": 2
}