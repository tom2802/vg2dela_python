{
 "cells": [
  {
   "cell_type": "markdown",
   "metadata": {},
   "source": [
    "# Moduler, pakker og biblioteker\n",
    "I Python er en **modul** en samling av funksjoner og klasser som kan gjenbrukes i mange ulike programmer. Et eksempel på en slikt modul er [math](https://docs.python.org/3/library/math.html), som er en samling av matematiske funksjoner. Her finner du for eksempel trigonometriske funksjoner (sin, cos, tan, og så videre) og konstanter (for eksempel $\\pi$) som du kan bruke i programmene dine. Når du skal lage et program vil det spare deg for mye tid om du finner og bruker moduler som andre har laget allerede.\n",
    "\n",
    "En **pakke** i Python er en samling av moduler. Mange pakker kan igjen samles i **biblioteker**. Det biblioteket du bør gjøre det kjent med aller først, er det såkalte [Python Standard Library](https://docs.python.org/3/library/index.html). Standardbiblioteket er tilgjengelig for deg uten at du trenger å installere ekstra utover en \"vanlig\" Python-installasjon.\n",
    "\n",
    "Om du ikke finner det du trenger i [standardbiblioteket](https://docs.python.org/3/library/index.html) til Python, bør du lete gjennom [The Python Package Index (PyPI)](https://pypi.python.org/pypi). Sjansene er store for at noen har laget akkurat det du trenger allerede, sånn at du ikke må lage alt helt fra bunn av.\n",
    "\n",
    "Nå skal vi gjennomgå noen få (men sentrale) funksjoner og moduler fra [standardbiblioteket](https://docs.python.org/3/library/index.html), men det er viktig at du selv sørger for å gjøre deg kjent med hva du finner der. Vi skal også se på noen biblioteker fra [PyPI](https://pypi.python.org/pypi) som er nyttige i faget Programmering og modellering.\n"
   ]
  },
  {
   "cell_type": "markdown",
   "metadata": {},
   "source": [
    "## Funksjoner og moduler i standardbiblioteket\n",
    "\n",
    "Python har en del [innebygde funksjoner](https://docs.python.org/3/library/functions.html), og du trenger en eller flere av disse i alle programmer. her er noen eksempler. Forsøk gjerne å gjøre endringer i eksemplene, og se hva som skjer.\n"
   ]
  },
  {
   "cell_type": "markdown",
   "metadata": {},
   "source": [
    "**Avrunding**<br>\n",
    "For å runde av et desimaltall kan vi bruke [round()](https://docs.python.org/3/library/functions.html#round)."
   ]
  },
  {
   "cell_type": "code",
   "execution_count": null,
   "metadata": {},
   "outputs": [],
   "source": [
    "a = 2.3\n",
    "b = -2.6\n",
    "print('a ≈ {} og b ≈ {}'.format(round(a), round(b)))\n",
    "# OBS round runder .5 av mot nærmeste partall!\n",
    "for n in range(9):\n",
    "    print('{} runder av til partallet {}'.format(n+0.5, round(n+0.5)))\n"
   ]
  },
  {
   "cell_type": "markdown",
   "metadata": {},
   "source": [
    "**Sortering av liste**<br>\n",
    "[sorted()](https://docs.python.org/3/library/functions.html#sorted) funskjonen lar deg sortere en liste."
   ]
  },
  {
   "cell_type": "code",
   "execution_count": null,
   "metadata": {},
   "outputs": [],
   "source": [
    "liste = [9, 7, 8, 12, 23]\n",
    "print(sorted(liste))\n"
   ]
  },
  {
   "cell_type": "markdown",
   "metadata": {},
   "source": [
    "*Oppgave: Forsøk sorted() funksjonen på en streng.*"
   ]
  },
  {
   "cell_type": "code",
   "execution_count": null,
   "metadata": {},
   "outputs": [],
   "source": []
  },
  {
   "cell_type": "markdown",
   "metadata": {},
   "source": [
    "**Matematiske funksjoner**<br>\n",
    "I tillegg til de innebygde funksjonene, vil du helt garantert få bruk for modulen [math](https://docs.python.org/3/library/math.html), som er en del av [standardbiblioteket](https://docs.python.org/3/library/index.html) i Python. Her er noen få eksempler på funksjonene i math:"
   ]
  },
  {
   "cell_type": "code",
   "execution_count": null,
   "metadata": {},
   "outputs": [],
   "source": [
    "import math\n",
    "\n",
    "x = -4.67\n",
    "\n",
    "x_abs = math.fabs(x)\n",
    "print('Absoluttverdien av {} er {}'.format(x, x_abs))\n",
    "\n",
    "x_exp = math.exp(x)\n",
    "print('e opphøyd i {} er {}'.format(x, x_exp))\n",
    "\n",
    "w = 100\n",
    "dbm = 10*math.log10(w/0.001)\n",
    "print('{} Watt er {} dbm'.format(w, dbm))\n",
    "\n",
    "x_abs_sqroot = math.sqrt(x_abs)\n",
    "print('kvadratrot av |{}| er {}'.format(x, x_abs_sqroot))\n"
   ]
  },
  {
   "cell_type": "markdown",
   "metadata": {},
   "source": [
    "*Oppgave: Lag et program der brukeren kan taste inn a, b og c i funksjonen: $ f(x)=ax^2+bx+c $. Programmet skal så skrive ut nullpunktene til funksjonen. Ref.: [Andregradslignig](https://www.matematikk.org/artikkel.html?tid=154273)*"
   ]
  },
  {
   "cell_type": "code",
   "execution_count": null,
   "metadata": {},
   "outputs": [],
   "source": []
  },
  {
   "cell_type": "markdown",
   "metadata": {},
   "source": [
    "**Tilfeldige tall**<br>\n",
    "En annen nyttig modul i [standardbiblioteket](https://docs.python.org/3/library/index.html) er [random](https://docs.python.org/3/library/random.html). Her er et eksempel hvor vi genererer et tilfeldig tall:"
   ]
  },
  {
   "cell_type": "code",
   "execution_count": null,
   "metadata": {
    "scrolled": true
   },
   "outputs": [],
   "source": [
    "import random\n",
    "\n",
    "tilfeldig = random.random()\n",
    "print('Helt tilfeldig valgte jeg tallet {}'.format(tilfeldig))"
   ]
  },
  {
   "cell_type": "markdown",
   "metadata": {},
   "source": [
    "*Oppgave: Bruk modulen random, og lag et program som simulerer [Lotto](https://no.wikipedia.org/wiki/Lotto_(Norge&#41;). Du skal trekke 7 tilfeldige heltall mellom 1 og 34.*"
   ]
  },
  {
   "cell_type": "code",
   "execution_count": null,
   "metadata": {},
   "outputs": [],
   "source": []
  },
  {
   "cell_type": "markdown",
   "metadata": {},
   "source": [
    "*Oppgave: I oppgaven over er det ingen kontroll på om samme tall kommer flere ganger. En kan bruke funskjonen random.sample() for å trekke ut x antall tilfeldig fra en liste. Bruk random.sample() for å lage en lottotrekning uten at det kan bli like tall.*"
   ]
  },
  {
   "cell_type": "code",
   "execution_count": null,
   "metadata": {},
   "outputs": [],
   "source": []
  },
  {
   "cell_type": "markdown",
   "metadata": {},
   "source": [
    "## Numpy og Matplotlib\n",
    "\n",
    "Biblioteket [numpy](https://docs.scipy.org/doc/numpy/reference/index.html) inneholder mange funksjoner for behandling av [vektorer](https://en.wikipedia.org/wiki/Vector_space) og [matriser](https://en.wikipedia.org/wiki/Matrix_(mathematics). Du kan også bruke funksjoner i numpy for å generere lister, slik som i dette eksemplet hvor vi genererer 100 tall mellom -pi (-3.14) og pi (3.14) ved hjelp av funksjonen [numpy.linspace()](https://docs.scipy.org/doc/numpy-1.15.0/reference/generated/numpy.linspace.html)."
   ]
  },
  {
   "cell_type": "code",
   "execution_count": null,
   "metadata": {},
   "outputs": [],
   "source": [
    "import numpy as np # Her lager vi et alias for numpy så vi kan skrive litt mindre\n",
    "\n",
    "x_verdier = np.linspace(-np.pi, np.pi , num=100)\n",
    "print(x_verdier)"
   ]
  },
  {
   "cell_type": "markdown",
   "metadata": {},
   "source": [
    "Nå kan vi for eksempel regne ut sinus til alle verdiene i lista vi genrerte ved hjelp av [numpy.sin()](https://docs.scipy.org/doc/numpy-1.15.1/reference/generated/numpy.sin.html)"
   ]
  },
  {
   "cell_type": "code",
   "execution_count": null,
   "metadata": {},
   "outputs": [],
   "source": [
    "y_verdier = np.sin(x_verdier)\n",
    "print(y_verdier)"
   ]
  },
  {
   "cell_type": "markdown",
   "metadata": {},
   "source": [
    "Vi vil ofte ha behov for å visualisere data. Da er biblioteket [Matplotlib](http://matplotlib.org/) kjekt å bruke. Her skal vi bruke modulen [pyplot](https://matplotlib.org/users/pyplot_tutorial.html) (som er en del av biblioteket Matplotlib) for å tegne en graf av tallene vi genererte ovenfor."
   ]
  },
  {
   "cell_type": "code",
   "execution_count": null,
   "metadata": {},
   "outputs": [],
   "source": [
    "import matplotlib.pyplot as plt\n",
    "plt.plot(x_verdier, y_verdier)\n",
    "plt.show()"
   ]
  },
  {
   "cell_type": "markdown",
   "metadata": {},
   "source": [
    "I eksempelet under plotter vi funksjonen\n",
    "$$s(t) = 1 + \\text{sin}(2\\pi t) \\text{ for alle }x\\in \\{0.0 , 2.0\\}$$\n",
    "Vi bruker også noen flere instillinger på grafen\n"
   ]
  },
  {
   "cell_type": "code",
   "execution_count": 1,
   "metadata": {},
   "outputs": [
    {
     "data": {
      "image/png": "[encoded data removed]",
      "text/plain": [
       "<Figure size 432x288 with 1 Axes>"
      ]
     },
     "metadata": {
      "needs_background": "light"
     },
     "output_type": "display_data"
    }
   ],
   "source": [
    "# Importerer nødvendige biblioteker\n",
    "import matplotlib.pyplot as plt\n",
    "import numpy as np\n",
    "\n",
    "# Funksjonsdata\n",
    "t = np.arange(0.0, 2.0, 0.01) # Angir definisjonsmengden til funksjonen - Punkter for hver 0.01\n",
    "s = 1 + np.sin(2*np.pi*t) # Funksjonen som skal plottes\n",
    "plt.plot(t, s) # Plotter s(t)\n",
    "\n",
    "# Koden under beskriver hvordan koordinatsystemet skal se ut\n",
    "plt.xlabel('Tid (s)') # Navn på x-akse\n",
    "plt.ylabel('Spenning (mV)') # Navn på y-akse\n",
    "plt.title('En sinuskurve') # Tittel på grafen\n",
    "plt.grid(True) # Rutenett\n",
    "plt.show() # Vis graf"
   ]
  },
  {
   "cell_type": "markdown",
   "metadata": {},
   "source": [
    "*Oppgave: Lag et program der brukeren kan taste inn amplitude og frekvens. Programmet skal så tegne den tilsvarende sinusfunksjonen med minst to hele perioder. (Hint: Du skal endre på \"tallene\" i funksjonen og \"definisjonsmengden\".*"
   ]
  },
  {
   "cell_type": "code",
   "execution_count": null,
   "metadata": {},
   "outputs": [],
   "source": []
  },
  {
   "cell_type": "markdown",
   "metadata": {},
   "source": [
    "## Kilde\n",
    "Materialet på denne siden bygger på [Python på 57 minutter](https://notebooks.azure.com/bitjungle/libraries/python-57)"
   ]
  }
 ],
 "metadata": {
  "hide_input": false,
  "kernelspec": {
   "display_name": "Python 3",
   "language": "python",
   "name": "python3"
  },
  "language_info": {
   "codemirror_mode": {
    "name": "ipython",
    "version": 3
   },
   "file_extension": ".py",
   "mimetype": "text/x-python",
   "name": "python",
   "nbconvert_exporter": "python",
   "pygments_lexer": "ipython3",
   "version": "3.8.5"
  }
 },
 "nbformat": 4,
 "nbformat_minor": 2
}
