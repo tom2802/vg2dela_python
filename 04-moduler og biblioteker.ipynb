{
 "cells": [
  {
   "cell_type": "markdown",
   "metadata": {},
   "source": [
    "# Moduler, pakker og biblioteker\n",
    "I Python er en **modul** en samling av funksjoner og klasser som kan gjenbrukes i mange ulike programmer. Et eksempel på en slikt modul er [math](https://docs.python.org/3/library/math.html), som er en samling av matematiske funksjoner. Her finner du for eksempel trigonometriske funksjoner (sin, cos, tan, og så videre) og konstanter (for eksempel $\\pi$) som du kan bruke i programmene dine. Når du skal lage et program vil det spare deg for mye tid om du finner og bruker moduler som andre har laget allerede.\n",
    "\n",
    "En **pakke** i Python er en samling av moduler. Mange pakker kan igjen samles i **biblioteker**. Det biblioteket du bør gjøre det kjent med aller først, er det såkalte [Python Standard Library](https://docs.python.org/3/library/index.html). Standardbiblioteket er tilgjengelig for deg uten at du trenger å installere ekstra utover en \"vanlig\" Python-installasjon.\n",
    "\n",
    "Om du ikke finner det du trenger i [standardbiblioteket](https://docs.python.org/3/library/index.html) til Python, bør du lete gjennom [The Python Package Index (PyPI)](https://pypi.python.org/pypi). Sjansene er store for at noen har laget akkurat det du trenger allerede, sånn at du ikke må lage alt helt fra bunn av.\n",
    "\n",
    "Nå skal vi gjennomgå noen få (men sentrale) funksjoner og moduler fra [standardbiblioteket](https://docs.python.org/3/library/index.html), men det er viktig at du selv sørger for å gjøre deg kjent med hva du finner der. Vi skal også se på noen biblioteker fra [PyPI](https://pypi.python.org/pypi) som er nyttige i faget Programmering og modellering.\n"
   ]
  },
  {
   "cell_type": "markdown",
   "metadata": {},
   "source": [
    "## Funksjoner og moduler i standardbiblioteket\n",
    "\n",
    "Python har en del [innebygde funksjoner](https://docs.python.org/3/library/functions.html), og du trenger en eller flere av disse i alle programmer. her er noen eksempler. Forsøk gjerne å gjøre endringer i eksemplene, og se hva som skjer.\n"
   ]
  },
  {
   "cell_type": "markdown",
   "metadata": {},
   "source": [
    "**Avrunding**<br>\n",
    "For å runde av et desimaltall kan vi bruke [round()](https://docs.python.org/3/library/functions.html#round)."
   ]
  },
  {
   "cell_type": "code",
   "execution_count": 1,
   "metadata": {},
   "outputs": [
    {
     "name": "stdout",
     "output_type": "stream",
     "text": [
      "a ≈ 2 og b ≈ -3\n",
      "0.5 runder av til partallet 0\n",
      "1.5 runder av til partallet 2\n",
      "2.5 runder av til partallet 2\n",
      "3.5 runder av til partallet 4\n",
      "4.5 runder av til partallet 4\n",
      "5.5 runder av til partallet 6\n",
      "6.5 runder av til partallet 6\n",
      "7.5 runder av til partallet 8\n",
      "8.5 runder av til partallet 8\n"
     ]
    }
   ],
   "source": [
    "a = 2.3\n",
    "b = -2.6\n",
    "print('a ≈ {} og b ≈ {}'.format(round(a), round(b)))\n",
    "# OBS round runder .5 av mot nærmeste partall!\n",
    "for n in range(9):\n",
    "    print('{} runder av til partallet {}'.format(n+0.5, round(n+0.5)))\n"
   ]
  },
  {
   "cell_type": "markdown",
   "metadata": {},
   "source": [
    "**Sortering av liste**<br>\n",
    "[sorted()](https://docs.python.org/3/library/functions.html#sorted) funskjonen lar deg sortere en liste."
   ]
  },
  {
   "cell_type": "code",
   "execution_count": 2,
   "metadata": {},
   "outputs": [
    {
     "name": "stdout",
     "output_type": "stream",
     "text": [
      "[7, 8, 9, 12, 23]\n"
     ]
    }
   ],
   "source": [
    "liste = [9, 7, 8, 12, 23]\n",
    "print(sorted(liste))\n"
   ]
  },
  {
   "cell_type": "markdown",
   "metadata": {},
   "source": [
    "*Oppgave: Forsøk sorted() funksjonen på en streng.*"
   ]
  },
  {
   "cell_type": "code",
   "execution_count": null,
   "metadata": {},
   "outputs": [],
   "source": []
  },
  {
   "cell_type": "markdown",
   "metadata": {},
   "source": [
    "**Matematiske funksjoner**<br>\n",
    "I tillegg til de innebygde funksjonene, vil du helt garantert få bruk for modulen [math](https://docs.python.org/3/library/math.html), som er en del av [standardbiblioteket](https://docs.python.org/3/library/index.html) i Python. Her er noen få eksempler på funksjonene i math:"
   ]
  },
  {
   "cell_type": "code",
   "execution_count": 3,
   "metadata": {},
   "outputs": [
    {
     "name": "stdout",
     "output_type": "stream",
     "text": [
      "Absoluttverdien av -4.67 er 4.67\n",
      "e opphøyd i -4.67 er 0.009372269527006058\n",
      "100 Watt er 50.0 dbm\n",
      "kvadratrot av |-4.67| er 2.1610182784974308\n"
     ]
    }
   ],
   "source": [
    "import math\n",
    "\n",
    "x = -4.67\n",
    "\n",
    "x_abs = math.fabs(x)\n",
    "print('Absoluttverdien av {} er {}'.format(x, x_abs))\n",
    "\n",
    "x_exp = math.exp(x)\n",
    "print('e opphøyd i {} er {}'.format(x, x_exp))\n",
    "\n",
    "w = 100\n",
    "dbm = 10*math.log10(w/0.001)\n",
    "print('{} Watt er {} dbm'.format(w, dbm))\n",
    "\n",
    "x_abs_sqroot = math.sqrt(x_abs)\n",
    "print('kvadratrot av |{}| er {}'.format(x, x_abs_sqroot))\n"
   ]
  },
  {
   "cell_type": "markdown",
   "metadata": {},
   "source": [
    "*Oppgave: Lag et program der brukeren kan taste inn a, b og c i funksjonen: $ f(x)=ax^2+bx+c $. Programmet skal så skrive ut nullpunktene til funksjonen. Ref.: [Andregradslignig](https://www.matematikk.org/artikkel.html?tid=154273)*"
   ]
  },
  {
   "cell_type": "code",
   "execution_count": null,
   "metadata": {},
   "outputs": [],
   "source": []
  },
  {
   "cell_type": "markdown",
   "metadata": {},
   "source": [
    "**Tilfeldige tall**<br>\n",
    "En annen nyttig modul i [standardbiblioteket](https://docs.python.org/3/library/index.html) er [random](https://docs.python.org/3/library/random.html). Her er et eksempel hvor vi genererer et tilfeldig tall:"
   ]
  },
  {
   "cell_type": "code",
   "execution_count": 4,
   "metadata": {
    "scrolled": true
   },
   "outputs": [
    {
     "name": "stdout",
     "output_type": "stream",
     "text": [
      "Helt tilfeldig valgte jeg tallet 0.28131089426693123\n"
     ]
    }
   ],
   "source": [
    "import random\n",
    "\n",
    "tilfeldig = random.random()\n",
    "print('Helt tilfeldig valgte jeg tallet {}'.format(tilfeldig))"
   ]
  },
  {
   "cell_type": "markdown",
   "metadata": {},
   "source": [
    "*Oppgave: Bruk modulen random, og lag et program som simulerer [Lotto](https://no.wikipedia.org/wiki/Lotto_(Norge&#41;). Du skal trekke 7 tilfeldige heltall mellom 1 og 34.*"
   ]
  },
  {
   "cell_type": "code",
   "execution_count": null,
   "metadata": {},
   "outputs": [],
   "source": []
  },
  {
   "cell_type": "markdown",
   "metadata": {},
   "source": [
    "*Oppgave: I oppgaven over er det ingen kontroll på om samme tall kommer flere ganger. En kan bruke funskjonen random.sample() for å trekke ut x antall tilfeldig fra en liste. Bruk random.sample() for å lage en lottotrekning uten at det kan bli like tall.*"
   ]
  },
  {
   "cell_type": "code",
   "execution_count": null,
   "metadata": {},
   "outputs": [],
   "source": []
  },
  {
   "cell_type": "markdown",
   "metadata": {},
   "source": [
    "## Numpy og Matplotlib\n",
    "\n",
    "Biblioteket [numpy](https://docs.scipy.org/doc/numpy/reference/index.html) inneholder mange funksjoner for behandling av [vektorer](https://en.wikipedia.org/wiki/Vector_space) og [matriser](https://en.wikipedia.org/wiki/Matrix_(mathematics). Du kan også bruke funksjoner i numpy for å generere lister, slik som i dette eksemplet hvor vi genererer 100 tall mellom -pi (-3.14) og pi (3.14) ved hjelp av funksjonen [numpy.linspace()](https://docs.scipy.org/doc/numpy-1.15.0/reference/generated/numpy.linspace.html)."
   ]
  },
  {
   "cell_type": "code",
   "execution_count": 5,
   "metadata": {},
   "outputs": [
    {
     "name": "stdout",
     "output_type": "stream",
     "text": [
      "[-3.14159265 -3.07812614 -3.01465962 -2.9511931  -2.88772658 -2.82426006\n",
      " -2.76079354 -2.69732703 -2.63386051 -2.57039399 -2.50692747 -2.44346095\n",
      " -2.37999443 -2.31652792 -2.2530614  -2.18959488 -2.12612836 -2.06266184\n",
      " -1.99919533 -1.93572881 -1.87226229 -1.80879577 -1.74532925 -1.68186273\n",
      " -1.61839622 -1.5549297  -1.49146318 -1.42799666 -1.36453014 -1.30106362\n",
      " -1.23759711 -1.17413059 -1.11066407 -1.04719755 -0.98373103 -0.92026451\n",
      " -0.856798   -0.79333148 -0.72986496 -0.66639844 -0.60293192 -0.53946541\n",
      " -0.47599889 -0.41253237 -0.34906585 -0.28559933 -0.22213281 -0.1586663\n",
      " -0.09519978 -0.03173326  0.03173326  0.09519978  0.1586663   0.22213281\n",
      "  0.28559933  0.34906585  0.41253237  0.47599889  0.53946541  0.60293192\n",
      "  0.66639844  0.72986496  0.79333148  0.856798    0.92026451  0.98373103\n",
      "  1.04719755  1.11066407  1.17413059  1.23759711  1.30106362  1.36453014\n",
      "  1.42799666  1.49146318  1.5549297   1.61839622  1.68186273  1.74532925\n",
      "  1.80879577  1.87226229  1.93572881  1.99919533  2.06266184  2.12612836\n",
      "  2.18959488  2.2530614   2.31652792  2.37999443  2.44346095  2.50692747\n",
      "  2.57039399  2.63386051  2.69732703  2.76079354  2.82426006  2.88772658\n",
      "  2.9511931   3.01465962  3.07812614  3.14159265]\n"
     ]
    }
   ],
   "source": [
    "import numpy as np # Her lager vi et alias for numpy så vi kan skrive litt mindre\n",
    "\n",
    "x_verdier = np.linspace(-np.pi, np.pi , num=100)\n",
    "print(x_verdier)"
   ]
  },
  {
   "cell_type": "markdown",
   "metadata": {},
   "source": [
    "Nå kan vi for eksempel regne ut sinus til alle verdiene i lista vi genrerte ved hjelp av [numpy.sin()](https://docs.scipy.org/doc/numpy-1.15.1/reference/generated/numpy.sin.html)"
   ]
  },
  {
   "cell_type": "code",
   "execution_count": 6,
   "metadata": {},
   "outputs": [
    {
     "name": "stdout",
     "output_type": "stream",
     "text": [
      "[-1.22464680e-16 -6.34239197e-02 -1.26592454e-01 -1.89251244e-01\n",
      " -2.51147987e-01 -3.12033446e-01 -3.71662456e-01 -4.29794912e-01\n",
      " -4.86196736e-01 -5.40640817e-01 -5.92907929e-01 -6.42787610e-01\n",
      " -6.90079011e-01 -7.34591709e-01 -7.76146464e-01 -8.14575952e-01\n",
      " -8.49725430e-01 -8.81453363e-01 -9.09631995e-01 -9.34147860e-01\n",
      " -9.54902241e-01 -9.71811568e-01 -9.84807753e-01 -9.93838464e-01\n",
      " -9.98867339e-01 -9.99874128e-01 -9.96854776e-01 -9.89821442e-01\n",
      " -9.78802446e-01 -9.63842159e-01 -9.45000819e-01 -9.22354294e-01\n",
      " -8.95993774e-01 -8.66025404e-01 -8.32569855e-01 -7.95761841e-01\n",
      " -7.55749574e-01 -7.12694171e-01 -6.66769001e-01 -6.18158986e-01\n",
      " -5.67059864e-01 -5.13677392e-01 -4.58226522e-01 -4.00930535e-01\n",
      " -3.42020143e-01 -2.81732557e-01 -2.20310533e-01 -1.58001396e-01\n",
      " -9.50560433e-02 -3.17279335e-02  3.17279335e-02  9.50560433e-02\n",
      "  1.58001396e-01  2.20310533e-01  2.81732557e-01  3.42020143e-01\n",
      "  4.00930535e-01  4.58226522e-01  5.13677392e-01  5.67059864e-01\n",
      "  6.18158986e-01  6.66769001e-01  7.12694171e-01  7.55749574e-01\n",
      "  7.95761841e-01  8.32569855e-01  8.66025404e-01  8.95993774e-01\n",
      "  9.22354294e-01  9.45000819e-01  9.63842159e-01  9.78802446e-01\n",
      "  9.89821442e-01  9.96854776e-01  9.99874128e-01  9.98867339e-01\n",
      "  9.93838464e-01  9.84807753e-01  9.71811568e-01  9.54902241e-01\n",
      "  9.34147860e-01  9.09631995e-01  8.81453363e-01  8.49725430e-01\n",
      "  8.14575952e-01  7.76146464e-01  7.34591709e-01  6.90079011e-01\n",
      "  6.42787610e-01  5.92907929e-01  5.40640817e-01  4.86196736e-01\n",
      "  4.29794912e-01  3.71662456e-01  3.12033446e-01  2.51147987e-01\n",
      "  1.89251244e-01  1.26592454e-01  6.34239197e-02  1.22464680e-16]\n"
     ]
    }
   ],
   "source": [
    "y_verdier = np.sin(x_verdier)\n",
    "print(y_verdier)"
   ]
  },
  {
   "cell_type": "markdown",
   "metadata": {},
   "source": [
    "Vi vil ofte ha behov for å visualisere data. Da er biblioteket [Matplotlib](http://matplotlib.org/) kjekt å bruke. Her skal vi bruke modulen [pyplot](https://matplotlib.org/users/pyplot_tutorial.html) (som er en del av biblioteket Matplotlib) for å tegne en graf av tallene vi genererte ovenfor."
   ]
  },
  {
   "cell_type": "code",
   "execution_count": 7,
   "metadata": {},
   "outputs": [
    {
     "data": {
      "image/png": "[encoded data removed]",
      "text/plain": [
       "<Figure size 432x288 with 1 Axes>"
      ]
     },
     "metadata": {
      "needs_background": "light"
     },
     "output_type": "display_data"
    }
   ],
   "source": [
    "import matplotlib.pyplot as plt\n",
    "plt.plot(x_verdier, y_verdier)\n",
    "plt.show()"
   ]
  },
  {
   "cell_type": "markdown",
   "metadata": {},
   "source": [
    "I eksempelet under plotter vi funksjonen\n",
    "$$s(t) = 1 + \\text{sin}(2\\pi t) \\text{ for alle }x\\in \\{0.0 , 2.0\\}$$\n",
    "Vi bruker også noen flere instillinger på grafen\n"
   ]
  },
  {
   "cell_type": "code",
   "execution_count": 8,
   "metadata": {},
   "outputs": [
    {
     "data": {
      "image/png": "[encoded data removed]",
      "text/plain": [
       "<Figure size 432x288 with 1 Axes>"
      ]
     },
     "metadata": {
      "needs_background": "light"
     },
     "output_type": "display_data"
    }
   ],
   "source": [
    "# Importerer nødvendige biblioteker\n",
    "import matplotlib.pyplot as plt\n",
    "import numpy as np\n",
    "\n",
    "# Funksjonsdata\n",
    "t = np.arange(0.0, 2.0, 0.01) # Angir definisjonsmengden til funksjonen - Punkter for hver 0.01\n",
    "s = 1 + np.sin(2*np.pi*t) # Funksjonen som skal plottes\n",
    "plt.plot(t, s) # Plotter s(t)\n",
    "\n",
    "# Koden under beskriver hvordan koordinatsystemet skal se ut\n",
    "plt.xlabel('Tid (s)') # Navn på x-akse\n",
    "plt.ylabel('Spenning (mV)') # Navn på y-akse\n",
    "plt.title('En sinuskurve') # Tittel på grafen\n",
    "plt.grid(True) # Rutenett\n",
    "plt.show() # Vis graf"
   ]
  },
  {
   "cell_type": "markdown",
   "metadata": {},
   "source": [
    "*Oppgave: Lag et program der brukeren kan taste inn amplitude og frekvens. Programmet skal så tegne den tilsvarende sinusfunksjonen med minst to hele perioder. (Hint: Du skal endre på \"tallene\" i funksjonen og \"definisjonsmengden\".*"
   ]
  },
  {
   "cell_type": "code",
   "execution_count": null,
   "metadata": {},
   "outputs": [],
   "source": []
  },
  {
   "cell_type": "markdown",
   "metadata": {},
   "source": [
    "## Kilde\n",
    "Materialet på denne siden bygger på [Python på 57 minutter](https://notebooks.azure.com/bitjungle/libraries/python-57)"
   ]
  }
 ],
 "metadata": {
  "hide_input": false,
  "kernelspec": {
   "display_name": "Python 3",
   "language": "python",
   "name": "python3"
  },
  "language_info": {
   "codemirror_mode": {
    "name": "ipython",
    "version": 3
   },
   "file_extension": ".py",
   "mimetype": "text/x-python",
   "name": "python",
   "nbconvert_exporter": "python",
   "pygments_lexer": "ipython3",
   "version": "3.7.6"
  }
 },
 "nbformat": 4,
 "nbformat_minor": 2
}
