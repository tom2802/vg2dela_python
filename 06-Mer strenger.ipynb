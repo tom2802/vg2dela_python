{
  "cells": [
    {
      "metadata": {
        "collapsed": true
      },
      "cell_type": "markdown",
      "source": "# Mer om strenger og litt mer om lister"
    },
    {
      "metadata": {},
      "cell_type": "markdown",
      "source": "## Formatering av strenger\nReferanser (docs.python.org): [Fancier Output Formatting](https://docs.python.org/3/tutorial/inputoutput.html#fancier-output-formatting), [Format String Syntax](https://docs.python.org/3/library/string.html#formatstrings)"
    },
    {
      "metadata": {},
      "cell_type": "markdown",
      "source": "Det kan ofte bli uoversiktelig og litt rotete om en bare blindt legger sammen strenger. Det er også ofte behov for å vise en streng med et gitt antall desimaler eller skrive en dato på et annet format enn [ISO 8601](https://no.wikipedia.org/wiki/ISO_8601)."
    },
    {
      "metadata": {},
      "cell_type": "markdown",
      "source": "Når en putter et variablenavn inn i krøllparanteser i en streng, så vil den byttes ut med variableverdien.<br>\nDette gjelder fromaterte strenger (har en liten f foran '') eller ved bruk av .format() metoden."
    },
    {
      "metadata": {
        "trusted": true
      },
      "cell_type": "code",
      "source": "navn = 'Tom'\nfarge = 'rød' \ngjenstand = 'bil'\n# f streng\ntekst = f'{navn} har en {farge} {gjenstand}'\nprint(tekst)",
      "execution_count": null,
      "outputs": []
    },
    {
      "metadata": {
        "trusted": true
      },
      "cell_type": "code",
      "source": "# format() funksjonen\nprint('{} navn har en {} {}'.format(navn, farge, gjenstand))",
      "execution_count": null,
      "outputs": []
    },
    {
      "metadata": {},
      "cell_type": "markdown",
      "source": "format() funskjonen har et miniprogrammeringspråk for å modifisere formatet en viser til i. [Format String Syntax](https://docs.python.org/3/library/string.html#formatstrings)"
    },
    {
      "metadata": {
        "trusted": true
      },
      "cell_type": "code",
      "source": "tall = 32.1456\nprint(f'To desimaler: {tall:.2f}')\nprint(f'Med nuller foran: {tall:010.3f}')\n",
      "execution_count": null,
      "outputs": []
    },
    {
      "metadata": {},
      "cell_type": "markdown",
      "source": "Python har en egen pakke for å håndtere dato og tid - [datetime](https://docs.python.org/3/library/datetime.html?highlight=datetime#module-datetime)"
    },
    {
      "metadata": {
        "trusted": true,
        "scrolled": true
      },
      "cell_type": "code",
      "source": "from datetime import date # Vi importerer date modulen fra datetime pakken\nidag = date.today()\nprint('Datoen i dag er (ISO 8601):', idag)\nprint('Datoen i dag er {:%d.%m.%Y}'.format(idag))",
      "execution_count": null,
      "outputs": []
    },
    {
      "metadata": {},
      "cell_type": "markdown",
      "source": "*Oppgave: Importer modulen datetime fra pakken datetime og skriv ut \"nå verdien\" både med og uten formatering.*"
    },
    {
      "metadata": {
        "trusted": true
      },
      "cell_type": "code",
      "source": "",
      "execution_count": null,
      "outputs": []
    },
    {
      "metadata": {},
      "cell_type": "markdown",
      "source": "## Streng metoder\nReferanse (docs.python.org): [String Methods](https://docs.python.org/3/library/stdtypes.html#string-methods)<br>\nStreng objektet har mange nyttig metoder. Her er noen eksempler."
    },
    {
      "metadata": {
        "trusted": true
      },
      "cell_type": "code",
      "source": "print('Kommaseparert liste:', ','.join(['aaa', 'bbb', 'ccc'])) # .join() slår sammen en liste til en streng\nprint('Indeks for første Y er:', 'QWERTY123'.find('Y')) # .find() finner en sterng i en streng\nprint('Jeg har en rød bil'.replace('rød', 'blå')) # .replace() bytter ut en del av strengen med en annen",
      "execution_count": null,
      "outputs": []
    },
    {
      "metadata": {},
      "cell_type": "markdown",
      "source": "*Oppgave: Gjør en streng om til store bokstaver og gjør sånn at alle ordene begynner med stor bokstav*"
    },
    {
      "metadata": {},
      "cell_type": "markdown",
      "source": "## Finne antall tegn i en streng eller elementer i en liste"
    },
    {
      "metadata": {
        "trusted": true
      },
      "cell_type": "code",
      "source": "# En streng med 9 tegn\nprint('Antall tegn i strengen:', len('123456789'))\n# En liste med 9 elementer\nprint('Antall elementer i listen', len([1,2,3,4,5,6,7,8,9]))",
      "execution_count": null,
      "outputs": []
    },
    {
      "metadata": {},
      "cell_type": "markdown",
      "source": "*Oppgaver:*<br>\n*1. Forsøk å endre strengen til en annen tekst.*<br>\n*2. Forsøk å endre antall elementer i listen.*<br>\n*3. Lag en dict (ordliste) og tell antall elementer i den.*"
    },
    {
      "metadata": {
        "trusted": true
      },
      "cell_type": "code",
      "source": "",
      "execution_count": null,
      "outputs": []
    },
    {
      "metadata": {},
      "cell_type": "markdown",
      "source": "## Beskjæring av strenger og lister (slices)"
    },
    {
      "metadata": {
        "trusted": true
      },
      "cell_type": "markdown",
      "source": "Python har en egen notasjon for å trekke ut deler av en streng eller en liste. Resultatet er en ny streng eller liste."
    },
    {
      "metadata": {
        "trusted": true
      },
      "cell_type": "code",
      "source": "s = 'Hallo verden!'\nprint('Et element fra strengen:', s[6])\nprint('En ny streng med en del av strengen:', s[6:12])\nprint('Annet hver tegn fra strengen:', s[::2])\n",
      "execution_count": null,
      "outputs": []
    },
    {
      "metadata": {},
      "cell_type": "markdown",
      "source": "*Oppgave: Trekk ut \"Hallo\" fra strengen*"
    },
    {
      "metadata": {
        "trusted": true
      },
      "cell_type": "code",
      "source": "",
      "execution_count": null,
      "outputs": []
    }
  ],
  "metadata": {
    "kernelspec": {
      "name": "python36",
      "display_name": "Python 3.6",
      "language": "python"
    },
    "language_info": {
      "mimetype": "text/x-python",
      "nbconvert_exporter": "python",
      "name": "python",
      "pygments_lexer": "ipython3",
      "version": "3.6.6",
      "file_extension": ".py",
      "codemirror_mode": {
        "version": 3,
        "name": "ipython"
      }
    },
    "hide_input": false
  },
  "nbformat": 4,
  "nbformat_minor": 2
}