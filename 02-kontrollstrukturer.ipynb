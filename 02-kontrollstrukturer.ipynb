{
 "cells": [
  {
   "cell_type": "markdown",
   "metadata": {},
   "source": [
    "# Kontrollstrukturer\n",
    "<hr/>\n",
    "<img alt=\"Trafikklys. Lisens: CC0\" style=\"float: right; margin-left: 10px;\" src=\"https://notebooks.azure.com/sauce1971/libraries/vgdatapythonmaster/raw/img%2Ftraffic-light.png\">\n",
    "\n",
    "**En kontrollstruktur i et dataprogram er kodeblokk som velger en vei gjennom programmet basert på analyse av en eller flere variabler. Kontrollstrukterer i dataprogrammer er helt grunnleggende kode for å få et dataprogram til å reagere på en bestemt måte når en spesiell tilstand inntreffer.**\n",
    "\n",
    "Tenk deg at du kjører mot et lyskryss. Når du nærmer deg lyskrysset, må du se på lyset og ta en avgjørelse. Er det grønt, kan du kjøre over krysset. Er det rødt, må du stoppe. Om det er gult, må du gjøre en kjapp vurdering, er det i ferd med å bli grønt eller rødt.\n",
    "\n",
    "Trafikklyset er en variabel, og du må prosessere denne variablen for å velge korrekt utfall. I dataprogrammer gjør vi på samme måte. Vi må hele tiden vurdere verdien til en eller flere variabler, og så ta beslutninger ut ifra hvilken verdi variablene har.\n",
    "\n",
    "Det finnes to hovedtyper av kontrollstrukturer, og vi skal se nærmere på disse nedenfor. I det praktiske eksemplet med lyskrysset, kan vi tenke oss to ulike løsninger:\n",
    "\n",
    "1. Dersom trafikklys er rødt så STOPP, ellers KJØR.\n",
    "2. Så lenge trafikklys er grønt, så fortsett å kjøre.\n",
    "\n",
    "Den første løsningen er en såkalt betinget struktur, og den andre løsningen er en løkke. For at den andre løsningen skal fungere i dette eksemplet, må vi ha en rutine for å stoppe når betingelsen (_\"...så lenge det er grønt...\"_) opphører å være sann."
   ]
  },
  {
   "cell_type": "markdown",
   "metadata": {},
   "source": [
    "## Betingede strukturer  (tester)\n",
    "\n",
    "I nesten alle programmer vil man før eller siden få behov for å teste eller sammenligne verdier slik at programmet kan gjøre ulike ting avhengig av resultatet på testen.\n",
    "\n",
    "### if-test\n",
    "\n",
    "If-kommandoen bruker operatorer til å sammenlikne to verdier, og resultatet av en if-test er enten sann eller falsk. I eksempelet under skrives teksten ut _bare_ hvis variabelen a er lik 1. Prøv å endre på verdien til a, og se hva som skjer.\n",
    "\n",
    "**Legg merke til inrykket under if setningen. En bruker `tabulator` for å lage inrykk. Disse skiller ut de delene av koden som tilhørere en blokk. Det er viktig at alle inrykk i en blokk er like store!**"
   ]
  },
  {
   "cell_type": "code",
   "execution_count": null,
   "metadata": {},
   "outputs": [],
   "source": [
    "a = 1\n",
    "\n",
    "if a == 1:\n",
    "    print('Variablen a er lik', a)\n",
    "    print('Vi er inne i blokken')\n",
    "    \n",
    "print('Vi er ute av blokken')\n",
    "\n",
    "# Du kan printe True/False resultat av en sammenligning direkte.\n",
    "print(a==1)"
   ]
  },
  {
   "cell_type": "markdown",
   "metadata": {},
   "source": [
    "\n",
    "Ofte ønsker man å gjøre litt mer avanserte ting enn kun å sjekke om to størrelser er like. Dette kan løses ved å bruke ulike operatorer. På denne måten kan man sjekke om to størrelser er større enn, mindre enn eller ulike hverandre. Man kan også kombinere flere tester med logiske operatorer som og og eller. Vi kan også lage større og mer sammensatte tester ved å kombinere kommandoene if, elif og else.\n",
    "\n",
    "I tester brukes dobbelt likhetstegn hvis man skal sjekke om to verdier er like. I en test bruker man [logiske sammenligningsvariabler](https://docs.python.org/3/reference/expressions.html#value-comparisons).\n",
    "\n",
    "La oss se på flere eksempel der vi bruker ulike operatorer."
   ]
  },
  {
   "cell_type": "code",
   "execution_count": null,
   "metadata": {},
   "outputs": [],
   "source": [
    "tall_1 = 5\n",
    "tall_2 = 7\n",
    "\n",
    "if tall_1 == tall_2:\n",
    "    print('1. tall_1 er lik tall_2')\n",
    "\n",
    "if tall_1 > tall_2:\n",
    "    print('2. tall_1 er større enn tall_2')\n",
    "\n",
    "if tall_1 >= tall_2:\n",
    "    print('3. tall_1 er større eller lik tall_2')\n",
    "    \n",
    "if tall_1 != tall_2:\n",
    "    print('4. tall_1 er ulik tall_2')"
   ]
  },
  {
   "cell_type": "markdown",
   "metadata": {},
   "source": [
    "*Oppgave: Forsøk forskjellige verdier på tall_1 og tall_2 og se hva som skjer.*\n"
   ]
  },
  {
   "cell_type": "markdown",
   "metadata": {},
   "source": [
    "### elif og logiske kombinasjoner i tester\n",
    "\n",
    "Noen ganger kan det være nødvendig å kombinere flere typer uttrykk og operatorer for å få testet det man ønsker. Hvis man ønsker å kombinere flere tester etter hverandre, brukes kommandoene _elif_ og _else_. Hvis man ønsker å teste flere ting i samme test, brukes kommandoene [_and_](https://en.wikipedia.org/wiki/Logical_conjunction) og [_or_](https://en.wikipedia.org/wiki/Logical_disjunction)\n"
   ]
  },
  {
   "cell_type": "code",
   "execution_count": 4,
   "metadata": {},
   "outputs": [],
   "source": [
    "tall_1 = 10\n",
    "tall_2 = 11\n",
    "\n",
    "if (tall_1 >= tall_2) and (tall_1 > 5):\n",
    "    print('tall_1 er større eller lik tall_2 OG tall_1 er et større enn 5')\n",
    "\n",
    "# Vi kan printe utrykkene direkte for å se True/False resultatene.\n",
    "#print((tall_1 >= tall_2))\n",
    "#print((tall_1 > 5))"
   ]
  },
  {
   "cell_type": "code",
   "execution_count": 12,
   "metadata": {},
   "outputs": [
    {
     "name": "stdout",
     "output_type": "stream",
     "text": [
      "Bilen går\n"
     ]
    }
   ],
   "source": [
    "button_1 = False\n",
    "started = True\n",
    "if started:\n",
    "    if button_1:\n",
    "        print('Blinklys på')\n",
    "    else:\n",
    "        print('Bilen går')\n",
    "else:\n",
    "    print('Har ikke startet')"
   ]
  },
  {
   "cell_type": "markdown",
   "metadata": {},
   "source": [
    "`elif` lar deg kobinere flere uttrykk og `else` slår til om ikke noen av de foregeående uttrykkene slår til."
   ]
  },
  {
   "cell_type": "code",
   "execution_count": null,
   "metadata": {},
   "outputs": [],
   "source": [
    "if (tall_1 >= tall_2) and (tall_1 > 5):\n",
    "    print('tall_1 er større eller lik tall_2 OG tall_1 er et større enn 5')\n",
    "elif (tall_1 != tall_2) or (tall_1 + tall_2 > 10):\n",
    "    print('tall_1 er ulik tall_2 ELLER tall_1 pluss tall_2 er større enn 10')\n",
    "else:\n",
    "    print('Ingen av de foregående if-testene slo til når dette vises')"
   ]
  },
  {
   "cell_type": "markdown",
   "metadata": {},
   "source": [
    "*Oppgave: Forsøk forskjellige verdier på tall_1 og tall_2 og se hva som skjer.*"
   ]
  },
  {
   "cell_type": "markdown",
   "metadata": {},
   "source": [
    "## Input\n",
    "En måte å gi input til programmet ditt er å bruke [input()](https://docs.python.org/3.7/library/functions.html#input) funksjonen."
   ]
  },
  {
   "cell_type": "code",
   "execution_count": null,
   "metadata": {},
   "outputs": [],
   "source": [
    "inn_verdi = input('Skriv inn en verdi: ')\n",
    "print('Verdien du skrev var:', inn_verdi)"
   ]
  },
  {
   "cell_type": "markdown",
   "metadata": {},
   "source": [
    "**Boolske resultater av variabelverdier**<br>\n",
    "En variabel av hvilken som helst type kan i seg selv være True eller False. \n",
    "\n",
    "Eksempler på variabler som vil gi True er: Strenger som har en verdi / er lenger enn 0, tall != 0.\n",
    "\n",
    "Eksempler på variabler som vil gi False er: Variabler med verdien None, Strenger uten innhold / med lengde 0, tall med verdi 0."
   ]
  },
  {
   "cell_type": "code",
   "execution_count": null,
   "metadata": {},
   "outputs": [],
   "source": [
    "s_1 = 'Strengen inneholder tekst'\n",
    "s_2 = '' # Denne strengen inneholder ikke noe\n",
    "if s_1:\n",
    "    print('s_1 har en verdi')\n",
    "else:\n",
    "    print('s_1 inneholder ikke noe')"
   ]
  },
  {
   "cell_type": "markdown",
   "metadata": {},
   "source": [
    "En kan da sjekke om en har skrevet noe i input() feltet ved å se at en blank imput vil være *False*."
   ]
  },
  {
   "cell_type": "code",
   "execution_count": null,
   "metadata": {},
   "outputs": [],
   "source": [
    "inn_verdi = input('Skriv noe: ')\n",
    "if inn_verdi:\n",
    "    print('Du skrev:', inn_verdi)\n",
    "else:\n",
    "    print('Du skrev ikke noe!')"
   ]
  },
  {
   "cell_type": "markdown",
   "metadata": {},
   "source": [
    "*Oppgave: Vi så tidligere på hvordan du regner ut ohms lov. Lag et program med 3 input(). \n",
    "En for hver av variablene i ohms lov.\n",
    "Når du kjører programmet, skal du fylle inn 2 av input boksene og så regner programmet ut den verdien som mangler.*\n",
    "    "
   ]
  },
  {
   "cell_type": "code",
   "execution_count": null,
   "metadata": {},
   "outputs": [],
   "source": []
  },
  {
   "cell_type": "markdown",
   "metadata": {
    "collapsed": true
   },
   "source": [
    "## Løkker\n",
    "\n",
    "\n",
    "**I programmering har vi ofte behov for å gjenta kode mange ganger. For å få til dette bruker man løkker. Løkker har mye til felles med tester, men med den forskjellen at i en løkke gjentas kode intill en betingelse er sann eller usann.**\n",
    "\n",
    "Det finnes to hovedtyper løkker - for-løkker og while-løkker:\n",
    "\n",
    "+ **for** - Gjentar kode et gitt antall ganger\n",
    "+ **while** - Gjentar kode sålenge en betingelse er sann\n",
    "\n",
    "### For-løkker\n",
    "\n",
    "I en for-løkke bestemmer vi hvor mange ganger en kode skal gjentas. Alt dette gjøres i deklarasjonen av løkka. Legg spesielt merke til kommandoen [_range()_](https://docs.python.org/3/library/stdtypes.html#range)."
   ]
  },
  {
   "cell_type": "code",
   "execution_count": null,
   "metadata": {},
   "outputs": [],
   "source": [
    "for tall in range(2,10,2):\n",
    "    print(\"Tellevariabelen tall har nå verdien\", tall)\n",
    "    "
   ]
  },
  {
   "cell_type": "markdown",
   "metadata": {},
   "source": [
    "*Oppgave: Lag en for-løkke som teller fra 0 til 20.*"
   ]
  },
  {
   "cell_type": "code",
   "execution_count": null,
   "metadata": {},
   "outputs": [],
   "source": []
  },
  {
   "cell_type": "markdown",
   "metadata": {},
   "source": [
    "[range()](https://docs.python.org/3.7/library/functions.html#func-range) funsjonen kan egentlig kan ta tre parameter. range(start, stop, step)\n",
    "Start er tallet en begynner på, stop er tallet en teller til minus 1, step er antal en øker med pr. tall."
   ]
  },
  {
   "cell_type": "markdown",
   "metadata": {},
   "source": [
    "*Oppgave: Lag en for-løkke som teller fra 10 til 1.*"
   ]
  },
  {
   "cell_type": "code",
   "execution_count": null,
   "metadata": {},
   "outputs": [],
   "source": []
  },
  {
   "cell_type": "markdown",
   "metadata": {},
   "source": [
    "*Oppgave: Lag en for-løkke som teller annenhvert tall fra 10 til 50.*"
   ]
  },
  {
   "cell_type": "code",
   "execution_count": null,
   "metadata": {},
   "outputs": [],
   "source": []
  },
  {
   "cell_type": "markdown",
   "metadata": {},
   "source": [
    "### for in\n",
    "\n",
    "En annen variant av for-løkker er _for in_. Denne er veldig nyttig når man skal traversere alle elementene i en [liste](https://developers.google.com/edu/python/lists) eller andre [kolleksjoner](https://docs.python.org/3.7/library/collections.html) av variabler."
   ]
  },
  {
   "cell_type": "code",
   "execution_count": null,
   "metadata": {},
   "outputs": [],
   "source": [
    "tekst = 'Halloiverden!' # Husk at en streng er en liste med unicode tegn\n",
    "for bokstav in tekst:\n",
    "    print('Nå skriver vi ut:', bokstav)"
   ]
  },
  {
   "cell_type": "code",
   "execution_count": null,
   "metadata": {},
   "outputs": [],
   "source": [
    "navneliste = ['Per', 'Pål', 'Espen', 'Nils']\n",
    "for navn in navneliste:\n",
    "    print('Hei', navn, 'hvordan går det med deg?')"
   ]
  },
  {
   "cell_type": "markdown",
   "metadata": {},
   "source": [
    "*Oppgave: Prøv å lage en ordliste (dict) og kjør en for løkke på den*"
   ]
  },
  {
   "cell_type": "code",
   "execution_count": null,
   "metadata": {},
   "outputs": [],
   "source": []
  },
  {
   "cell_type": "markdown",
   "metadata": {},
   "source": [
    "## While-løkker\n",
    "\n",
    "\n",
    "En [while-løkke](https://en.wikipedia.org/wiki/While_loop#Python) har veldig lik funksjonalitet som for-løkker. Forskjellen er at i en while-løkke så må tellevariabelen deklarereres på forhånd, og den må økes eller minkes manuelt inne i koden. Alt dette gjøres i deklarasjonen på en for-løkke.\n"
   ]
  },
  {
   "cell_type": "code",
   "execution_count": null,
   "metadata": {},
   "outputs": [],
   "source": [
    "teller = 0\n",
    "while teller < 9:\n",
    "   print('Telleren har nå verdien:', teller)\n",
    "   teller = teller + 1\n",
    "print('while-løkken er nå avsluttet')"
   ]
  },
  {
   "cell_type": "markdown",
   "metadata": {
    "slideshow": {
     "slide_type": "subslide"
    }
   },
   "source": [
    "*Oppgave: Kan du få while løkken til å telle nedover fra 8 til 0?*"
   ]
  },
  {
   "cell_type": "code",
   "execution_count": null,
   "metadata": {},
   "outputs": [],
   "source": []
  },
  {
   "cell_type": "markdown",
   "metadata": {},
   "source": [
    "## Kilde"
   ]
  },
  {
   "cell_type": "markdown",
   "metadata": {},
   "source": [
    "Materialet på denne siden bygger på [Python på 57 minutter](https://notebooks.azure.com/bitjungle/libraries/python-57)"
   ]
  }
 ],
 "metadata": {
  "hide_input": false,
  "kernelspec": {
   "display_name": "Python 3",
   "language": "python",
   "name": "python3"
  },
  "language_info": {
   "codemirror_mode": {
    "name": "ipython",
    "version": 3
   },
   "file_extension": ".py",
   "mimetype": "text/x-python",
   "name": "python",
   "nbconvert_exporter": "python",
   "pygments_lexer": "ipython3",
   "version": "3.8.5"
  }
 },
 "nbformat": 4,
 "nbformat_minor": 2
}
