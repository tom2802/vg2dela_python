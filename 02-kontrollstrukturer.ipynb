{
  "cells": [
    {
      "metadata": {},
      "cell_type": "markdown",
      "source": "# Kontrollstrukturer\n<hr/>\n<img alt=\"Trafikklys. Lisens: CC0\" style=\"float: right; margin-left: 10px;\" src=\"https://notebooks.azure.com/sauce1971/libraries/vgdatapythonmaster/raw/img%2Ftraffic-light.png\">\n\n**En kontrollstruktur i et dataprogram er kodeblokk som velger en vei gjennom programmet basert på analyse av en eller flere variabler. Kontrollstrukterer i dataprogrammer er helt grunnleggende kode for å få et dataprogram til å reagere på en bestemt måte når en spesiell tilstand inntreffer.**\n\nTenk deg at du kjører mot et lyskryss. Når du nærmer deg lyskrysset, må du se på lyset og ta en avgjørelse. Er det grønt, kan du kjøre over krysset. Er det rødt, må du stoppe. Om det er gult, må du gjøre en kjapp vurdering, er det i ferd med å bli grønt eller rødt.\n\nTrafikklyset er en variabel, og du må prosessere denne variablen for å velge korrekt utfall. I dataprogrammer gjør vi på samme måte. Vi må hele tiden vurdere verdien til en eller flere variabler, og så ta beslutninger ut ifra hvilken verdi variablene har.\n\nDet finnes to hovedtyper av kontrollstrukturer, og vi skal se nærmere på disse nedenfor. I det praktiske eksemplet med lyskrysset, kan vi tenke oss to ulike løsninger:\n\n1. Dersom trafikklys er rødt så STOPP, ellers KJØR.\n2. Så lenge trafikklys er grønt, så fortsett å kjøre.\n\nDen første løsningen er en såkalt betinget struktur, og den andre løsningen er en løkke. For at den andre løsningen skal fungere i dette eksemplet, må vi ha en rutine for å stoppe når betingelsen (_\"...så lenge det er grønt...\"_) opphører å være sann."
    },
    {
      "metadata": {},
      "cell_type": "markdown",
      "source": "## Betingede strukturer  (tester)\n\nI nesten alle programmer vil man før eller siden få behov for å teste eller sammenligne verdier slik at programmet kan gjøre ulike ting avhengig av resultatet på testen.\n\n### if-test\n\nIf-kommandoen bruker operatorer til å sammenlikne to verdier, og resultatet av en if-test er enten sann eller falsk. I eksempelet under skrives teksten ut _bare_ hvis variabelen a er lik 1. Prøv å endre på verdien til a, og se hva som skjer.\n\n**Legg merke til inrykket under if setningen. En bruker `tabulator` for å lage inrykk. Disse skiller ut de delene av koden som tilhørere en blokk. Det er viktig at alle inrykk i en blokk er like store!**"
    },
    {
      "metadata": {
        "trusted": true
      },
      "cell_type": "code",
      "source": "a = 1\n\nif a == 1:\n    print('Variablen a er lik', a)\n    print('Vi er inne i blokken')\n    \nprint('Vi er ute av blokken')\n\n# Du kan printe True/False resultat av en sammenligning direkte.\nprint(a==1)",
      "execution_count": null,
      "outputs": []
    },
    {
      "metadata": {},
      "cell_type": "markdown",
      "source": "\nOfte ønsker man å gjøre litt mer avanserte ting enn kun å sjekke om to størrelser er like. Dette kan løses ved å bruke ulike operatorer. På denne måten kan man sjekke om to størrelser er større enn, mindre enn eller ulike hverandre. Man kan også kombinere flere tester med logiske operatorer som og og eller. Vi kan også lage større og mer sammensatte tester ved å kombinere kommandoene if, elif og else.\n\nI tester brukes dobbelt likhetstegn hvis man skal sjekke om to verdier er like. I en test bruker man [logiske sammenligningsvariabler](https://docs.python.org/3/reference/expressions.html#value-comparisons).\n\nLa oss se på flere eksempel der vi bruker ulike operatorer."
    },
    {
      "metadata": {
        "trusted": true
      },
      "cell_type": "code",
      "source": "tall_1 = 5\ntall_2 = 7\n\nif tall_1 == tall_2:\n    print('1. tall_1 er lik tall_2')\n\nif tall_1 > tall_2:\n    print('2. tall_1 er større enn tall_2')\n\nif tall_1 >= tall_2:\n    print('3. tall_1 er større eller lik tall_2')\n    \nif tall_1 != tall_2:\n    print('4. tall_1 er ulik tall_2')",
      "execution_count": null,
      "outputs": []
    },
    {
      "metadata": {},
      "cell_type": "markdown",
      "source": "*Oppgave: Forsøk forskjellige verdier på tall_1 og tall_2 og se hva som skjer.*\n"
    },
    {
      "metadata": {},
      "cell_type": "markdown",
      "source": "### elif og logiske kombinasjoner i tester\n\nNoen ganger kan det være nødvendig å kombinere flere typer uttrykk og operatorer for å få testet det man ønsker. Hvis man ønsker å kombinere flere tester etter hverandre, brukes kommandoene _elif_ og _else_. Hvis man ønsker å teste flere ting i samme test, brukes kommandoene [_and_](https://en.wikipedia.org/wiki/Logical_conjunction) og [_or_](https://en.wikipedia.org/wiki/Logical_disjunction)\n"
    },
    {
      "metadata": {
        "trusted": true
      },
      "cell_type": "code",
      "source": "tall_1 = 10\ntall_2 = 11\n\nif (tall_1 >= tall_2) and (tall_1 > 5):\n    print('tall_1 er større eller lik tall_2 OG tall_1 er et større enn 5')\n\n# Vi kan printe utrykkene direkte for å se True/False resultatene.\n#print((tall_1 >= tall_2))\n#print((tall_1 > 5))",
      "execution_count": 4,
      "outputs": []
    },
    {
      "metadata": {
        "trusted": true
      },
      "cell_type": "code",
      "source": "button_1 = False\nstarted = True\nif started:\n    if button_1:\n        print('Blinklys på')\n    else:\n        print('Bilen går')\nelse:\n    print('Har ikke startet')",
      "execution_count": 12,
      "outputs": [
        {
          "output_type": "stream",
          "text": "Bilen går\n",
          "name": "stdout"
        }
      ]
    },
    {
      "metadata": {},
      "cell_type": "markdown",
      "source": "`elif` lar deg kobinere flere uttrykk og `else` slår til om ikke noen av de foregeående uttrykkene slår til."
    },
    {
      "metadata": {
        "trusted": true
      },
      "cell_type": "code",
      "source": "if (tall_1 >= tall_2) and (tall_1 > 5):\n    print('tall_1 er større eller lik tall_2 OG tall_1 er et større enn 5')\nelif (tall_1 != tall_2) or (tall_1 + tall_2 > 10):\n    print('tall_1 er ulik tall_2 ELLER tall_1 pluss tall_2 er større enn 10')\nelse:\n    print('Ingen av de foregående if-testene slo til når dette vises')",
      "execution_count": null,
      "outputs": []
    },
    {
      "metadata": {},
      "cell_type": "markdown",
      "source": "*Oppgave: Forsøk forskjellige verdier på tall_1 og tall_2 og se hva som skjer.*"
    },
    {
      "metadata": {},
      "cell_type": "markdown",
      "source": "## Input\nEn måte å gi input til programmet ditt er å bruke [input()](https://docs.python.org/3.7/library/functions.html#input) funksjonen."
    },
    {
      "metadata": {
        "trusted": true
      },
      "cell_type": "code",
      "source": "inn_verdi = input('Skriv inn en verdi: ')\nprint('Verdien du skrev var:', inn_verdi)",
      "execution_count": null,
      "outputs": []
    },
    {
      "metadata": {},
      "cell_type": "markdown",
      "source": "**Boolske resultater av variabelverdier**<br>\nEn variabel av hvilken som helst type kan i seg selv være True eller False. \n\nEksempler på variabler som vil gi True er: Strenger som har en verdi / er lenger enn 0, tall != 0.\n\nEksempler på variabler som vil gi False er: Variabler med verdien None, Strenger uten innhold / med lengde 0, tall med verdi 0."
    },
    {
      "metadata": {
        "trusted": true
      },
      "cell_type": "code",
      "source": "s_1 = 'Strengen inneholder tekst'\ns_2 = '' # Denne strengen inneholder ikke noe\nif s_1:\n    print('s_1 har en verdi')\nelse:\n    print('s_1 inneholder ikke noe')",
      "execution_count": null,
      "outputs": []
    },
    {
      "metadata": {},
      "cell_type": "markdown",
      "source": "En kan da sjekke om en har skrevet noe i input() feltet ved å se at en blank imput vil være *False*."
    },
    {
      "metadata": {
        "trusted": true
      },
      "cell_type": "code",
      "source": "inn_verdi = input('Skriv noe: ')\nif inn_verdi:\n    print('Du skrev:', inn_verdi)\nelse:\n    print('Du skrev ikke noe!')",
      "execution_count": null,
      "outputs": []
    },
    {
      "metadata": {},
      "cell_type": "markdown",
      "source": "*Oppgave: Vi så tidligere på hvordan du regner ut ohms lov. Lag et program med 3 input(). \nEn for hver av variablene i ohms lov.\nNår du kjører programmet, skal du fylle inn 2 av input boksene og så regner programmet ut den verdien som mangler.*\n    "
    },
    {
      "metadata": {
        "trusted": true
      },
      "cell_type": "code",
      "source": "",
      "execution_count": null,
      "outputs": []
    },
    {
      "metadata": {
        "collapsed": true
      },
      "cell_type": "markdown",
      "source": "## Løkker\n\n\n**I programmering har vi ofte behov for å gjenta kode mange ganger. For å få til dette bruker man løkker. Løkker har mye til felles med tester, men med den forskjellen at i en løkke gjentas kode intill en betingelse er sann eller usann.**\n\nDet finnes to hovedtyper løkker - for-løkker og while-løkker:\n\n+ **for** - Gjentar kode et gitt antall ganger\n+ **while** - Gjentar kode sålenge en betingelse er sann\n\n### For-løkker\n\nI en for-løkke bestemmer vi hvor mange ganger en kode skal gjentas. Alt dette gjøres i deklarasjonen av løkka. Legg spesielt merke til kommandoen [_range()_](https://docs.python.org/3/library/stdtypes.html#range)."
    },
    {
      "metadata": {
        "trusted": true
      },
      "cell_type": "code",
      "source": "for tall in range(2,10,2):\n    print(\"Tellevariabelen tall har nå verdien\", tall)\n    ",
      "execution_count": null,
      "outputs": []
    },
    {
      "metadata": {},
      "cell_type": "markdown",
      "source": "*Oppgave: Lag en for-løkke som teller fra 0 til 20.*"
    },
    {
      "metadata": {
        "trusted": true
      },
      "cell_type": "code",
      "source": "",
      "execution_count": null,
      "outputs": []
    },
    {
      "metadata": {},
      "cell_type": "markdown",
      "source": "[range()](https://docs.python.org/3.7/library/functions.html#func-range) funsjonen kan egentlig kan ta tre parameter. range(start, stop, step)\nStart er tallet en begynner på, stop er tallet en teller til minus 1, step er antal en øker med pr. tall."
    },
    {
      "metadata": {},
      "cell_type": "markdown",
      "source": "*Oppgave: Lag en for-løkke som teller fra 10 til 1.*"
    },
    {
      "metadata": {
        "trusted": true
      },
      "cell_type": "code",
      "source": "",
      "execution_count": null,
      "outputs": []
    },
    {
      "metadata": {},
      "cell_type": "markdown",
      "source": "*Oppgave: Lag en for-løkke som teller annenhvert tall fra 10 til 50.*"
    },
    {
      "metadata": {
        "trusted": true
      },
      "cell_type": "code",
      "source": "",
      "execution_count": null,
      "outputs": []
    },
    {
      "metadata": {},
      "cell_type": "markdown",
      "source": "### for in\n\nEn annen variant av for-løkker er _for in_. Denne er veldig nyttig når man skal traversere alle elementene i en [liste](https://developers.google.com/edu/python/lists) eller andre [kolleksjoner](https://docs.python.org/3.7/library/collections.html) av variabler."
    },
    {
      "metadata": {
        "trusted": true
      },
      "cell_type": "code",
      "source": "tekst = 'Halloiverden!' # Husk at en streng er en liste med unicode tegn\nfor bokstav in tekst:\n    print('Nå skriver vi ut:', bokstav)",
      "execution_count": null,
      "outputs": []
    },
    {
      "metadata": {
        "trusted": true
      },
      "cell_type": "code",
      "source": "navneliste = ['Per', 'Pål', 'Espen', 'Nils']\nfor navn in navneliste:\n    print('Hei', navn, 'hvordan går det med deg?')",
      "execution_count": null,
      "outputs": []
    },
    {
      "metadata": {},
      "cell_type": "markdown",
      "source": "*Oppgave: Prøv å lage en ordliste (dict) og kjør en for løkke på den*"
    },
    {
      "metadata": {
        "trusted": true
      },
      "cell_type": "code",
      "source": "",
      "execution_count": null,
      "outputs": []
    },
    {
      "metadata": {},
      "cell_type": "markdown",
      "source": "## While-løkker\n\n\nEn [while-løkke](https://en.wikipedia.org/wiki/While_loop#Python) har veldig lik funksjonalitet som for-løkker. Forskjellen er at i en while-løkke så må tellevariabelen deklarereres på forhånd, og den må økes eller minkes manuelt inne i koden. Alt dette gjøres i deklarasjonen på en for-løkke.\n"
    },
    {
      "metadata": {
        "trusted": true
      },
      "cell_type": "code",
      "source": "teller = 0\nwhile teller < 9:\n   print('Telleren har nå verdien:', teller)\n   teller = teller + 1\nprint('while-løkken er nå avsluttet')",
      "execution_count": null,
      "outputs": []
    },
    {
      "metadata": {
        "slideshow": {
          "slide_type": "subslide"
        }
      },
      "cell_type": "markdown",
      "source": "*Oppgave: Kan du få while løkken til å telle nedover fra 8 til 0?*"
    },
    {
      "metadata": {
        "trusted": true
      },
      "cell_type": "code",
      "source": "",
      "execution_count": null,
      "outputs": []
    },
    {
      "metadata": {},
      "cell_type": "markdown",
      "source": "## Kilde"
    },
    {
      "metadata": {},
      "cell_type": "markdown",
      "source": "Materialet på denne siden bygger på [Python på 57 minutter](https://notebooks.azure.com/bitjungle/libraries/python-57)"
    }
  ],
  "metadata": {
    "kernelspec": {
      "name": "python3",
      "display_name": "Python 3",
      "language": "python"
    },
    "language_info": {
      "mimetype": "text/x-python",
      "nbconvert_exporter": "python",
      "name": "python",
      "file_extension": ".py",
      "version": "3.5.4",
      "pygments_lexer": "ipython3",
      "codemirror_mode": {
        "version": 3,
        "name": "ipython"
      }
    },
    "hide_input": false
  },
  "nbformat": 4,
  "nbformat_minor": 2
}