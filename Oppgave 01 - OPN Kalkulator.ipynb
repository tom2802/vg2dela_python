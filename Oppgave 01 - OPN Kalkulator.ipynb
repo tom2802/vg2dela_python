{
  "cells": [
    {
      "metadata": {
        "collapsed": true
      },
      "cell_type": "markdown",
      "source": "# OPN Kalkulator"
    },
    {
      "metadata": {
        "slideshow": {
          "slide_type": "slide"
        }
      },
      "cell_type": "markdown",
      "source": "I denne oppgaven skal du lage en [OPN (RPN) kalkulator](https://no.wikipedia.org/wiki/Omvendt_polsk_notasjon). OPN står for \"Omvendt Polsk Notasjon\". Med en RPN kalkulator skriver du tallene inn før du utfører operasjonen på dem. Tallene legges i en liste. Når en så angir en operasjon, så vil operasjonen plukke de to siste tallene (som oftest) i listen og utføre en operasjon på dem. De tallene operasjonen utføres på vil tas bort fra listen og resultatet av operasjonen legges til listen. "
    },
    {
      "metadata": {},
      "cell_type": "markdown",
      "source": "<table>\n    <tr>\n        <td>\n            <table>\n                <tr><td>23</td></tr>\n                <tr><td>14</td></tr>\n                <tr><td>4</td></tr>\n                <tr><td>*Her har vi lagt til tre tall i listen*</td></tr>\n            </table>\n        </td>\n        <td><h3>&nbsp;+&nbsp;</h3></td>\n        <td>\n            <table>\n                <tr><td></td></tr>\n                <tr><td>14</td></tr>\n                <tr><td>4</td></tr>\n                <tr><td>*Når vi angir legge sammen (+), så ser en på de to siste tallene*</td></tr>\n            </table>\n        </td>\n        <td><h3>&nbsp;=&nbsp;</h3></td>\n        <td>\n            <table>\n                <tr><td></td></tr>\n                <tr><td>23</td></tr>\n                <tr><td>28</td></tr>\n                <tr><td>*De to siste tallene tas bort fra listen og svaret legges tilbake i listen*</td></tr>\n            </table>\n        </td>\n    </tr>\n</table>"
    },
    {
      "metadata": {},
      "cell_type": "markdown",
      "source": "Du kan laste ned og forsøke en OPN Kalkulator her: [RPNcalculator](https://sourceforge.net/projects/rpncalcnet/)."
    },
    {
      "metadata": {},
      "cell_type": "markdown",
      "source": "Når du løser oppgaven bruker du input funksjonen for å legge til verdier i listen (append). Du må lage en funksjon for hver operasjon. Du må bruke logiske uttrykk (if, else) for å sjekke hva slags operasjon som utføres. Tekst en skriver inn i en input er datatypen string, denne må konverteres til tall. Du kan lese om lister og stakker i Python her: [Using Lists as Stacks](https://docs.python.org/3.7/tutorial/datastructures.html#using-lists-as-stacks) "
    },
    {
      "metadata": {},
      "cell_type": "markdown",
      "source": "Følgende operasjoner skal implementeres.\n<table style=\"float:left;\">\n    <tr><td>+</td><td>Legge sammen</td></tr>\n    <tr><td>-</td><td>Trekke fra</td></tr>\n    <tr><td>*</td><td>Gange</td></tr>\n    <tr><td>/</td><td>Dele</td></tr>\n    <tr><td>**</td><td>Opphøyd i</td></tr>\n    <tr><td>%</td><td>Modulus</td></tr>\n    <tr><td>d</td><td>del - Slette siste element i stacken</td></tr>\n    <tr><td></td><td>Blank - kopiere siste element i listen</td></tr>\n</table>\n"
    },
    {
      "metadata": {},
      "cell_type": "markdown",
      "source": "Før programmet skal du skrive en beskrivelse av programmet!"
    },
    {
      "metadata": {},
      "cell_type": "markdown",
      "source": "## Tips til løsningen"
    },
    {
      "metadata": {},
      "cell_type": "markdown",
      "source": "- Tenk litt gjennom hvordan dette skal løses.\n- Prøv en og en funskjon som du implementerer - test ofte at ting fungerer.\n- Det meste du trenger til oppgaven finner du i materialet vi har vært gjennom.\n- Bruk Google om du ikke helt husker / vet hvordan en funskjon fungerer."
    },
    {
      "metadata": {
        "trusted": true
      },
      "cell_type": "code",
      "source": "liste = []\ninn = ''\ndef add(stack):\n    x = stack.pop()\n    y = stack.pop()\n    stack.append(float(y)+float(x))\n    return stack\n    \nwhile inn != 'x':\n    inn = input('Tall eller operasjon: ')\n    if inn == '+':\n        liste = add(liste)\n    else:\n        liste.append(inn)\n    print(liste)",
      "execution_count": null,
      "outputs": [
        {
          "output_type": "stream",
          "name": "stdout",
          "text": "Tall eller operasjon: 12\n['12']\nTall eller operasjon: 23\n['12', '23']\nTall eller operasjon: +\n[35.0]\n"
        }
      ]
    },
    {
      "metadata": {},
      "cell_type": "markdown",
      "source": "## Ekstraoppgave nivå 1"
    },
    {
      "metadata": {},
      "cell_type": "markdown",
      "source": "I tillegg kan du implemetere følgende funksjoner.\n<table style=\"float:left;\">\n    <tr><td>s</td><td>Swap - bytt plass på de to siste elementene</td></tr>\n    <tr><td>j</td><td>Roter stakken nedover - siste elementet flyttes først</td></tr>\n    <tr><td>k</td><td>Roter stakken oppover - første elementet flyttes til sist </td></tr>\n    <tr><td>s</td><td>Swap - de to siste elemntene bytter plass</td></tr>\n    <tr><td>**</td><td>Opphøyd i</td></tr>\n    <tr><td>%</td><td>Modulus</td></tr>\n    <tr><td>d</td><td>Slette siste element i stacken</td></tr>\n</table>"
    },
    {
      "metadata": {},
      "cell_type": "markdown",
      "source": "## Ekstraoppgave nivå 2"
    },
    {
      "metadata": {},
      "cell_type": "markdown",
      "source": "Sørg for å håndtere feilsituasjoner. Kommandoer som ikke eksisterer. Sjekk også at det faktisk er tall og ikke eventuelle kombinasjoner av tall og bokstaver. "
    },
    {
      "metadata": {},
      "cell_type": "markdown",
      "source": "## Ekstraoppgave nivå 3"
    },
    {
      "metadata": {},
      "cell_type": "markdown",
      "source": "Det er mange andre maematisk funksjoner om en ser på kalkulatoren som en kan laste ned. Mange av dem opererer bare på det siste tallen i stakken. Implementer flere av disse."
    },
    {
      "metadata": {
        "trusted": true
      },
      "cell_type": "code",
      "source": "",
      "execution_count": null,
      "outputs": []
    },
    {
      "metadata": {},
      "cell_type": "markdown",
      "source": "Jupyter notisboken sendes til min e-post når dere er klare senest. tom.oyvind.hogstad@t-fk.no. (Gå til file > download > Notebook for å ta ned boken som en fil)"
    },
    {
      "metadata": {},
      "cell_type": "markdown",
      "source": "Eksempel refactored for å kunne brukes som modul"
    },
    {
      "metadata": {
        "trusted": true
      },
      "cell_type": "code",
      "source": "liste = []\ninn = ''\ndef add(stack):\n    x = stack.pop()\n    y = stack.pop()\n    stack.append(float(y)+float(x))\n    return stack\n\n\ndef calculate(stack, op):\n    liste = stack\n    inn = op\n    if inn == '+':\n        liste = add(liste)\n    else:\n        liste.append(inn)\n    \n    return liste\n\nif __name__ == '__main__':    \n    while inn != 'x':\n        inn = input('Tall eller operasjon: ')\n        liste = calculate(liste, inn)\n        print(liste)\n",
      "execution_count": 1,
      "outputs": [
        {
          "output_type": "stream",
          "name": "stdout",
          "text": "Tall eller operasjon: 12\n['12']\nTall eller operasjon: 34\n['12', '34']\nTall eller operasjon: +\n[46.0]\nTall eller operasjon: x\n[46.0, 'x']\n"
        }
      ]
    }
  ],
  "metadata": {
    "kernelspec": {
      "name": "python36",
      "display_name": "Python 3.6",
      "language": "python"
    },
    "language_info": {
      "mimetype": "text/x-python",
      "nbconvert_exporter": "python",
      "name": "python",
      "pygments_lexer": "ipython3",
      "version": "3.6.6",
      "file_extension": ".py",
      "codemirror_mode": {
        "version": 3,
        "name": "ipython"
      }
    },
    "hide_input": false
  },
  "nbformat": 4,
  "nbformat_minor": 2
}