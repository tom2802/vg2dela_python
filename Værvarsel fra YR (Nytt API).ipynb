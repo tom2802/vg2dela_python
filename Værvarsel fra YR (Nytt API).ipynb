{
 "cells": [
  {
   "cell_type": "markdown",
   "metadata": {},
   "source": [
    "# Hvordan hente data fra YR"
   ]
  },
  {
   "cell_type": "markdown",
   "metadata": {},
   "source": [
    "\n",
    "[Introduksjon for utviklere fra Yr](https://developer.yr.no/)"
   ]
  },
  {
   "cell_type": "markdown",
   "metadata": {},
   "source": [
    "[How To fra Yr](https://developer.yr.no/doc/locationforecast/HowTO/)"
   ]
  },
  {
   "cell_type": "markdown",
   "metadata": {},
   "source": [
    "[Dokuemtasjon fra Met](https://api.met.no/weatherapi/documentation)"
   ]
  },
  {
   "cell_type": "markdown",
   "metadata": {},
   "source": [
    "[Github med kode fra TØH](https://github.com/tom2802/vg2dela_python)"
   ]
  },
  {
   "cell_type": "markdown",
   "metadata": {},
   "source": [
    "[Dokumentasjon og beskrivelse av requests modulen](https://requests.readthedocs.io/en/master/)"
   ]
  },
  {
   "cell_type": "markdown",
   "metadata": {},
   "source": [
    "## Location Forecast\n",
    "Dette API'er gir deg værmeldingen for de kommende dagene.<br>\n",
    "[Using Locationforecast](https://developer.yr.no/doc/locationforecast/HowTO/)<br>\n",
    "[Locationforecast (API)](https://api.met.no/weatherapi/locationforecast/2.0/documentation)<br>\n",
    "[Datastruktur (JSON)](https://api.met.no/weatherapi/locationforecast/2.0/compact?lat=60&lon=11) (Bruk denne lenken for å grave deg ned i dataene)<br>"
   ]
  },
  {
   "cell_type": "code",
   "execution_count": null,
   "metadata": {},
   "outputs": [],
   "source": [
    "import requests\n",
    "#59.17285329921516, 9.618022771697506\n",
    "url = 'https://api.met.no/weatherapi/locationforecast/2.0/compact?lat=60&lon=11'\n",
    "\n",
    "headers = {\n",
    "    'User-Agent': 'Skogmo VG2DATa Agent 1.0',\n",
    "    'sitename': 'tom.oyvind.hogstad@vtfk.no', # YR krever denne - bruk egen e-post adresse  \n",
    "}\n",
    "\n",
    "response = requests.get(url, headers=headers) # Henter en webside / data\n",
    "json = response.json() # Denne funksjonen konverterer json reultate til en python dict\n",
    "\n",
    "timeseries = json['properties']['timeseries'] # Tar ut bare timeseries nøkkelen, for å skrive litt mindre senere\n",
    "\n",
    "for t in timeseries:\n",
    "    print(t['time'], t['data']['instant']['details']['air_temperature'])\n",
    "    #print(t) # Print t for å se da andre dataene du finner\n"
   ]
  },
  {
   "cell_type": "code",
   "execution_count": null,
   "metadata": {},
   "outputs": [],
   "source": []
  },
  {
   "cell_type": "markdown",
   "metadata": {},
   "source": [
    "**Oppgaver:**<br> *1. Koden over viser lufttemperaturen på på koridnatet 60,11 (60 grader nord og 9 grader øst). \n",
    "Finn koordinatene der du er og bytt ut med dem i URL. Du kan finne koordinater ved i Google Maps.*<br>\n",
    "*2. Skriv ut de andre dataene du kan hente fra hver timeseries i locationforecast*<br>\n",
    "*3. Hent bare ut dagens data.*<br>\n",
    "*4. I dataene så er det også precipitation_amount (regn) neste timen. Skriv ut disse dataene.*\n"
   ]
  },
  {
   "cell_type": "markdown",
   "metadata": {},
   "source": [
    "## Nowcast"
   ]
  },
  {
   "cell_type": "markdown",
   "metadata": {},
   "source": [
    "Dette api'et gir deg regnvarsel for de neste timene. <br>\n",
    "https://api.met.no/weatherapi/nowcast/0.9/documentation"
   ]
  },
  {
   "cell_type": "code",
   "execution_count": null,
   "metadata": {},
   "outputs": [],
   "source": [
    "import requests\n",
    "\n",
    "url = 'https://api.met.no/weatherapi/nowcast/0.9/.json?lat=59.1728&lon=9.6180' # Åpne denne i Chrome for å se data\n",
    "\n",
    "headers = {\n",
    "    'User-Agent': 'Skogmo VG2DATa Agent 1.0',\n",
    "    'sitename': 'tom.oyvind.hogstad@gmail.com', # YR krever denne - Bruk egen\n",
    "}\n",
    "\n",
    "response = requests.get(url, headers=headers)\n",
    "json = response.json()\n",
    "print(json)"
   ]
  },
  {
   "cell_type": "markdown",
   "metadata": {},
   "source": [
    "**Oppgaver:**<br>\n",
    "*1. List ut verdiene for regn med tidspunkt.*<br>\n",
    "*2. Hva er høyden over havet på koordinatet du har valgt - Hjemme eller på hytta?. (Er i datasettet)*<br>\n",
    "*3. For de som ønsker. Det er et bibliotek som heter matplot lib for å skrive ut grafer. Eksempel i \"04-moduler og bibliotere\" notebooken. Det skal også være greit å søke på. Plott disse dataene. (Se også nedbør neste 90 minutter her https://www.yr.no/nb/v%C3%A6rvarsel/daglig-tabell/1-15183/Norge/Rogaland/Stavanger/Stavanger)*"
   ]
  }
 ],
 "metadata": {
  "kernelspec": {
   "display_name": "Python 3",
   "language": "python",
   "name": "python3"
  },
  "language_info": {
   "codemirror_mode": {
    "name": "ipython",
    "version": 3
   },
   "file_extension": ".py",
   "mimetype": "text/x-python",
   "name": "python",
   "nbconvert_exporter": "python",
   "pygments_lexer": "ipython3",
   "version": "3.8.5"
  }
 },
 "nbformat": 4,
 "nbformat_minor": 4
}
