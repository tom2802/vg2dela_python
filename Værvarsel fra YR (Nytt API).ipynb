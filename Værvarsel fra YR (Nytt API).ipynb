{
 "cells": [
  {
   "cell_type": "markdown",
   "metadata": {},
   "source": [
    "# Hvordan hente data fra YR"
   ]
  },
  {
   "cell_type": "markdown",
   "metadata": {},
   "source": [
    "https://developer.yr.no/"
   ]
  },
  {
   "cell_type": "markdown",
   "metadata": {},
   "source": [
    "\n",
    "https://developer.yr.no/doc/locationforecast/HowTO/"
   ]
  },
  {
   "cell_type": "markdown",
   "metadata": {},
   "source": [
    "https://api.met.no/weatherapi/documentation"
   ]
  },
  {
   "cell_type": "markdown",
   "metadata": {},
   "source": [
    "https://github.com/tom2802/vg2dela_python"
   ]
  },
  {
   "cell_type": "markdown",
   "metadata": {},
   "source": [
    "https://requests.readthedocs.io/en/master/"
   ]
  },
  {
   "cell_type": "markdown",
   "metadata": {},
   "source": [
    "## Location Forecast\n",
    "Dette API'er gir deg værmeldingen for de kommende dagene.<br>\n",
    "[Using Locationforecast](https://developer.yr.no/doc/locationforecast/HowTO/)<br>\n",
    "[Locationforecast (API)](https://api.met.no/weatherapi/locationforecast/2.0/documentation)<br>\n",
    "[Datastruktur (JSON)](https://api.met.no/weatherapi/locationforecast/2.0/compact?lat=60&lon=11)<br>"
   ]
  },
  {
   "cell_type": "code",
   "execution_count": null,
   "metadata": {},
   "outputs": [],
   "source": [
    "import requests\n",
    "\n",
    "url = 'https://api.met.no/weatherapi/locationforecast/2.0/compact?lat=60&lon=11'\n",
    "\n",
    "headers = {\n",
    "    'User-Agent': 'Skogmo VG2DATa Agent 1.0',\n",
    "    'sitename': 'tom.oyvind.hogstad@vtfk.no', # YR krever denne  \n",
    "}\n",
    "\n",
    "response = requests.get(url, headers=headers)\n",
    "json = response.json()\n",
    "\n",
    "timeseries = json['properties']['timeseries']\n",
    "\n",
    "for t in timeseries:\n",
    "    print(t['time'], t['data']['instant']['details']['air_temperature'])\n",
    "    # print(t) # Print t for å se da andre dataene du finner\n"
   ]
  },
  {
   "cell_type": "markdown",
   "metadata": {},
   "source": [
    "**Oppgave**:<br> *1. Koden over viser lufttemperaturen på på koridnatet 60,11 (60 grader nord og 9 grader øst). \n",
    "Finn koordinatene der du er og bytt ut med dem i URL. Du kan finne koordinater ved å gå i Google Maps og høyreklikke i karet - Velg menyvalget: \"Hva finnes her\"*<br>\n",
    "*2. Skriv ut de andre dataene du kan hente fra hver timeseries i locationforecast*<br>\n",
    "*3. Hent bare ut dagens data.*"
   ]
  },
  {
   "cell_type": "markdown",
   "metadata": {},
   "source": [
    "## Nowcast"
   ]
  },
  {
   "cell_type": "markdown",
   "metadata": {},
   "source": [
    "https://api.met.no/weatherapi/nowcast/0.9/documentation"
   ]
  },
  {
   "cell_type": "code",
   "execution_count": null,
   "metadata": {},
   "outputs": [],
   "source": [
    "import requests\n",
    "\n",
    "url = 'https://api.met.no/weatherapi/nowcast/0.9/.json?lat=60&lon=11'\n",
    "\n",
    "headers = {\n",
    "    'User-Agent': 'Skogmo VG2DATa Agent 1.0',\n",
    "    'sitename': 'tom.oyvind.hogstad@gmail.com', # YR krever denne \n",
    "}\n",
    "\n",
    "response = requests.get(url, headers=headers)\n",
    "response.json()"
   ]
  }
 ],
 "metadata": {
  "kernelspec": {
   "display_name": "Python 3",
   "language": "python",
   "name": "python3"
  },
  "language_info": {
   "codemirror_mode": {
    "name": "ipython",
    "version": 3
   },
   "file_extension": ".py",
   "mimetype": "text/x-python",
   "name": "python",
   "nbconvert_exporter": "python",
   "pygments_lexer": "ipython3",
   "version": "3.7.6"
  }
 },
 "nbformat": 4,
 "nbformat_minor": 4
}
