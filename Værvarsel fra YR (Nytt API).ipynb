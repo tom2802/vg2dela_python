{
 "cells": [
  {
   "cell_type": "markdown",
   "metadata": {},
   "source": [
    "# Hvordan hente data fra YR"
   ]
  },
  {
   "cell_type": "markdown",
   "metadata": {},
   "source": [
    "\n",
    "[Introduksjon for utviklere fra Yr](https://developer.yr.no/)"
   ]
  },
  {
   "cell_type": "markdown",
   "metadata": {},
   "source": [
    "[How To fra Yr](https://developer.yr.no/doc/locationforecast/HowTO/)"
   ]
  },
  {
   "cell_type": "markdown",
   "metadata": {},
   "source": [
    "[Dokuemtasjon fra Met](https://api.met.no/weatherapi/documentation)"
   ]
  },
  {
   "cell_type": "markdown",
   "metadata": {},
   "source": [
    "[Github med kode fra TØH](https://github.com/tom2802/vg2dela_python)"
   ]
  },
  {
   "cell_type": "markdown",
   "metadata": {},
   "source": [
    "[Dokumentasjon og beskrivelse av requests modulen](https://requests.readthedocs.io/en/master/)"
   ]
  },
  {
   "cell_type": "markdown",
   "metadata": {},
   "source": [
    "## Location Forecast\n",
    "Dette API'er gir deg værmeldingen for de kommende dagene.<br>\n",
    "[Using Locationforecast](https://developer.yr.no/doc/locationforecast/HowTO/)<br>\n",
    "[Locationforecast (API)](https://api.met.no/weatherapi/locationforecast/2.0/documentation)<br>\n",
    "[Datastruktur (JSON)](https://api.met.no/weatherapi/locationforecast/2.0/compact?lat=60&lon=11) (Bruk denne lenken for å grave deg ned i dataene)<br>"
   ]
  },
  {
   "cell_type": "code",
   "execution_count": null,
   "metadata": {},
   "outputs": [],
   "source": [
    "import requests\n",
    "#59.17285329921516, 9.618022771697506 59.21253806279114, 9.589371014084042\n",
    "url = 'https://api.met.no/weatherapi/locationforecast/2.0/compact?lat=59.21253806279114&lon=9.589371014084042'\n",
    "\n",
    "headers = {\n",
    "    'User-Agent': 'Skogmo VG2DATa Agent 1.0',\n",
    "    'sitename': 'tom.oyvind.hogstad@vtfk.no', # YR krever denne - bruk egen e-post adresse  \n",
    "}\n",
    "\n",
    "response = requests.get(url, headers=headers) # Henter en webside / data\n",
    "json = response.json() # Denne funksjonen konverterer json reultate til en python dict\n",
    "\n",
    "timeseries = json['properties']['timeseries'] # Tar ut bare timeseries nøkkelen, for å skrive litt mindre senere\n",
    "\n",
    "for t in timeseries:\n",
    "    print(t['time'], t['data']['instant']['details']['air_temperature'])\n",
    "    #print(t) # Print t for å se da andre dataene du finner\n"
   ]
  },
  {
   "cell_type": "code",
   "execution_count": null,
   "metadata": {},
   "outputs": [],
   "source": [
    "# Løsningsforslag \n",
    "import requests\n",
    "\n",
    "# Importerer date modulen for oppgave 3\n",
    "from datetime import date\n",
    "today = str(date.today()) # Tar ut dagens dato og konverterer til en streng\n",
    "#print(today)\n",
    "\n",
    "\n",
    "coordinates = (70.61393279963836, 22.627836241344955) # Lager en variabel / tuple og kan lime rett inn fra Google maps\n",
    "# Bruker f notasjonen på strenger og kan få coordinatene rett inn\n",
    "url = f'https://api.met.no/weatherapi/locationforecast/2.0/compact?lat={coordinates[0]}&lon={coordinates[1]}'\n",
    "\n",
    "headers = {'User-Agent': 'Skogmo VG2DATa Agent 1.0', 'sitename': 'tom.oyvind.hogstad@vtfk.no'}\n",
    "response = requests.get(url, headers=headers) # Henter en webside / data\n",
    "json = response.json() # Denne funksjonen konverterer json reultate til en python dict\n",
    "\n",
    "for t in json['properties']['timeseries']:\n",
    "    details = t['data']['instant']['details'] # Blir mer lesbart om jeg legger details i en variabel\n",
    "    # Oppgave 3: Sjekker at today string ekisterer i time variablen og skriver bare ut om det er i dag.\n",
    "    if today in t['time']: \n",
    "        # Ved å bruke end=' ', så får jeg ikke linjeskift og kan bruke en print() pr. verdi - blir lettere å lese\n",
    "        print(t['time'], end=' ')\n",
    "        print(details['air_pressure_at_sea_level'], end=' ')\n",
    "        print(details['air_temperature'], end=' ')\n",
    "        print(details['cloud_area_fraction'], end=' ')\n",
    "        print(details['relative_humidity'], end=' ')\n",
    "        print(details['wind_from_direction'], end=' ')\n",
    "        print(details['wind_speed'], end=' ')\n",
    "    \n",
    "        # Oppgave 4, med regn neste time\n",
    "        if 'next_1_hours' in t['data']: # Det er ikke alle timeseries som har nex1_1_hour\n",
    "            print(t['data']['next_1_hours']['details']['precipitation_amount'], end=' ')\n",
    "        else:\n",
    "            print('0.0', end=' ')\n",
    "        \n",
    "        print('') # Tom streng med linjeskift\n",
    "    "
   ]
  },
  {
   "cell_type": "code",
   "execution_count": null,
   "metadata": {},
   "outputs": [],
   "source": []
  },
  {
   "cell_type": "markdown",
   "metadata": {},
   "source": [
    "**Oppgaver:**<br> *1. Koden over viser lufttemperaturen på på koridnatet 60,11 (60 grader nord og 9 grader øst). \n",
    "Finn koordinatene der du er og bytt ut med dem i URL. Du kan finne koordinater ved i Google Maps.*<br>\n",
    "*2. Skriv ut de andre dataene du kan hente fra hver timeseries i locationforecast*<br>\n",
    "*3. Hent bare ut dagens data.*<br>\n",
    "*4. I dataene så er det også precipitation_amount (regn) neste timen. Skriv ut disse dataene.*\n"
   ]
  },
  {
   "cell_type": "markdown",
   "metadata": {},
   "source": [
    "## Nowcast"
   ]
  },
  {
   "cell_type": "markdown",
   "metadata": {},
   "source": [
    "Dette api'et gir deg regnvarsel for de neste timene. <br>\n",
    "https://api.met.no/weatherapi/nowcast/0.9/documentation"
   ]
  },
  {
   "cell_type": "code",
   "execution_count": null,
   "metadata": {},
   "outputs": [],
   "source": [
    "import requests\n",
    "\n",
    "#69.6550769891753, 18.958180746993204\n",
    "\n",
    "url = 'https://api.met.no/weatherapi/nowcast/0.9/.json?lat=69.6550769891753&lon=18.958180746993204' # Åpne denne i Chrome for å se data\n",
    "\n",
    "headers = {\n",
    "    'User-Agent': 'Skogmo VG2DATa Agent 1.0',\n",
    "    'sitename': 'tom.oyvind.hogstad@gmail.com', # YR krever denne - Bruk egen\n",
    "}\n",
    "\n",
    "response = requests.get(url, headers=headers)\n",
    "json = response.json()\n",
    "print(json)"
   ]
  },
  {
   "cell_type": "code",
   "execution_count": null,
   "metadata": {},
   "outputs": [],
   "source": [
    "# Løsningsforslag 1, 2\n",
    "import requests\n",
    "\n",
    "url = 'https://api.met.no/weatherapi/nowcast/0.9/.json?lat=69.6550769891753&lon=18.958180746993204' # Åpne denne i Chrome for å se data\n",
    "\n",
    "headers = {'User-Agent': 'Skogmo VG2DATa Agent 1.0', 'sitename': 'tom.oyvind.hogstad@gmail.com'}\n",
    "\n",
    "response = requests.get(url, headers=headers)\n",
    "json = response.json()\n",
    "for t in json['product']['time']:\n",
    "    print(t['to'], t['location']['precipitation']['value'], t['location']['altitude'])"
   ]
  },
  {
   "cell_type": "code",
   "execution_count": null,
   "metadata": {},
   "outputs": [],
   "source": [
    "# Løsningsforslag 3\n",
    "import requests\n",
    "import matplotlib.pyplot as plt\n",
    "\n",
    "url = 'https://api.met.no/weatherapi/nowcast/0.9/.json?lat=69.6550769891753&lon=18.958180746993204' # Åpne denne i Chrome for å se data\n",
    "\n",
    "headers = {'User-Agent': 'Skogmo VG2DATa Agent 1.0', 'sitename': 'tom.oyvind.hogstad@gmail.com'}\n",
    "\n",
    "response = requests.get(url, headers=headers)\n",
    "json = response.json()\n",
    "\n",
    "# Liste med X og Y verdier for graf\n",
    "x_values = []\n",
    "y_values = []\n",
    "x = 5 # Veriene fra met.no er for hvert 5. minutt\n",
    "for t in json['product']['time']:\n",
    "    x_values.append(x)\n",
    "    y_values.append(t['location']['precipitation']['value'])\n",
    "    x += 5\n",
    "    #print(t['to'], t['location']['precipitation']['value'], t['location']['altitude'])\n",
    "    \n",
    "\n",
    "plt.figure(figsize=(16,8)) # Størrelsen på grafikken\n",
    "    \n",
    "#plt.plot(x_values, y_values) # Plotter x, y\n",
    "\n",
    "# Alternativt som en bar graf\n",
    "plt.bar(x_values, y_values, 4) # Bar med stolpebredde 4\n",
    "\n",
    "\n",
    "# Koden under beskriver hvordan koordinatsystemet skal se ut\n",
    "plt.xlabel('Tid minutter') # Navn på x-akse\n",
    "plt.ylabel('Regn mm') # Navn på y-akse\n",
    "plt.title('Regn neste 2 timer') # Tittel på grafen\n",
    "\n",
    "plt.grid(True) # Rutenett\n",
    "plt.show() # Vis graf    \n",
    "    \n",
    "    "
   ]
  },
  {
   "cell_type": "markdown",
   "metadata": {},
   "source": [
    "**Oppgaver:**<br>\n",
    "*1. List ut verdiene for regn med tidspunkt.*<br>\n",
    "*2. Hva er høyden over havet på koordinatet du har valgt - Hjemme eller på hytta?. (Er i datasettet)*<br>\n",
    "*3. For de som ønsker. Det er et bibliotek som heter matplot lib for å skrive ut grafer. Eksempel i \"04-moduler og bibliotere\" notebooken. Det skal også være greit å søke på. Plott disse dataene. (Se også nedbør neste 90 minutter her https://www.yr.no/nb/v%C3%A6rvarsel/daglig-tabell/1-15183/Norge/Rogaland/Stavanger/Stavanger)*"
   ]
  }
 ],
 "metadata": {
  "kernelspec": {
   "display_name": "Python 3",
   "language": "python",
   "name": "python3"
  },
  "language_info": {
   "codemirror_mode": {
    "name": "ipython",
    "version": 3
   },
   "file_extension": ".py",
   "mimetype": "text/x-python",
   "name": "python",
   "nbconvert_exporter": "python",
   "pygments_lexer": "ipython3",
   "version": "3.8.5"
  }
 },
 "nbformat": 4,
 "nbformat_minor": 4
}
