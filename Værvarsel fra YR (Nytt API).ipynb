{
 "cells": [
  {
   "cell_type": "markdown",
   "metadata": {},
   "source": [
    "# Hvordan hente data fra YR"
   ]
  },
  {
   "cell_type": "markdown",
   "metadata": {},
   "source": [
    "https://developer.yr.no/"
   ]
  },
  {
   "cell_type": "markdown",
   "metadata": {},
   "source": [
    "\n",
    "https://developer.yr.no/doc/locationforecast/HowTO/"
   ]
  },
  {
   "cell_type": "markdown",
   "metadata": {},
   "source": [
    "https://api.met.no/weatherapi/documentation"
   ]
  },
  {
   "cell_type": "markdown",
   "metadata": {},
   "source": [
    "https://github.com/tom2802/vg2dela_python"
   ]
  },
  {
   "cell_type": "markdown",
   "metadata": {},
   "source": [
    "https://requests.readthedocs.io/en/master/"
   ]
  },
  {
   "cell_type": "markdown",
   "metadata": {},
   "source": [
    "## Location Forecast"
   ]
  },
  {
   "cell_type": "code",
   "execution_count": 35,
   "metadata": {},
   "outputs": [
    {
     "name": "stdout",
     "output_type": "stream",
     "text": [
      "2020-11-17T09:00:00Z 5.7\n",
      "2020-11-17T10:00:00Z 6.0\n",
      "2020-11-17T11:00:00Z 6.7\n",
      "2020-11-17T12:00:00Z 8.1\n",
      "2020-11-17T13:00:00Z 8.9\n",
      "2020-11-17T14:00:00Z 9.5\n",
      "2020-11-17T15:00:00Z 9.9\n",
      "2020-11-17T16:00:00Z 10.2\n",
      "2020-11-17T17:00:00Z 10.2\n",
      "2020-11-17T18:00:00Z 10.1\n",
      "2020-11-17T19:00:00Z 9.9\n",
      "2020-11-17T20:00:00Z 9.7\n",
      "2020-11-17T21:00:00Z 9.4\n",
      "2020-11-17T22:00:00Z 9.1\n",
      "2020-11-17T23:00:00Z 8.8\n",
      "2020-11-18T00:00:00Z 8.3\n",
      "2020-11-18T01:00:00Z 8.0\n",
      "2020-11-18T02:00:00Z 8.5\n",
      "2020-11-18T03:00:00Z 8.7\n",
      "2020-11-18T04:00:00Z 8.4\n",
      "2020-11-18T05:00:00Z 8.7\n",
      "2020-11-18T06:00:00Z 9.1\n",
      "2020-11-18T07:00:00Z 9.4\n",
      "2020-11-18T08:00:00Z 9.9\n",
      "2020-11-18T09:00:00Z 10.5\n",
      "2020-11-18T10:00:00Z 10.9\n",
      "2020-11-18T11:00:00Z 11.1\n",
      "2020-11-18T12:00:00Z 11.1\n",
      "2020-11-18T13:00:00Z 10.8\n",
      "2020-11-18T14:00:00Z 10.4\n",
      "2020-11-18T15:00:00Z 10.0\n",
      "2020-11-18T16:00:00Z 9.9\n",
      "2020-11-18T17:00:00Z 9.7\n",
      "2020-11-18T18:00:00Z 9.5\n",
      "2020-11-18T19:00:00Z 9.5\n",
      "2020-11-18T20:00:00Z 9.9\n",
      "2020-11-18T21:00:00Z 9.8\n",
      "2020-11-18T22:00:00Z 9.7\n",
      "2020-11-18T23:00:00Z 10.1\n",
      "2020-11-19T00:00:00Z 10.3\n",
      "2020-11-19T01:00:00Z 10.2\n",
      "2020-11-19T02:00:00Z 9.1\n",
      "2020-11-19T03:00:00Z 7.3\n",
      "2020-11-19T04:00:00Z 6.4\n",
      "2020-11-19T05:00:00Z 6.4\n",
      "2020-11-19T06:00:00Z 6.1\n",
      "2020-11-19T07:00:00Z 5.9\n",
      "2020-11-19T08:00:00Z 2.1\n",
      "2020-11-19T09:00:00Z 1.5\n",
      "2020-11-19T10:00:00Z 1.1\n",
      "2020-11-19T11:00:00Z 1.5\n",
      "2020-11-19T12:00:00Z 1.7\n",
      "2020-11-19T18:00:00Z 1.3\n",
      "2020-11-20T00:00:00Z 1.4\n",
      "2020-11-20T06:00:00Z 0.5\n",
      "2020-11-20T12:00:00Z 2.4\n",
      "2020-11-20T18:00:00Z -0.4\n",
      "2020-11-21T00:00:00Z 0.8\n",
      "2020-11-21T06:00:00Z 2.1\n",
      "2020-11-21T12:00:00Z 2.7\n",
      "2020-11-21T18:00:00Z 8.2\n",
      "2020-11-22T00:00:00Z 5.4\n",
      "2020-11-22T06:00:00Z 4.1\n",
      "2020-11-22T12:00:00Z 5.4\n",
      "2020-11-22T18:00:00Z 4.1\n",
      "2020-11-23T00:00:00Z 3.3\n",
      "2020-11-23T06:00:00Z 2.0\n",
      "2020-11-23T12:00:00Z 4.2\n",
      "2020-11-23T18:00:00Z 1.8\n",
      "2020-11-24T00:00:00Z 0.9\n",
      "2020-11-24T06:00:00Z 0.1\n",
      "2020-11-24T12:00:00Z 2.2\n",
      "2020-11-24T18:00:00Z 1.3\n",
      "2020-11-25T00:00:00Z 2.3\n",
      "2020-11-25T06:00:00Z 2.3\n",
      "2020-11-25T12:00:00Z 3.6\n",
      "2020-11-25T18:00:00Z 4.1\n",
      "2020-11-26T00:00:00Z 3.4\n",
      "2020-11-26T06:00:00Z 4.0\n"
     ]
    }
   ],
   "source": [
    "import requests\n",
    "\n",
    "url = 'https://api.met.no/weatherapi/locationforecast/2.0/compact?lat=60&lon=11'\n",
    "\n",
    "headers = {\n",
    "    'User-Agent': 'Skogmo VG2DATa Agent 1.0',\n",
    "    'sitename': 'tom.oyvind.hogstad@vtfk.no', # YR krever denne  \n",
    "}\n",
    "\n",
    "response = requests.get(url, headers=headers)\n",
    "json = response.json()\n",
    "\n",
    "timeseries = json['properties']['timeseries']\n",
    "\n",
    "for t in timeseries:\n",
    "    print(t['time'], t['data']['instant']['details']['air_temperature'])\n"
   ]
  },
  {
   "cell_type": "markdown",
   "metadata": {},
   "source": [
    "## Nowcast"
   ]
  },
  {
   "cell_type": "markdown",
   "metadata": {},
   "source": [
    "https://api.met.no/weatherapi/nowcast/0.9/documentation"
   ]
  },
  {
   "cell_type": "code",
   "execution_count": null,
   "metadata": {},
   "outputs": [],
   "source": [
    "import requests\n",
    "\n",
    "url = 'https://api.met.no/weatherapi/nowcast/0.9/.json?lat=60&lon=11'\n",
    "\n",
    "headers = {\n",
    "    'User-Agent': 'Skogmo VG2DATa Agent 1.0',\n",
    "    'sitename': 'tom.oyvind.hogstad@gmail.com', # YR krever denne \n",
    "}\n",
    "\n",
    "response = requests.get(url, headers=headers)\n",
    "response.json()"
   ]
  }
 ],
 "metadata": {
  "kernelspec": {
   "display_name": "Python 3",
   "language": "python",
   "name": "python3"
  },
  "language_info": {
   "codemirror_mode": {
    "name": "ipython",
    "version": 3
   },
   "file_extension": ".py",
   "mimetype": "text/x-python",
   "name": "python",
   "nbconvert_exporter": "python",
   "pygments_lexer": "ipython3",
   "version": "3.7.6"
  }
 },
 "nbformat": 4,
 "nbformat_minor": 4
}
