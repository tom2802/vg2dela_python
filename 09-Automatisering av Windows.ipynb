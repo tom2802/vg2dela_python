{
 "cells": [
  {
   "cell_type": "markdown",
   "metadata": {
    "collapsed": true
   },
   "source": [
    "# Automatisering av Windows"
   ]
  },
  {
   "cell_type": "markdown",
   "metadata": {},
   "source": [
    "Med automatisering av Windows mener vi å lage et program som \"styrer\" andre Windows programmer. Dette brukes til å f.eks. lette repeterende oppgaver eller lage hurtigtrinn for komplekse oppgaver."
   ]
  },
  {
   "cell_type": "markdown",
   "metadata": {
    "slideshow": {
     "slide_type": ""
    }
   },
   "source": [
    "*For å gjennomføre dette kapittelet så må en installere Python på sin egen PC. Det går ikke å kjøre koden her.*"
   ]
  },
  {
   "cell_type": "markdown",
   "metadata": {},
   "source": [
    "## Installasjon av Python\n",
    "Gå til [Python.org](https://python.org) og last ned siste versjon av Python 3.x. Under installasjonen er det veldig **VIKITG** at en huker av for å legge Python i PATH."
   ]
  },
  {
   "cell_type": "markdown",
   "metadata": {},
   "source": [
    "## Installasjon av PyWinAuto\n",
    "[Pywinauto](http://pywinauto.github.io) er navnet på pakken som brukes for å automatisere Windows.<br>\n",
    "For å installere Python pakker fra [Pypi](https://pypi.org/) må en bruke [pip](https://pip.pypa.io/en/stable/) kommandoen fra \"Ledetekst\"/kommandolinjen i Windows.<br>\n",
    "<pre>C:\\Users\\hogt1&gt;<strong>pip install --upgrade pywinauto</strong></pre>"
   ]
  },
  {
   "cell_type": "markdown",
   "metadata": {},
   "source": [
    "## Installasjon av Swapy\n",
    "[Swapy](https://github.com/pywinauto/SWAPY/releases) er et program som lar deg inspisere Windows programmer og generere Python kode for PyWinAuto. [Last ned](https://github.com/pywinauto/SWAPY/releases) og installer dette programmet.<br>\n",
    "(Obs - koden er ikke helt god, men kan brukes for å finne navn på komponenetene)"
   ]
  },
  {
   "cell_type": "markdown",
   "metadata": {},
   "source": [
    "## Installasjon av Windows SDK\n",
    "[Windows SDK](https://developer.microsoft.com/nb-no/windows/downloads/windows-10-sdk) inneholder et mer robust program for å inspisere Windows programmer.<br>\n",
    "[Les videre om installasjon / alternativer.](https://pywinauto.readthedocs.io/en/latest/getting_started.html#gui-objects-inspection-spy-tools)\n"
   ]
  },
  {
   "cell_type": "markdown",
   "metadata": {},
   "source": [
    "## Automatisere Notepad\n",
    "Nå er det på tide å starte et tekstredigeringsprogram for å skrive litt Python kode. Du kan bruke *Idle* eller så er [Visual Studio Code](https://code.visualstudio.com/) med [Python tilegget](https://code.visualstudio.com/docs/languages/python) å anbefale."
   ]
  },
  {
   "cell_type": "markdown",
   "metadata": {},
   "source": [
    "#### Vise en dialog og skrive inn tekst\n",
    "```python\n",
    "from pywinauto.application import Application\n",
    "app = Application().start(\"notepad.exe\")\n",
    "# Finner menyen basert på titler\n",
    "app.utenNavnNotisBlokk.menu_select(\"Hjelp->Om Notisblokk\")\n",
    "# Bruker tittel / sti som en egenskap direkte\n",
    "app.OmNotisblokk.OK.click()\n",
    "app.utenNavnNotisBlokk.Edit.type_keys(\"pywinauto Fungerer!\", with_spaces = True)\n",
    "```"
   ]
  },
  {
   "cell_type": "markdown",
   "metadata": {},
   "source": [
    "#### Lese verdier fra en \"kontroll\"\n",
    "```python\n",
    "from pywinauto.application import Application\n",
    "app = Application().start(\"notepad.exe\")\n",
    "app.utenNavnNotisBlokk.menu_select(\"Format->Skrift...\")\n",
    "# Plukker opp en kontroll som en dict\n",
    "combo = app.Skrift['ComboBox']\n",
    "# Leser egenskaper fra en kontroll\n",
    "print(combo.GetProperties()['texts'])\n",
    "app.Skrift.OK.click()\n",
    "```"
   ]
  },
  {
   "cell_type": "markdown",
   "metadata": {},
   "source": [
    "## Dokumentasjon / Hjelp\n",
    "* [Flere eksempler](https://github.com/pywinauto/pywinauto/tree/master/examples)\n",
    "* [Short Intro on ReadTheDocs](https://pywinauto.readthedocs.io/en/latest/)\n",
    "* [Getting Started Guide](https://pywinauto.readthedocs.io/en/latest/getting_started.html) (core concept, Spy/Inspect tools etc.)\n",
    "* [StackOverflow tag](https://stackoverflow.com/questions/tagged/pywinauto) for questions"
   ]
  }
 ],
 "metadata": {
  "hide_input": false,
  "kernelspec": {
   "display_name": "Python 3",
   "language": "python",
   "name": "python3"
  },
  "language_info": {
   "codemirror_mode": {
    "name": "ipython",
    "version": 3
   },
   "file_extension": ".py",
   "mimetype": "text/x-python",
   "name": "python",
   "nbconvert_exporter": "python",
   "pygments_lexer": "ipython3",
   "version": "3.8.5"
  }
 },
 "nbformat": 4,
 "nbformat_minor": 2
}
