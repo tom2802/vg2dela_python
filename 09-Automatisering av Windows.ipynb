{
  "cells": [
    {
      "metadata": {
        "collapsed": true
      },
      "cell_type": "markdown",
      "source": "# Automatisering av Windows"
    },
    {
      "metadata": {},
      "cell_type": "markdown",
      "source": "Med automatisering av Windows mener vi å lage et program som \"styrer\" andre Windows programmer. Dette brukes til å f.eks. lette repeterende oppgaver eller lage hurtigtrinn for komplekse oppgaver."
    },
    {
      "metadata": {
        "slideshow": {
          "slide_type": ""
        }
      },
      "cell_type": "markdown",
      "source": "*For å gjennomføre dette kapittelet så må en installere Python på sin egen PC. Det går ikke å kjøre koden her.*"
    },
    {
      "metadata": {},
      "cell_type": "markdown",
      "source": "## Installasjon av Python\nGå til [Python.org](https://python.org) og last ned siste versjon av Python 3.x. Under installasjonen er det veldig **VIKITG** at en huker av for å legge Python i PATH."
    },
    {
      "metadata": {},
      "cell_type": "markdown",
      "source": "## Installasjon av PyWinAuto\n[Pywinauto](http://pywinauto.github.io) er navnet på pakken som brukes for å automatisere Windows.<br>\nFor å installere Python pakker fra [Pypi](https://pypi.org/) må en bruke [pip](https://pip.pypa.io/en/stable/) kommandoen fra \"Ledetekst\"/kommandolinjen i Windows.<br>\n<pre>C:\\Users\\hogt1&gt;<strong>pip install --upgrade pywinauto</strong></pre>"
    },
    {
      "metadata": {},
      "cell_type": "markdown",
      "source": "## Installasjon av Swapy\n[Swapy](https://github.com/pywinauto/SWAPY/releases) er et program som lar deg inspisere Windows programmer og generere Python kode for PyWinAuto. [Last ned](https://github.com/pywinauto/SWAPY/releases) og installer dette programmet.<br>\n(Obs - koden er ikke helt god, men kan brukes for å finne navn på komponenetene)"
    },
    {
      "metadata": {},
      "cell_type": "markdown",
      "source": "## Installasjon av Windows SDK\n[Windows SDK](https://developer.microsoft.com/nb-no/windows/downloads/windows-10-sdk) inneholder et mer robust program for å inspisere Windows programmer.<br>\n[Les videre om installasjon / alternativer.](https://pywinauto.readthedocs.io/en/latest/getting_started.html#gui-objects-inspection-spy-tools)\n"
    },
    {
      "metadata": {},
      "cell_type": "markdown",
      "source": "## Automatisere Notepad\nNå er det på tide å starte et tekstredigeringsprogram for å skrive litt Python kode. Du kan bruke *Idle* eller så er [Visual Studio Code](https://code.visualstudio.com/) med [Python tilegget](https://code.visualstudio.com/docs/languages/python) å anbefale."
    },
    {
      "metadata": {},
      "cell_type": "markdown",
      "source": "#### Vise en dialog og skrive inn tekst\n```python\nfrom pywinauto.application import Application\napp = Application().start(\"notepad.exe\")\n# Finner menyen basert på titler\napp.utenNavnNotisBlokk.menu_select(\"Hjelp->Om Notisblokk\")\n# Bruker tittel / sti som en egenskap direkte\napp.OmNotisblokk.OK.click()\napp.utenNavnNotisBlokk.Edit.type_keys(\"pywinauto Fungerer!\", with_spaces = True)\n```"
    },
    {
      "metadata": {},
      "cell_type": "markdown",
      "source": "#### Lese verdier fra en \"kontroll\"\n```python\nfrom pywinauto.application import Application\napp = Application().start(\"notepad.exe\")\napp.utenNavnNotisBlokk.menu_select(\"Format->Skrift...\")\n# Plukker opp en kontroll som en dict\ncombo = app.Skrift['ComboBox']\n# Leser egenskaper fra en kontroll\nprint(combo.GetProperties()['texts'])\napp.Skrift.OK.click()\n```"
    },
    {
      "metadata": {},
      "cell_type": "markdown",
      "source": "## Dokumentasjon / Hjelp\n* [Flere eksempler](https://github.com/pywinauto/pywinauto/tree/master/examples)\n* [Short Intro on ReadTheDocs](https://pywinauto.readthedocs.io/en/latest/)\n* [Getting Started Guide](https://pywinauto.readthedocs.io/en/latest/getting_started.html) (core concept, Spy/Inspect tools etc.)\n* [StackOverflow tag](https://stackoverflow.com/questions/tagged/pywinauto) for questions"
    }
  ],
  "metadata": {
    "kernelspec": {
      "name": "python36",
      "display_name": "Python 3.6",
      "language": "python"
    },
    "language_info": {
      "mimetype": "text/x-python",
      "nbconvert_exporter": "python",
      "name": "python",
      "pygments_lexer": "ipython3",
      "version": "3.6.6",
      "file_extension": ".py",
      "codemirror_mode": {
        "version": 3,
        "name": "ipython"
      }
    },
    "hide_input": false
  },
  "nbformat": 4,
  "nbformat_minor": 2
}