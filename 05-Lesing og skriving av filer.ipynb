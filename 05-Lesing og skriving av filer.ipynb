{
 "cells": [
  {
   "cell_type": "markdown",
   "metadata": {
    "collapsed": true
   },
   "source": [
    "# Filer og filbehandling"
   ]
  },
  {
   "cell_type": "markdown",
   "metadata": {},
   "source": [
    "Referanse: [pyton.org - Input and Output - Reading and Writing Files](https://docs.python.org/3/tutorial/inputoutput.html#reading-and-writing-files)\n",
    "\n",
    "Lese og skrive til filer er en nokså vanlig ting å gjøre i programmering.<br>\n",
    "I Python bruker en **open()** funksjonen for å lage et filobjekt.<br>\n",
    "**filobjekt = open(filnavn, modus)** Modus er en streng bestående av en eller flere bokstaver.\n",
    "- 'r' read - åpner filen for lesing\n",
    "- 'w' write - åpner filen for skriving\n",
    "- 'a'append - åpner filen for å legge til data\n",
    "- 'r+' read/write - åpner filen for lesing og skriving\n",
    "- 'b' - åpner filen som en binærfil (Ikke tekst)"
   ]
  },
  {
   "cell_type": "markdown",
   "metadata": {},
   "source": [
    "## Lese en tekstfil"
   ]
  },
  {
   "cell_type": "markdown",
   "metadata": {},
   "source": [
    "Vi åpner filen tekstfil.txt i data katalogen. read() leser alt innholdet i filen. \n",
    "\n",
    "Teksfiler i Windows avslutter hver linje med bytene #0A#0D (10 13) (CR LF). I Linux/Mac så brukes bare #0D (13) (LF). Python3 forstår selv forskjellen på Windows og Linux filer. Vi splitter derfor fildataene våre i liner ved å bruke split('\\n'). (I Python2 ville en måtte bruke \\r\\n for Windows filer.)\n",
    "\n",
    "Når en er ferdig med å arbeide med en fil må en huske å \"lukke\" den med **close()**."
   ]
  },
  {
   "cell_type": "code",
   "execution_count": null,
   "metadata": {},
   "outputs": [],
   "source": [
    "# Leser hele tekstfilen og splitter på linjeskift\n",
    "fp = open('data/tekstfil.txt','r') # r Reading\n",
    "text = fp.read()        # Leser hele filen\n",
    "lines=text.split('\\n')  # Splitter den på \\n\n",
    "fp.close()              # Lukker filen\n",
    "for l in lines:         # Iterer linjene\n",
    "    print(l)"
   ]
  },
  {
   "cell_type": "markdown",
   "metadata": {},
   "source": [
    "Alternativt kan en bruke en \"iterator\" for å lese gjennom filen. Husk at hver linje da vil inneholde det usynlige linjeskift tegnet(ene)."
   ]
  },
  {
   "cell_type": "code",
   "execution_count": null,
   "metadata": {},
   "outputs": [],
   "source": [
    "#Leser tekstfilen linje for linje - iterator\n",
    "f = open('data/tekstfil.txt','r')\n",
    "for l in f: # filobjektet f, er en iterator \n",
    "  print(l,end='')  # \\n er en del av linjen og vi instruerer print til å ikke skrive noe på slutten av linjen da linjeskift allerede er en del av linje.\n",
    "f.close()"
   ]
  },
  {
   "cell_type": "markdown",
   "metadata": {},
   "source": [
    "*Oppgave: Se hva som skjer om du forsøker å skrive inn noe i strengen til end='' eks. end=\"AAA \" eller end='\\n'. Hva skjer om en tar bort ,end='' parameteret* "
   ]
  },
  {
   "cell_type": "markdown",
   "metadata": {},
   "source": [
    "## Skrive en tekstfil"
   ]
  },
  {
   "cell_type": "markdown",
   "metadata": {},
   "source": [
    "For å skrive til en tekstfil må den åpnes i w eller a modus. En bruker write() for å skrive til filen. En må selv sørge for å få med linjeskift for hver linje en skriver i filen. (\\n)"
   ]
  },
  {
   "cell_type": "code",
   "execution_count": null,
   "metadata": {},
   "outputs": [],
   "source": [
    "f = open('data/tekstfil_skriv.txt','w') # Åpner filen i skrivemodus\n",
    "f.write('Linje 1' + '\\n') # Husk å få med linjeendelse\n",
    "f.write('Linje 2' + '\\n')\n",
    "f.write('Linje 3' + '\\n')\n",
    "f.close()"
   ]
  },
  {
   "cell_type": "markdown",
   "metadata": {},
   "source": [
    "*Oppgave: Se hva som skjer om du tar bort noen \\n . Kjør neste program boks for å sjekke inneholdet eller se på den i notebook katalogen.*"
   ]
  },
  {
   "cell_type": "markdown",
   "metadata": {},
   "source": [
    "Sjekker at vi fikk skrevet noe."
   ]
  },
  {
   "cell_type": "code",
   "execution_count": null,
   "metadata": {},
   "outputs": [],
   "source": [
    "with open('data/tekstfil_skriv.txt','r') as f: print(f.read())"
   ]
  },
  {
   "cell_type": "markdown",
   "metadata": {},
   "source": [
    "*Oppgave: Nå skal du bruke flere av tingene vi har vært gjennom til nå i Python kurset.*\n",
    "\n",
    "*Lag et program som lar deg skrive inn en og en linje med tekst. Lagre hver linje som blir skrevet inn i filen: 'data/logg.txt'. Avlsutt programmet om teksten du har mottat er '.' (Ett punktum)*\n",
    "\n",
    "*Hint: Bruk while, input() og filmodus: 'a'*"
   ]
  },
  {
   "cell_type": "code",
   "execution_count": null,
   "metadata": {},
   "outputs": [],
   "source": []
  },
  {
   "cell_type": "markdown",
   "metadata": {},
   "source": [
    "Sjekk at du fikk skrevet noe"
   ]
  },
  {
   "cell_type": "code",
   "execution_count": null,
   "metadata": {},
   "outputs": [],
   "source": [
    "with open('data/logg.txt','r') as f: print(f.read())"
   ]
  },
  {
   "cell_type": "markdown",
   "metadata": {},
   "source": [
    "## Skrving av binære filer\n",
    "For at en fil ikke skal oppfattes som en tekstfil (Utf-8), så må vi ha med 'b' i mode på open()."
   ]
  },
  {
   "cell_type": "code",
   "execution_count": null,
   "metadata": {},
   "outputs": [],
   "source": [
    "import random # Vi bruker funskjoner fra random modulen for å få tilfeldige tall\n",
    "\n",
    "# Skriver en binær fil med 100 bytes og tilfeldige tall fra 0 til 255\n",
    "# with - gir en kontekst for et objekt. Da slipper vi å bruke close(). Det vil også bli \"ryddet opp\" om noe går feil.\n",
    "with open('data/bytes.bin', 'wb') as f:        \n",
    "    f.write(bytes([random.randint(0,255) for i in range(100)])) "
   ]
  },
  {
   "cell_type": "markdown",
   "metadata": {},
   "source": [
    "## Lesing av binære filer"
   ]
  },
  {
   "cell_type": "code",
   "execution_count": null,
   "metadata": {},
   "outputs": [],
   "source": [
    "# Leser en binærfil og skriver ut verdiene i hex\n",
    "with open('data/bytes.bin', 'rb') as f: # Binær - b\n",
    "    byte = f.read(1)                    # Leser 1 byte\n",
    "    while byte:                         # Til byte er tom\n",
    "        print(byte.hex(), end=' ')      # Hex verdi av byte\n",
    "        byte = f.read(1)                # leser 1 byte"
   ]
  },
  {
   "cell_type": "markdown",
   "metadata": {},
   "source": [
    "## Et praktisk eksempel"
   ]
  },
  {
   "cell_type": "markdown",
   "metadata": {},
   "source": [
    "Referanser:<br>\n",
    "[Python.org - Interpret bytes as packed binary data](https://docs.python.org/3.7/library/struct.html)<br>\n",
    "[PNG - Portable Network Graphics - Specification](http://www.libpng.org/pub/png/spec/1.2/PNG-Structure.html)<br>\n",
    "[Endianness](https://en.wikipedia.org/wiki/Endianness)<br>\n",
    "[Stackoverflow - Understanding Python's slice notation](https://stackoverflow.com/questions/509211/understanding-pythons-slice-notation)\n",
    "\n",
    "Her skal vi lese en binær fil - en .png bildefil. Datafiler har som regel en spesifikasjon for hvor en finner spesielle data i filen. \n",
    "\n",
    "Vi bruker *struct* biblioteket for å tolke flere påfølgende bytes til et tall bestående av mer enn en byte (Større en 255). '>i' indikerer at tallet vi skal lese er i formatet \"little-endian\" byte rekkefølge."
   ]
  },
  {
   "cell_type": "code",
   "execution_count": null,
   "metadata": {},
   "outputs": [],
   "source": [
    "import struct # Vi må bruke et bibliotek for å kovertere til tall større en 1 byte\n",
    "with open('img/traffic-light.png', 'rb') as f:\n",
    "    header = f.read(24) # Leser de første 24 bytene inn i header\n",
    "    width  = struct.unpack('>i', header[16:20]) # Bredden er definert til å være ett 32 bit tall fra posisjon 16\n",
    "    height = struct.unpack('>i', header[20:24]) # Høyden er definert til å være ett 32 bit tall fra posisjon 20\n",
    "    # unpack returnerer en tuple av typen (verdi, None)\n",
    "\n",
    "print('Bredden er:', width[0], 'Høyden er:', height[0])\n",
    "    "
   ]
  },
  {
   "cell_type": "markdown",
   "metadata": {},
   "source": [
    "*Oppgaver:*<br>\n",
    "1. Forsøk å snu eller ta bort endian markøren i unpack funksjonen\n",
    "2. Sjekk datatypen til header variablen. Hint: type()\n",
    "3. I begynnelsen av png spesifikasjonen står det om 8 faste bytes som alltid er i en png fil.\n",
    "Les disse og lag begynnelsen av en funksjon som kan sjekke filformat på filtyper ved å se på headeren i filen."
   ]
  },
  {
   "cell_type": "code",
   "execution_count": null,
   "metadata": {},
   "outputs": [],
   "source": [
    "PNG_ID =  bytes((137, 80, 78, 71, 13, 10, 26, 10))\n"
   ]
  },
  {
   "cell_type": "markdown",
   "metadata": {},
   "source": [
    "Ekstra: For å arbeide med bilder i Python kan en bruke [PIL / Pillow](https://pillow.readthedocs.io/en/3.0.x/index.html) biblioteket."
   ]
  },
  {
   "cell_type": "code",
   "execution_count": null,
   "metadata": {},
   "outputs": [],
   "source": [
    "from PIL import Image, ImageDraw\n",
    "img = Image.open('img/traffic-light.png', 'r')\n",
    "# tegner en blå strek over bildet\n",
    "draw = ImageDraw.Draw(img)\n",
    "draw.line((0, 0) + img.size, fill='blue', width=10)\n",
    "del(draw) # Sletter draw objektet\n",
    "\n",
    "# Magi for å vise bildet i Jupyter Notebook (Ikke noe en normalt vil måtte gjøre med et bilde)\n",
    "from matplotlib.pyplot import imshow\n",
    "import numpy as np\n",
    "%matplotlib inline\n",
    "imshow(np.asarray(img))"
   ]
  }
 ],
 "metadata": {
  "hide_input": false,
  "kernelspec": {
   "display_name": "Python 3",
   "language": "python",
   "name": "python3"
  },
  "language_info": {
   "codemirror_mode": {
    "name": "ipython",
    "version": 3
   },
   "file_extension": ".py",
   "mimetype": "text/x-python",
   "name": "python",
   "nbconvert_exporter": "python",
   "pygments_lexer": "ipython3",
   "version": "3.7.6"
  }
 },
 "nbformat": 4,
 "nbformat_minor": 2
}
