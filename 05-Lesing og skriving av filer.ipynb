{
  "cells": [
    {
      "metadata": {
        "collapsed": true
      },
      "cell_type": "markdown",
      "source": "# Filer og filbehandling"
    },
    {
      "metadata": {},
      "cell_type": "markdown",
      "source": "Referanse: [pyton.org - Input and Output - Reading and Writing Files](https://docs.python.org/3/tutorial/inputoutput.html#reading-and-writing-files)\n\nLese og skrive til filer er en nokså vanlig ting å gjøre i programmering.<br>\nI Python bruker en **open()** funksjonen for å lage et filobjekt.<br>\n**filobjekt = open(filnavn, modus)** Modus er en streng bestående av en eller flere bokstaver.\n- 'r' read - åpner filen for lesing\n- 'w' write - åpner filen for skriving\n- 'a'append - åpner filen for å legge til data\n- 'r+' read/write - åpner filen for lesing og skriving\n- 'b' - åpner filen som en binærfil (Ikke tekst)"
    },
    {
      "metadata": {},
      "cell_type": "markdown",
      "source": "## Lese en tekstfil"
    },
    {
      "metadata": {},
      "cell_type": "markdown",
      "source": "Vi åpner filen tekstfil.txt i data katalogen. read() leser alt innholdet i filen. \n\nTeksfiler i Windows avslutter hver linje med bytene #0A#0D (10 13) (CR LF). I Linux/Mac så brukes bare #0D (13) (LF). Python3 forstår selv forskjellen på Windows og Linux filer. Vi splitter derfor fildataene våre i liner ved å bruke split('\\n'). (I Python2 ville en måtte bruke \\r\\n for Windows filer.)\n\nNår en er ferdig med å arbeide med en fil må en huske å \"lukke\" den med **close()**."
    },
    {
      "metadata": {
        "trusted": true
      },
      "cell_type": "code",
      "source": "# Leser hele tekstfilen og splitter på linjeskift\nfp = open('data/tekstfil.txt','r') # r Reading\ntext = fp.read()        # Leser hele filen\nlines=text.split('\\n')  # Splitter den på \\n\nfp.close()              # Lukker filen\nfor l in lines:         # Iterer linjene\n    print(l)",
      "execution_count": 1,
      "outputs": [
        {
          "output_type": "stream",
          "text": "And so he spoke, and so he spoke,\nthat Lord of Castamere,\nBut now the rains weep o'er his hall,\nwith no one there to hear.\n",
          "name": "stdout"
        }
      ]
    },
    {
      "metadata": {},
      "cell_type": "markdown",
      "source": "Alternativt kan en bruke en \"iterator\" for å lese gjennom filen. Husk at hver linje da vil inneholde det usynlige linjeskift tegnet(ene)."
    },
    {
      "metadata": {
        "trusted": true
      },
      "cell_type": "code",
      "source": "#Leser tekstfilen linje for linje - iterator\nf = open('data/tekstfil.txt','r')\nfor l in f: # filobjektet f, er en iterator \n  print(l,end='')  # \\n er en del av linjen og vi instruerer print til å ikke skrive noe på slutten av linjen da linjeskift allerede er en del av linje.\nf.close()",
      "execution_count": 2,
      "outputs": [
        {
          "output_type": "stream",
          "text": "And so he spoke, and so he spoke,\nthat Lord of Castamere,\nBut now the rains weep o'er his hall,\nwith no one there to hear.",
          "name": "stdout"
        }
      ]
    },
    {
      "metadata": {},
      "cell_type": "markdown",
      "source": "*Oppgave: Se hva som skjer om du forsøker å skrive inn noe i strengen til end='' eks. end=\"AAA \" eller end='\\n'. Hva skjer om en tar bort ,end='' parameteret* "
    },
    {
      "metadata": {},
      "cell_type": "markdown",
      "source": "## Skrive en tekstfil"
    },
    {
      "metadata": {},
      "cell_type": "markdown",
      "source": "For å skrive til en tekstfil må den åpnes i w eller a modus. En bruker write() for å skrive til filen. En må selv sørge for å få med linjeskift for hver linje en skriver i filen. (\\n)"
    },
    {
      "metadata": {
        "trusted": true
      },
      "cell_type": "code",
      "source": "f = open('data/tekstfil_skriv.txt','w') # Åpner filen i skrivemodus\nf.write('Linje 1' + '\\n') # Husk å få med linjeendelse\nf.write('Linje 2' + '\\n')\nf.write('Linje 3' + '\\n')\nf.close()",
      "execution_count": 3,
      "outputs": []
    },
    {
      "metadata": {},
      "cell_type": "markdown",
      "source": "*Oppgave: Se hva som skjer om du tar bort noen \\n . Kjør neste program boks for å sjekke inneholdet eller se på den i notebook katalogen.*"
    },
    {
      "metadata": {},
      "cell_type": "markdown",
      "source": "Sjekker at vi fikk skrevet noe."
    },
    {
      "metadata": {
        "trusted": true
      },
      "cell_type": "code",
      "source": "with open('data/tekstfil_skriv.txt','r') as f: print(f.read())",
      "execution_count": 4,
      "outputs": [
        {
          "output_type": "stream",
          "text": "Linje 1\nLinje 2\nLinje 3\n\n",
          "name": "stdout"
        }
      ]
    },
    {
      "metadata": {},
      "cell_type": "markdown",
      "source": "*Oppgave: Nå skal du bruke flere av tingene vi har vært gjennom til nå i Python kurset.*\n\n*Lag et program som lar deg skrive inn en og en linje med tekst. Lagre hver linje som blir skrevet inn i filen: 'data/logg.txt'. Avlsutt programmet om teksten du har mottat er '.' (Ett punktum)*\n\n*Hint: Bruk while, input() og filmodus: 'a'*"
    },
    {
      "metadata": {
        "trusted": true
      },
      "cell_type": "code",
      "source": "",
      "execution_count": null,
      "outputs": []
    },
    {
      "metadata": {},
      "cell_type": "markdown",
      "source": "Sjekk at du fikk skrevet noe"
    },
    {
      "metadata": {
        "trusted": true
      },
      "cell_type": "code",
      "source": "with open('data/logg.txt','r') as f: print(f.read())",
      "execution_count": null,
      "outputs": []
    },
    {
      "metadata": {},
      "cell_type": "markdown",
      "source": "## Skrving av binære filer\nFor at en fil ikke skal oppfattes som en tekstfil (Utf-8), så må vi ha med 'b' i mode på open()."
    },
    {
      "metadata": {
        "trusted": true
      },
      "cell_type": "code",
      "source": "import random # Vi bruker funskjoner fra random modulen for å få tilfeldige tall\n\n# Skriver en binær fil med 100 bytes og tilfeldige tall fra 0 til 255\n# with - gir en kontekst for et objekt. Da slipper vi å bruke close(). Det vil også bli \"ryddet opp\" om noe går feil.\nwith open('data/bytes.bin', 'wb') as f:        \n    f.write(bytes([random.randint(0,255) for i in range(100)])) ",
      "execution_count": null,
      "outputs": []
    },
    {
      "metadata": {},
      "cell_type": "markdown",
      "source": "## Lesing av binære filer"
    },
    {
      "metadata": {
        "trusted": true
      },
      "cell_type": "code",
      "source": "# Leser en binærfil og skriver ut verdiene i hex\nwith open('data/bytes.bin', 'rb') as f: # Binær - b\n    byte = f.read(1)                    # Leser 1 byte\n    while byte:                         # Til byte er tom\n        print(byte.hex(), end=' ')      # Hex verdi av byte\n        byte = f.read(1)                # leser 1 byte",
      "execution_count": null,
      "outputs": []
    },
    {
      "metadata": {},
      "cell_type": "markdown",
      "source": "## Et praktisk eksempel"
    },
    {
      "metadata": {},
      "cell_type": "markdown",
      "source": "Referanser:<br>\n[Python.org - Interpret bytes as packed binary data](https://docs.python.org/3.7/library/struct.html)<br>\n[PNG - Portable Network Graphics - Specification](http://www.libpng.org/pub/png/spec/1.2/PNG-Structure.html)<br>\n[Endianness](https://en.wikipedia.org/wiki/Endianness)<br>\n[Stackoverflow - Understanding Python's slice notation](https://stackoverflow.com/questions/509211/understanding-pythons-slice-notation)\n\nHer skal vi lese en binær fil - en .png bildefil. Datafiler har som regel en spesifikasjon for hvor en finner spesielle data i filen. \n\nVi bruker *struct* biblioteket for å tolke flere påfølgende bytes til et tall bestående av mer enn en byte (Større en 255). '>i' indikerer at tallet vi skal lese er i formatet \"little-endian\" byte rekkefølge."
    },
    {
      "metadata": {
        "trusted": true
      },
      "cell_type": "code",
      "source": "import struct # Vi må bruke et bibliotek for å kovertere til tall større en 1 byte\nwith open('img/traffic-light.png', 'rb') as f:\n    header = f.read(24) # Leser de første 24 bytene inn i header\n    width  = struct.unpack('>i', header[16:20]) # Bredden er definert til å være ett 32 bit tall fra posisjon 16\n    height = struct.unpack('>i', header[20:24]) # Høyden er definert til å være ett 32 bit tall fra posisjon 20\n    # unpack returnerer en tuple av typen (verdi, None)\n\nprint('Bredden er:', width[0], 'Høyden er:', height[0])\n    ",
      "execution_count": null,
      "outputs": []
    },
    {
      "metadata": {},
      "cell_type": "markdown",
      "source": "*Oppgaver:*<br>\n1. Forsøk å snu eller ta bort endian markøren i unpack funksjonen\n2. Sjekk datatypen til header variablen. Hint: type()\n3. I begynnelsen av png spesifikasjonen står det om 8 faste bytes som alltid er i en png fil.\nLes disse og lag begynnelsen av en funksjon som kan sjekke filformat på filtyper ved å se på headeren i filen."
    },
    {
      "metadata": {
        "trusted": true
      },
      "cell_type": "code",
      "source": "PNG_ID =  bytes((137, 80, 78, 71, 13, 10, 26, 10))\n",
      "execution_count": null,
      "outputs": []
    },
    {
      "metadata": {},
      "cell_type": "markdown",
      "source": "Ekstra: For å arbeide med bilder i Python kan en bruke [PIL / Pillow](https://pillow.readthedocs.io/en/3.0.x/index.html) biblioteket."
    },
    {
      "metadata": {
        "trusted": true
      },
      "cell_type": "code",
      "source": "from PIL import Image, ImageDraw\nimg = Image.open('img/traffic-light.png', 'r')\n# tegner en blå strek over bildet\ndraw = ImageDraw.Draw(img)\ndraw.line((0, 0) + img.size, fill='blue', width=10)\ndel(draw) # Sletter draw objektet\n\n# Magi for å vise bildet i Jupyter Notebook (Ikke noe en normalt vil måtte gjøre med et bilde)\nfrom matplotlib.pyplot import imshow\nimport numpy as np\n%matplotlib inline\nimshow(np.asarray(img))",
      "execution_count": 4,
      "outputs": [
        {
          "output_type": "execute_result",
          "execution_count": 4,
          "data": {
            "text/plain": "<matplotlib.image.AxesImage at 0x7f4d45adbbe0>"
          },
          "metadata": {}
        },
        {
          "output_type": "display_data",
          "data": {
            "image/png": "[encoded data removed]",
            "text/plain": "<matplotlib.figure.Figure at 0x7f4d499765f8>"
          },
          "metadata": {}
        }
      ]
    }
  ],
  "metadata": {
    "kernelspec": {
      "name": "python36",
      "display_name": "Python 3.6",
      "language": "python"
    },
    "language_info": {
      "mimetype": "text/x-python",
      "nbconvert_exporter": "python",
      "name": "python",
      "pygments_lexer": "ipython3",
      "version": "3.6.6",
      "file_extension": ".py",
      "codemirror_mode": {
        "version": 3,
        "name": "ipython"
      }
    },
    "hide_input": false
  },
  "nbformat": 4,
  "nbformat_minor": 2
}