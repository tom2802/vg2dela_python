{
  "cells": [
    {
      "metadata": {
        "collapsed": true
      },
      "cell_type": "markdown",
      "source": "# SQLite"
    },
    {
      "metadata": {},
      "cell_type": "markdown",
      "source": "Referanser:<br>\n[SQLite](https://www.sqlite.org/index.html)<br>\n[Python SQLite](https://docs.python.org/3.7/library/sqlite3.html)<br>\n[SQLite Browser](https://sqlitebrowser.org/dl/)<br>\n[Github med oppgave](https://github.com/hogt1/vg3_fantasy)\n"
    },
    {
      "metadata": {},
      "cell_type": "markdown",
      "source": "## Connect"
    },
    {
      "metadata": {
        "trusted": true
      },
      "cell_type": "code",
      "source": "import sqlite3\nconn = sqlite3.connect('example.db')\n\nc = conn.cursor()\nc.execute(\"DROP TABLE stocks\")\nconn.commit()\nconn.close()",
      "execution_count": null,
      "outputs": []
    },
    {
      "metadata": {},
      "cell_type": "markdown",
      "source": "## Create table"
    },
    {
      "metadata": {
        "trusted": true
      },
      "cell_type": "code",
      "source": "import sqlite3\nconn = sqlite3.connect('example.db')\nc = conn.cursor()\n\n# Create table\nc.execute(\"\"\"\nCREATE TABLE stocks (\n    date text, \n    trans text, \n    symbol text, \n    qty real, \n    price real\n    )\n\"\"\")\nconn.commit()\nconn.close()",
      "execution_count": null,
      "outputs": []
    },
    {
      "metadata": {},
      "cell_type": "markdown",
      "source": "## Insert"
    },
    {
      "metadata": {
        "trusted": true
      },
      "cell_type": "code",
      "source": "import sqlite3\nconn = sqlite3.connect('example.db')\nc = conn.cursor()\n\nc.execute(\"INSERT INTO stocks VALUES (?,?,?,?,?)\", ('2019-02-26', 'BUY', 'RHAT', 100, 35.14))\n\nconn.commit()\nconn.close()",
      "execution_count": null,
      "outputs": []
    },
    {
      "metadata": {
        "trusted": true
      },
      "cell_type": "code",
      "source": "import sqlite3\nconn = sqlite3.connect('example.db')\nc = conn.cursor()\n\n# Insert multiple\npurchases = [('2006-03-28', 'BUY', 'IBM', 1000, 45.00),\n             ('2006-04-05', 'BUY', 'MSFT', 1000, 72.00),\n             ('2006-04-06', 'SELL', 'IBM', 500, 53.00),\n            ]\nc.executemany('INSERT INTO stocks VALUES (?,?,?,?,?)', purchases)\nconn.commit()\nconn.close()",
      "execution_count": null,
      "outputs": []
    },
    {
      "metadata": {},
      "cell_type": "markdown",
      "source": "## Select"
    },
    {
      "metadata": {
        "trusted": true
      },
      "cell_type": "code",
      "source": "import sqlite3\nconn = sqlite3.connect('example.db')\nc = conn.cursor()\n\nt = ('RHAT',)\nc.execute('SELECT * FROM stocks WHERE symbol=?', t)\nprint(c.fetchone())\n\nconn.close()",
      "execution_count": null,
      "outputs": []
    },
    {
      "metadata": {
        "trusted": true
      },
      "cell_type": "code",
      "source": "import sqlite3\nconn = sqlite3.connect('example.db')\nc = conn.cursor()\n\nfor row in c.execute('SELECT * FROM stocks ORDER BY price'):\n    print(row)\n        \nconn.close()",
      "execution_count": null,
      "outputs": []
    },
    {
      "metadata": {},
      "cell_type": "markdown",
      "source": "## Oppgave"
    },
    {
      "metadata": {},
      "cell_type": "markdown",
      "source": "Lag en database med tabell for lag og spillere. Data henter dere som json. Les json og sett data inn i tabellene.<br>\nData er her: [Data](https://fantasy.premierleague.com/drf/bootstrap-static)<br>\n[Bruk json Formatter for å se på data](https://jsonformatter.curiousconcept.com/)<br>\nSpillerdata er i nøkkelen \"elements\", lag er i nøkkelen \"teams\"<br>\nFra teams henter dere bare navn og id<br>\nFra elements er det lag, navn, id, poeng, form og spillerens posisjon."
    },
    {
      "metadata": {},
      "cell_type": "markdown",
      "source": "Bruk spørringer for å finne de spillerene med mest poeng og best form. Utvid til pr. lag og pr. posisjon."
    },
    {
      "metadata": {
        "trusted": true
      },
      "cell_type": "code",
      "source": "import requests\nr = requests.get('https://fantasy.premierleague.com/drf/bootstrap-static')\ndata = r.json()",
      "execution_count": 21,
      "outputs": []
    },
    {
      "metadata": {
        "trusted": true
      },
      "cell_type": "code",
      "source": "import sqlite3\nconn = sqlite3.connect('fantasy.db')\nc = conn.cursor()\n\n# Create table\nc.execute(\"\"\"\nCREATE TABLE elements (\n    id integer,\n    team_code integer, \n    name text, \n    total_points integer, \n    form real\n    )\n\"\"\")\nconn.commit()\nconn.close()",
      "execution_count": null,
      "outputs": []
    },
    {
      "metadata": {
        "trusted": true
      },
      "cell_type": "code",
      "source": "for e in data['teams']:\n    #print(e['first_name'], e['second_name'])\n    # c.execute(\"insert into element (?, ?)\", (e['first_name'] + ' ' + e['second_name']))  \n    #print(e)\n    print(e['id'], e['name'])",
      "execution_count": 23,
      "outputs": [
        {
          "output_type": "stream",
          "text": "1 Arsenal\n2 Bournemouth\n3 Brighton\n4 Burnley\n5 Cardiff\n6 Chelsea\n7 Crystal Palace\n8 Everton\n9 Fulham\n10 Huddersfield\n11 Leicester\n12 Liverpool\n13 Man City\n14 Man Utd\n15 Newcastle\n16 Southampton\n17 Spurs\n18 Watford\n19 West Ham\n20 Wolves\n",
          "name": "stdout"
        }
      ]
    }
  ],
  "metadata": {
    "kernelspec": {
      "name": "python36",
      "display_name": "Python 3.6",
      "language": "python"
    },
    "language_info": {
      "mimetype": "text/x-python",
      "nbconvert_exporter": "python",
      "name": "python",
      "pygments_lexer": "ipython3",
      "version": "3.6.6",
      "file_extension": ".py",
      "codemirror_mode": {
        "version": 3,
        "name": "ipython"
      }
    },
    "hide_input": false
  },
  "nbformat": 4,
  "nbformat_minor": 2
}