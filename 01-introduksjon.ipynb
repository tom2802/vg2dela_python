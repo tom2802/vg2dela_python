{
 "cells": [
  {
   "cell_type": "markdown",
   "metadata": {},
   "source": [
    "# Introduksjon til Python"
   ]
  },
  {
   "cell_type": "markdown",
   "metadata": {},
   "source": [
    "## Hello world"
   ]
  },
  {
   "cell_type": "markdown",
   "metadata": {
    "collapsed": true
   },
   "source": [
    "*Hello world* er standard første program i de fleste programmeringsspråk.\n",
    "[print()](https://docs.python.org/3.7/library/functions.html#print) funksjonen skriver output fra programmet under kodecellene i Jupyter eller på kommandlinjen om en kjører Python på PC.\n",
    "Tekst (strenger) skrives mellom `''` eller `\"\"``.\n",
    "```python\n",
    "print('Hello world')\n",
    "print(\"Hello world\")\n",
    "print('Hello \"world\"')\n",
    "print(\"Hello 'world'\")\n",
    "print(Hello world)\n",
    "```"
   ]
  },
  {
   "cell_type": "markdown",
   "metadata": {},
   "source": [
    "*Oppgave: Skriv inn og kjør print linjene over en av gangen*"
   ]
  },
  {
   "cell_type": "code",
   "execution_count": 1,
   "metadata": {},
   "outputs": [
    {
     "name": "stdout",
     "output_type": "stream",
     "text": [
      "Hello world\n"
     ]
    }
   ],
   "source": [
    "print('Hello world')"
   ]
  },
  {
   "cell_type": "markdown",
   "metadata": {},
   "source": [
    "*På den siste linje fikk du feil. Det må være `''` eller `\"\"`\n",
    " rundt en streng.*"
   ]
  },
  {
   "cell_type": "markdown",
   "metadata": {},
   "source": [
    "## Print - output"
   ]
  },
  {
   "cell_type": "code",
   "execution_count": null,
   "metadata": {},
   "outputs": [],
   "source": [
    "print(5)\n",
    "print(5+3)\n",
    "print('5'+'3') # Strenger kan legges sammen. Det blir da en lenger streng.\n",
    "print('John er', 25, ' år gammel') # En kan skrive ut alle datatyper med print()\n",
    "print('Regnestykket 5 + 3 er lik', 5 + 3)"
   ]
  },
  {
   "cell_type": "markdown",
   "metadata": {},
   "source": [
    "Oppgave: Lag et regnestykket hvor du bruker hver av de fire regneartene `+ - * /`"
   ]
  },
  {
   "cell_type": "code",
   "execution_count": null,
   "metadata": {},
   "outputs": [],
   "source": [
    "print(4*5)"
   ]
  },
  {
   "cell_type": "markdown",
   "metadata": {},
   "source": [
    "I et regnestykke med flere regearter, så er det viktig å ha kontroll på rekkefølgen regneoperasjonen blir utført.<br><br>\n",
    "*Oppgave: Søk opp \"regnerekkefølge\" på Wikipedia. Skriv ut eksemplene.*"
   ]
  },
  {
   "cell_type": "code",
   "execution_count": null,
   "metadata": {},
   "outputs": [],
   "source": [
    "(2 + 2) ** 5"
   ]
  },
  {
   "cell_type": "markdown",
   "metadata": {},
   "source": [
    "## Variabler"
   ]
  },
  {
   "cell_type": "markdown",
   "metadata": {},
   "source": [
    "En variabel i programmering brukes på samme måte som i matematikk. Variablen representeres med et symbol eller navn som kan inneholde en verdi. Denne verdien kan være et tall, en tekst, en liste eller helt andre ting. En variabel kan som oftest endre sin verdi etter at den er laget.\n",
    "\n",
    "Variabler kan ha mange ulike typer innhold. Dette kalles for datatyper. Noen av disse har også undertyper, for eksempel datatypen *tall* (number) som bl.a. har undertypene *heltall* (integer) og *desimaltall* (float).\n",
    "\n",
    "Python har mange ulike datatyper, her er noen av de viktigste:\n",
    "\n",
    ">+ Numbers -> 3 eller 3.1415926\n",
    ">+ String -> 'Hallo verden!'\n",
    ">+ Boolean -> True eller False\n",
    ">+ Liste -> [123, 'Rune']\n",
    ">+ Tuppel -> (123, 'Tom Jarle')\n",
    ">+ Dictionary -> {'fag': 'Programmering', 'type': 'Realfag', 'inntakspoeng': 45.6}\n",
    "\n",
    "La oss se på noen eksempler der vi *deklarerer* noen ulike variabeltyper, *tilordner* verdier og skriver ut datatypen. Vi tilordner en verdi til en variabel med et likhetstegn `=`. For å skrive ut datatypen, bruker vi den innebygde funksjonen [type()](https://docs.python.org/3.7/library/functions.html#type)."
   ]
  },
  {
   "cell_type": "code",
   "execution_count": null,
   "metadata": {},
   "outputs": [],
   "source": [
    "tall_1 = 12\n",
    "print(tall_1, 'er et heltall, og har datatypen:', type(tall_1))\n",
    "\n",
    "tall_2 = 2.5\n",
    "print(tall_2, 'er et desimaltall, og har datatypen:', type(tall_2))\n",
    "\n",
    "tall_3 = tall_1 + tall_2\n",
    "print('Resultatet av regnestykket er', tall_3, 'har datatypen:', type(tall_3))\n",
    "\n",
    "\n"
   ]
  },
  {
   "cell_type": "code",
   "execution_count": null,
   "metadata": {},
   "outputs": [],
   "source": [
    "(4/3 - 1/3) == 1\n",
    "print(4/3)\n",
    "print(1/3)"
   ]
  },
  {
   "cell_type": "markdown",
   "metadata": {},
   "source": [
    "Det er også en egen operator for opphøyd i Python."
   ]
  },
  {
   "cell_type": "code",
   "execution_count": null,
   "metadata": {},
   "outputs": [],
   "source": [
    "print('To opphøyd i 8 er:', 2*2*2*2*2*2*2*2)\n",
    "print('To opphøyd i 8 er:', 2**8)"
   ]
  },
  {
   "cell_type": "markdown",
   "metadata": {},
   "source": [
    "En vanlig dele operasjon gir et flyttall som resultat (med desimaler). For å bare returnere heltalldelen av divisjonen bruker en `//`. For å returnere resten ved en heltalsdivisjon bruker en modulus operatoren `%`."
   ]
  },
  {
   "cell_type": "code",
   "execution_count": null,
   "metadata": {},
   "outputs": [],
   "source": [
    "11 % 2"
   ]
  },
  {
   "cell_type": "code",
   "execution_count": null,
   "metadata": {},
   "outputs": [],
   "source": [
    "print('Flyttallsdivisjonen  7/3 er', 7/3)\n",
    "print('Heltallsdivisjonen divisjonen 7//3 er', 7//3)\n",
    "print('Rest av divisjonen 7/3 er', 7%3) # Operatoren for rest av en divisjon kalle modulus\n",
    "\n",
    "print('Rest av divisjonen 8/2 er', 8%2)\n",
    "\n",
    "print('Ved heltallsdivisjon så vil 1//2 bli', 1//2)"
   ]
  },
  {
   "cell_type": "markdown",
   "metadata": {},
   "source": [
    "*Oppgave: Lag et program der du oppretter to variabler og skriv ut 6 forskjellige regneoperasjoner på disse. (+ - * / ** % //)*"
   ]
  },
  {
   "cell_type": "code",
   "execution_count": null,
   "metadata": {},
   "outputs": [],
   "source": []
  },
  {
   "cell_type": "markdown",
   "metadata": {},
   "source": [
    "### Variabler - Tekst - Strenger"
   ]
  },
  {
   "cell_type": "markdown",
   "metadata": {},
   "source": [
    "For å kombinere trenger bruker en `+`operatoren på strengene."
   ]
  },
  {
   "cell_type": "code",
   "execution_count": null,
   "metadata": {},
   "outputs": [],
   "source": [
    "tekst = 'Dette er en tekst!'\n",
    "print(tekst, 'er en tekst, og har datatypen:', type(tekst))\n",
    "tekst = 'Dette er en tekst' + ' og en annen tekst!' \n",
    "print(tekst, 'og har datatypen:', type(tekst))\n"
   ]
  },
  {
   "cell_type": "markdown",
   "metadata": {},
   "source": [
    "*Oppgave: Legg sammen flere enn to tekster. Lag en variabel for hver tekstbit.*"
   ]
  },
  {
   "cell_type": "code",
   "execution_count": null,
   "metadata": {},
   "outputs": [],
   "source": [
    "t1 = 'Jeg'\n",
    "t2 = 'heter'\n",
    "t3 = 'Tom'\n",
    "\n",
    "t3 = t1 + ' ' + t2 + ' ' + t3\n",
    "\n",
    "t3"
   ]
  },
  {
   "cell_type": "markdown",
   "metadata": {},
   "source": [
    "   ## Variabler - Boolske (True, False)"
   ]
  },
  {
   "cell_type": "markdown",
   "metadata": {},
   "source": [
    "Boolske verdier og boolsk matematikk er en fundemental del av logikk i dataverdenen. Boolske verdier representeres vanligvis som 0 eller 1. I Python har disse fått navnene False og True."
   ]
  },
  {
   "cell_type": "code",
   "execution_count": null,
   "metadata": {},
   "outputs": [],
   "source": [
    "sant_eller_usant = False\n",
    "# print(sant_eller_usant, 'er en boolsk verdi, og har datatypen:', type(sant_eller_usant))\n",
    "\n",
    "if False:\n",
    "    print('Dette var sant')\n"
   ]
  },
  {
   "cell_type": "markdown",
   "metadata": {},
   "source": [
    "*Oppgave: Veksle sant_eller_usant mellom True og False*"
   ]
  },
  {
   "cell_type": "markdown",
   "metadata": {},
   "source": [
    "## Lister og tupler"
   ]
  },
  {
   "cell_type": "markdown",
   "metadata": {},
   "source": [
    "Nå har du sett de grunnleggende datatypene i Python, men det går også an å gruppere og organisere disse på ulike måter. En liste er samling av dataelementer som kan være av ulike typer, for eksempel tall eller tekst. Når du skal lage en liste, bruker du [].\n",
    "Hver element i en liste kan refereres til med en indeks, men vær oppmerksom på at det første elementet i en liste har indeksen 0 (ikke 1 som en kanskje skulle tro). \n",
    "Eks.\n",
    "<table width=\"100%\">\n",
    "    <tr><td>0</td><td>1</td><td>2</td><td>3</td><td>4</td></tr>\n",
    "    <tr><td>Dette er første element</td><td>7</td><td>9</td><td>Heisann</td><td>23</td></tr>\n",
    "</table><br>\n",
    "I eksemplet nedenfor endrer vi på den fjerde dataenheten i lista, og da bruker vi indeksen 3."
   ]
  },
  {
   "cell_type": "code",
   "execution_count": null,
   "metadata": {},
   "outputs": [],
   "source": [
    "liste = ['Dette er første element', 7, 9, 'Heisann', 23]\n",
    "print(liste, 'er en liste, og har datatypen: ', type(liste))\n",
    "# En endrer et element i en liste ved å skrive liste[index] hvor index starter på 0 for første element\n",
    "liste[3] = 'Hohoho'\n",
    "print('Nå ser den slik ut: ', liste)"
   ]
  },
  {
   "cell_type": "markdown",
   "metadata": {},
   "source": [
    "En fanger opp elementer fra lister ved å angi indeksen for elementet indeksen starter på 0 for første element"
   ]
  },
  {
   "cell_type": "code",
   "execution_count": null,
   "metadata": {},
   "outputs": [],
   "source": [
    "print('Ett element fra listen', liste[2])"
   ]
  },
  {
   "cell_type": "markdown",
   "metadata": {},
   "source": [
    "*Oppgave: Hvordan legger en til et element i en liste - prøv å søke på \"python list append\". Legg til element i listen.*"
   ]
  },
  {
   "cell_type": "code",
   "execution_count": null,
   "metadata": {},
   "outputs": [],
   "source": []
  },
  {
   "cell_type": "markdown",
   "metadata": {},
   "source": [
    "## Tupler"
   ]
  },
  {
   "cell_type": "markdown",
   "metadata": {},
   "source": [
    "Tupler er lister hvor en ikke kan endre elementene, der er uforandrelige (immutable). I stedet for [] bruker en () rundt tupler. "
   ]
  },
  {
   "cell_type": "code",
   "execution_count": null,
   "metadata": {},
   "outputs": [],
   "source": [
    "uforanderlig_liste = ('abc', 123, 'b', 6, 7)\n",
    "print(uforanderlig_liste[2])"
   ]
  },
  {
   "cell_type": "markdown",
   "metadata": {},
   "source": [
    "*Oppgave: forsøk å endre et element, legge til eller slette fra den uforanderlige liste*"
   ]
  },
  {
   "cell_type": "code",
   "execution_count": null,
   "metadata": {},
   "outputs": [],
   "source": [
    "uforanderlig_liste[3] = 4"
   ]
  },
  {
   "cell_type": "markdown",
   "metadata": {},
   "source": [
    "Strenger er *lister* med unicode tegn. De er som tupler, uforandrelige (immutable)"
   ]
  },
  {
   "cell_type": "code",
   "execution_count": null,
   "metadata": {},
   "outputs": [],
   "source": [
    "s = '😎🤔🤓 Unicode!'\n",
    "print(s)\n",
    "#print(s[2], s[7:])\n",
    "# s[2] = '😀' # Prøv å endre et elemement i en streng \n",
    "#print('Element en er unicode tegn:', s[0], 'har verdien',ord(s[0]))\n",
    "#print('Element en er unicode tegn:',s[7], 'har verdien', ord(s[7]))"
   ]
  },
  {
   "cell_type": "markdown",
   "metadata": {},
   "source": [
    "Du kan finne den numeriske verdien til et tegn ved å bruke funksjonen [ord()](https://docs.python.org/3.3/library/functions.html#ord) og du kan lage et tegn ved hjelp av den numeriske verdien med funksjonen [chr()](https://docs.python.org/3.3/library/functions.html#chr)."
   ]
  },
  {
   "cell_type": "code",
   "execution_count": null,
   "metadata": {},
   "outputs": [],
   "source": [
    "print(ord('A'))\n",
    "print(ord('a'))\n",
    "print(chr(91))"
   ]
  },
  {
   "cell_type": "markdown",
   "metadata": {},
   "source": [
    "*Oppgave: Finn de numeriske verdien til emoticonene. Kan du liste ut emoticoner ved å bruke en range funksjon og se hvem som befinner seg på nærliggende nummer?*"
   ]
  },
  {
   "cell_type": "markdown",
   "metadata": {},
   "source": [
    "## Dictionary"
   ]
  },
  {
   "cell_type": "markdown",
   "metadata": {},
   "source": [
    "En dictionary i Python er en nyttig datatype i Python for å lagre data på en strukturert måte. I denne datatypen gir du selv navn til indeksene, istedenfor at du får tildelt indekser som 0, 1, 2, ... slik som i lister og tupler. \n",
    "<table width=\"100%\">\n",
    "    <tr><td>fabrikant</td><td>modell</td><td>akselr</td><td>seter</td></tr>\n",
    "    <tr><td>BMW</td><td>X3</td><td>4.8</td><td>7</td></tr>\n",
    "</table><br>\n",
    "Her er et eksempel på hvordan du kan lage en dictionary."
   ]
  },
  {
   "cell_type": "code",
   "execution_count": null,
   "metadata": {
    "scrolled": true
   },
   "outputs": [],
   "source": [
    "ordliste = {'fabrikant': 'BMW', 'modell': 'X3', 'akselr': 4.8, 'seter': 7}\n",
    "print(ordliste, \" er en dictionary, og har datatypen: \", type(ordliste))\n",
    "ordliste[\"seter\"] = 5\n",
    "print(\"Nå ser den slik ut: \", ordliste)"
   ]
  },
  {
   "cell_type": "markdown",
   "metadata": {},
   "source": [
    "*Oppgave: Finn ut hvordan en legger til et element i en Python dict*"
   ]
  },
  {
   "cell_type": "code",
   "execution_count": null,
   "metadata": {},
   "outputs": [],
   "source": []
  },
  {
   "cell_type": "markdown",
   "metadata": {},
   "source": [
    "## Dokumentasjon - Datayper"
   ]
  },
  {
   "cell_type": "markdown",
   "metadata": {},
   "source": [
    "Her finner du utfyllende dokumentasjon på hvordan de ulike datatypene kan brukes:\n",
    "\n",
    "* [Numeric Types — int, float, complex](https://docs.python.org/3/library/stdtypes.html#numeric-types-int-float-complex)\n",
    "* [Sequence Types — list, tuple, range](https://docs.python.org/3/library/stdtypes.html#sequence-types-list-tuple-range)\n",
    "* [Text Sequence Type — str](https://docs.python.org/3/library/stdtypes.html#text-sequence-type-str)"
   ]
  },
  {
   "cell_type": "markdown",
   "metadata": {},
   "source": [
    "## Variabelnavn"
   ]
  },
  {
   "cell_type": "markdown",
   "metadata": {},
   "source": [
    "I matematikk er det populært å bruke $x$ og $y$ og andre bokstaver som variabelnavn. I Python er det vanlig praksis å gi variablene navn som er beskrivende for innholdet. Dersom variabelnavnet inneholder flere ord, skiller du mellom ordene med et understrek-tegn `_`.<br>\n",
    "Reglene for hvordan en navngir variabler og stilsetter kode i Python finner en i PEP 8<br>\n",
    "[Python PEP 8 -- Style Guide for Python Code](https://www.python.org/dev/peps/pep-0008/)"
   ]
  },
  {
   "cell_type": "code",
   "execution_count": null,
   "metadata": {},
   "outputs": [],
   "source": [
    "vekt_bil = 1788\n",
    "vekt_sykkel = 9\n",
    "vekt_differanse = vekt_bil - vekt_sykkel\n",
    "print('Vektforskjellen mellom bil og sykkel er', vekt_differanse,  'kg.')"
   ]
  },
  {
   "cell_type": "markdown",
   "metadata": {},
   "source": [
    "## Elektronikk eksempel"
   ]
  },
  {
   "cell_type": "markdown",
   "metadata": {},
   "source": [
    "Ohms lov er definert med formelen U = R X I Hvor U er spenningen i Volt, R er motstand i Ohm og I er strøm i Ampere.\n",
    "Om R = 100 og I = 2 vil regnestykket bli U = 100 X 2 = 200\n",
    "I Python vi det samme eksempelet bli løst på denne måten."
   ]
  },
  {
   "cell_type": "code",
   "execution_count": null,
   "metadata": {},
   "outputs": [],
   "source": [
    "motstand = 100\n",
    "strom = 2\n",
    "spenning = motstand * strom\n",
    "print('Spenningen i kretsen er:', spenning, 'Volt')\n"
   ]
  },
  {
   "cell_type": "markdown",
   "metadata": {},
   "source": [
    "*Oppgave: Snu på eksempelet og regn ut motstand (R = U/I) og Strøm (I = U / R)*\n"
   ]
  },
  {
   "cell_type": "code",
   "execution_count": null,
   "metadata": {},
   "outputs": [],
   "source": []
  },
  {
   "cell_type": "markdown",
   "metadata": {
    "slideshow": {
     "slide_type": "subslide"
    }
   },
   "source": [
    "*Oppgave: I forrige oppgave så Så var I og R under brøken. Hva skjer om du skriver inn 0 for en av disse verdiene?*"
   ]
  },
  {
   "cell_type": "code",
   "execution_count": null,
   "metadata": {},
   "outputs": [],
   "source": []
  },
  {
   "cell_type": "markdown",
   "metadata": {},
   "source": [
    "*Oppgave: Formelen for Effekt er P = U X I hvor P er effekt i watt. I de foregående oppgavene vet du eller beregner I og U, kan du også beregne effekt i de samme programmene?*"
   ]
  },
  {
   "cell_type": "code",
   "execution_count": null,
   "metadata": {},
   "outputs": [],
   "source": []
  },
  {
   "cell_type": "markdown",
   "metadata": {},
   "source": [
    "## Konvertering av datatyper\n"
   ]
  },
  {
   "cell_type": "markdown",
   "metadata": {},
   "source": [
    "Det er ofte nødvendig å kovertere mellom ulike datatyper. Input til programmet vil eks. ofte være som streng typen, men du skal bruke det som et tall i beregninger."
   ]
  },
  {
   "cell_type": "code",
   "execution_count": null,
   "metadata": {},
   "outputs": [],
   "source": [
    "tall_1 = 12.35\n",
    "tall_2 = 45\n",
    "str_1 = '12.35'\n",
    "str_2 = 'Hei på deg'\n",
    "\n",
    "print(str(tall_1) + ' kr') # Konverterer en float verdi til string\n",
    "print(float(tall_2)) # Konverterer en int til float\n",
    "print(int(tall_1)) # Koverterer en float til int\n",
    "print(float(str_1)) # Konverter en string til float"
   ]
  },
  {
   "cell_type": "markdown",
   "metadata": {},
   "source": [
    "*Oppgaver: Hva skjer om du forsøker å konverter str_2 til en nummer type?*"
   ]
  },
  {
   "cell_type": "code",
   "execution_count": null,
   "metadata": {},
   "outputs": [],
   "source": []
  },
  {
   "cell_type": "markdown",
   "metadata": {},
   "source": [
    "## Kilde"
   ]
  },
  {
   "cell_type": "markdown",
   "metadata": {},
   "source": [
    "Materialet på denne siden bygger på [Python på 57 minutter](https://notebooks.azure.com/bitjungle/libraries/python-57)"
   ]
  }
 ],
 "metadata": {
  "hide_input": false,
  "kernelspec": {
   "display_name": "Python 3",
   "language": "python",
   "name": "python3"
  },
  "language_info": {
   "codemirror_mode": {
    "name": "ipython",
    "version": 3
   },
   "file_extension": ".py",
   "mimetype": "text/x-python",
   "name": "python",
   "nbconvert_exporter": "python",
   "pygments_lexer": "ipython3",
   "version": "3.7.6"
  }
 },
 "nbformat": 4,
 "nbformat_minor": 2
}
