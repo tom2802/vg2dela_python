{
  "cells": [
    {
      "metadata": {},
      "cell_type": "markdown",
      "source": "# Introduksjon til Python"
    },
    {
      "metadata": {},
      "cell_type": "markdown",
      "source": "## Hello world"
    },
    {
      "metadata": {
        "collapsed": true
      },
      "cell_type": "markdown",
      "source": "*Hello world* er standard første program i de fleste programmeringsspråk.\n[print()](https://docs.python.org/3.7/library/functions.html#print) funksjonen skriver output fra programmet under kodecellene i Jupyter eller på kommandlinjen om en kjører Python på PC.\nTekst (strenger) skrives mellom `''` eller `\"\"``.\n```python\nprint('Hello world')\nprint(\"Hello world\")\nprint('Hello \"world\"')\nprint(\"Hello 'world'\")\nprint(Hello world)\n```"
    },
    {
      "metadata": {},
      "cell_type": "markdown",
      "source": "*Oppgave: Skriv inn og kjør print linjene over en av gangen*"
    },
    {
      "metadata": {
        "trusted": true
      },
      "cell_type": "code",
      "source": "",
      "execution_count": null,
      "outputs": []
    },
    {
      "metadata": {},
      "cell_type": "markdown",
      "source": "*På den siste linje fikk du feil. Det må være `''` eller `\"\"`\n rundt en streng.*"
    },
    {
      "metadata": {},
      "cell_type": "markdown",
      "source": "## Print - output"
    },
    {
      "metadata": {},
      "cell_type": "markdown",
      "source": "En kan bruke de vanlige matetmatiske operasjonene.\n*print()* funksjonen skriver ut hvert argument (separert med komma) med et mellomrom."
    },
    {
      "metadata": {
        "trusted": true
      },
      "cell_type": "code",
      "source": "print(5)\nprint(5+3)\nprint('5'+'3') # Strenger kan legges sammen. Det blir da en lenger streng.\nprint('John er', 25, ' år gammel') # En kan skrive ut alle datatyper med print()\nprint('Regnestykket 5 + 3 er lik', 5 + 3)",
      "execution_count": 1,
      "outputs": [
        {
          "output_type": "stream",
          "text": "5\n8\n53\nJohn er 25  år gammel\nRegnestykket 5 + 3 er lik 8\n",
          "name": "stdout"
        }
      ]
    },
    {
      "metadata": {},
      "cell_type": "markdown",
      "source": "Oppgave: Lag et regnestykket hvor du bruker hver av de fire regneartene `+ - * /`"
    },
    {
      "metadata": {
        "trusted": true
      },
      "cell_type": "code",
      "source": "",
      "execution_count": null,
      "outputs": []
    },
    {
      "metadata": {},
      "cell_type": "markdown",
      "source": "I et regnestykke med flere regearter, så er det viktig å ha kontroll på rekkefølgen regneoperasjonen blir utført.<br><br>\n*Oppgave: Søk opp \"regnerekkefølge\" på Wikipedia. Skriv ut eksemplene.*"
    },
    {
      "metadata": {
        "trusted": true
      },
      "cell_type": "code",
      "source": "",
      "execution_count": null,
      "outputs": []
    },
    {
      "metadata": {},
      "cell_type": "markdown",
      "source": "## Variabler"
    },
    {
      "metadata": {},
      "cell_type": "markdown",
      "source": "En variabel i programmering brukes på samme måte som i matematikk. Variablen representeres med et symbol eller navn som kan inneholde en verdi. Denne verdien kan være et tall, en tekst, en liste eller helt andre ting. En variabel kan som oftest endre sin verdi etter at den er laget.\n\nVariabler kan ha mange ulike typer innhold. Dette kalles for datatyper. Noen av disse har også undertyper, for eksempel datatypen *tall* (number) som bl.a. har undertypene *heltall* (integer) og *desimaltall* (float).\n\nPython har mange ulike datatyper, her er noen av de viktigste:\n\n>+ Numbers -> 3 eller 3.1415926\n>+ String -> 'Hallo verden!'\n>+ Boolean -> True eller False\n>+ Liste -> [123, 'Rune']\n>+ Tuppel -> (123, 'Tom Jarle')\n>+ Dictionary -> {'fag': 'Programmering', 'type': 'Realfag', 'inntakspoeng': 45.6}\n\nLa oss se på noen eksempler der vi *deklarerer* noen ulike variabeltyper, *tilordner* verdier og skriver ut datatypen. Vi tilordner en verdi til en variabel med et likhetstegn `=`. For å skrive ut datatypen, bruker vi den innebygde funksjonen [type()](https://docs.python.org/3.7/library/functions.html#type)."
    },
    {
      "metadata": {
        "trusted": true
      },
      "cell_type": "code",
      "source": "tall_1 = 12\nprint(tall_1, 'er et heltall, og har datatypen:', type(tall_1))\n\ntall_2 = 2.5\nprint(tall_2, 'er et desimaltall, og har datatypen:', type(tall_2))\n\ntall_3 = tall_1 + tall_2\nprint('Resultatet av regnestykket er', tall_3, 'har datatypen:', type(tall_3))\n\n\n",
      "execution_count": null,
      "outputs": []
    },
    {
      "metadata": {},
      "cell_type": "markdown",
      "source": "Det er også en egen operator for opphøyd i Python."
    },
    {
      "metadata": {
        "trusted": true
      },
      "cell_type": "code",
      "source": "print('To opphøyd i 8 er:', 2*2*2*2*2*2*2*2)\nprint('To opphøyd i 8 er:', 2**8)",
      "execution_count": null,
      "outputs": []
    },
    {
      "metadata": {},
      "cell_type": "markdown",
      "source": "En vanlig dele operasjon gir et flyttall som resultat (med desimaler). For å bare returnere heltalldelen av divisjonen bruker en `//`. For å returnere resten ved en heltalsdivisjon bruker en modulus operatoren `%`."
    },
    {
      "metadata": {
        "trusted": true
      },
      "cell_type": "code",
      "source": "print('Flyttallsdivisjonen  7/3 er', 7/3)\nprint('Heltallsdivisjonen divisjonen 7//3 er', 7//3)\nprint('Rest av divisjonen 7/3 er', 7%3) # Operatoren for rest av en divisjon kalle modulus\n\nprint('Rest av divisjonen 8/2 er', 8%2)\n\nprint('Ved heltallsdivisjon så vil 1//2 bli', 1//2)",
      "execution_count": null,
      "outputs": []
    },
    {
      "metadata": {},
      "cell_type": "markdown",
      "source": "*Oppgave: Lag et program der du oppretter to variabler og skriv ut 6 forskjellige regneoperasjoner på disse. (+ - * / ** % //)*"
    },
    {
      "metadata": {
        "trusted": true
      },
      "cell_type": "code",
      "source": "",
      "execution_count": null,
      "outputs": []
    },
    {
      "metadata": {},
      "cell_type": "markdown",
      "source": "### Variabler - Tekst - Strenger"
    },
    {
      "metadata": {},
      "cell_type": "markdown",
      "source": "For å kombinere trenger bruker en `+`operatoren på strengene."
    },
    {
      "metadata": {
        "trusted": true
      },
      "cell_type": "code",
      "source": "tekst = 'Dette er en tekst!'\nprint(tekst, 'er en tekst, og har datatypen:', type(tekst))\ntekst = 'Dette er en tekst' + ' og en annen tekst!' \nprint(tekst, 'og har datatypen:', type(tekst))\n",
      "execution_count": null,
      "outputs": []
    },
    {
      "metadata": {},
      "cell_type": "markdown",
      "source": "*Oppgave: Legg sammen flere enn to tekster. Lag en variabel for hver tekstbit.*"
    },
    {
      "metadata": {
        "trusted": true
      },
      "cell_type": "code",
      "source": "",
      "execution_count": null,
      "outputs": []
    },
    {
      "metadata": {},
      "cell_type": "markdown",
      "source": "   ## Variabler - Boolske (True, False)"
    },
    {
      "metadata": {},
      "cell_type": "markdown",
      "source": "Boolske verdier og boolsk matematikk er en fundemental del av logikk i dataverdenen. Boolske verdier representeres vanligvis som 0 eller 1. I Python har disse fått navnene False og True."
    },
    {
      "metadata": {
        "trusted": true
      },
      "cell_type": "code",
      "source": "sant_eller_usant = False\nprint(sant_eller_usant, 'er en boolsk verdi, og har datatypen:', type(sant_eller_usant))\n",
      "execution_count": null,
      "outputs": []
    },
    {
      "metadata": {},
      "cell_type": "markdown",
      "source": "*Oppgave: Veksle sant_eller_usant mellom True og False*"
    },
    {
      "metadata": {},
      "cell_type": "markdown",
      "source": "## Lister og tupler"
    },
    {
      "metadata": {},
      "cell_type": "markdown",
      "source": "Nå har du sett de grunnleggende datatypene i Python, men det går også an å gruppere og organisere disse på ulike måter. En liste er samling av dataelementer som kan være av ulike typer, for eksempel tall eller tekst. Når du skal lage en liste, bruker du [].\nHver element i en liste kan refereres til med en indeks, men vær oppmerksom på at det første elementet i en liste har indeksen 0 (ikke 1 som en kanskje skulle tro). \nEks.\n<table width=\"100%\">\n    <tr><td>0</td><td>1</td><td>2</td><td>3</td><td>4</td></tr>\n    <tr><td>Dette er første element</td><td>7</td><td>9</td><td>Heisann</td><td>23</td></tr>\n</table><br>\nI eksemplet nedenfor endrer vi på den fjerde dataenheten i lista, og da bruker vi indeksen 3."
    },
    {
      "metadata": {
        "trusted": true
      },
      "cell_type": "code",
      "source": "liste = ['Dette er første element', 7, 9, 'Heisann', 23]\nprint(liste, 'er en liste, og har datatypen: ', type(liste))\n# En endrer et element i en liste ved å skrive liste[index] hvor index starter på 0 for første element\nliste[3] = 'Hohoho'\nprint('Nå ser den slik ut: ', liste)",
      "execution_count": null,
      "outputs": []
    },
    {
      "metadata": {},
      "cell_type": "markdown",
      "source": "En fanger opp elementer fra lister ved å angi indeksen for elementet indeksen starter på 0 for første element"
    },
    {
      "metadata": {
        "trusted": true
      },
      "cell_type": "code",
      "source": "print('Ett element fra listen', liste[1])",
      "execution_count": null,
      "outputs": []
    },
    {
      "metadata": {},
      "cell_type": "markdown",
      "source": "*Oppgave: Hvordan legger en til et element i en liste - prøv å søke på \"python list append\". Legg til element i listen.*"
    },
    {
      "metadata": {
        "trusted": true
      },
      "cell_type": "code",
      "source": "",
      "execution_count": null,
      "outputs": []
    },
    {
      "metadata": {},
      "cell_type": "markdown",
      "source": "## Tupler"
    },
    {
      "metadata": {},
      "cell_type": "markdown",
      "source": "Tupler er lister hvor en ikke kan endre elementene, der er uforandrelige (immutable). I stedet for [] bruker en () rundt tupler. "
    },
    {
      "metadata": {
        "trusted": true
      },
      "cell_type": "code",
      "source": "uforanderlig_liste = ('abc', 123, 'b', 6, 7)\nprint(uforanderlig_liste[2])",
      "execution_count": null,
      "outputs": []
    },
    {
      "metadata": {},
      "cell_type": "markdown",
      "source": "*Oppgave: forsøk å endre et element, legge til eller slette fra den uforanderlige liste*"
    },
    {
      "metadata": {
        "trusted": true
      },
      "cell_type": "code",
      "source": "",
      "execution_count": null,
      "outputs": []
    },
    {
      "metadata": {},
      "cell_type": "markdown",
      "source": "Strenger er *lister* med unicode tegn. De er som tupler, uforandrelige (immutable)"
    },
    {
      "metadata": {
        "trusted": true
      },
      "cell_type": "code",
      "source": "s = '😎🤔🤓 Unicode!'\nprint(s)\nprint(s[2], s[7:])\n# s[2] = '😀' # Prøv å endre et elemement i en streng \nprint('Element en er unicode tegn:', s[0], 'har verdien',ord(s[0]))\nprint('Element en er unicode tegn:',s[7], 'har verdien', ord(s[7]))",
      "execution_count": null,
      "outputs": []
    },
    {
      "metadata": {},
      "cell_type": "markdown",
      "source": "Du kan finne den numeriske verdien til et tegn ved å bruke funksjonen [ord()](https://docs.python.org/3.3/library/functions.html#ord) og du kan lage et tegn ved hjelp av den numeriske verdien med funksjonen [chr()](https://docs.python.org/3.3/library/functions.html#chr)."
    },
    {
      "metadata": {
        "trusted": true
      },
      "cell_type": "code",
      "source": "print(ord('A'))\nprint(ord('a'))\nprint(chr(91))",
      "execution_count": null,
      "outputs": []
    },
    {
      "metadata": {},
      "cell_type": "markdown",
      "source": "*Oppgave: Finn de numeriske verdien til emoticonene. Kan du liste ut emoticoner ved å bruke en range funksjon og se hvem som befinner seg på nærliggende nummer?*"
    },
    {
      "metadata": {},
      "cell_type": "markdown",
      "source": "## Dictionary"
    },
    {
      "metadata": {},
      "cell_type": "markdown",
      "source": "En dictionary i Python er en nyttig datatype i Python for å lagre data på en strukturert måte. I denne datatypen gir du selv navn til indeksene, istedenfor at du får tildelt indekser som 0, 1, 2, ... slik som i lister og tupler. \n<table width=\"100%\">\n    <tr><td>fabrikant</td><td>modell</td><td>akselr</td><td>seter</td></tr>\n    <tr><td>BMW</td><td>X3</td><td>4.8</td><td>7</td></tr>\n</table><br>\nHer er et eksempel på hvordan du kan lage en dictionary."
    },
    {
      "metadata": {
        "scrolled": true,
        "trusted": true
      },
      "cell_type": "code",
      "source": "ordliste = {'fabrikant': 'BMW', 'modell': 'X3', 'akselr': 4.8, 'seter': 7}\nprint(ordliste, \" er en dictionary, og har datatypen: \", type(ordliste))\nordliste[\"seter\"] = 5\nprint(\"Nå ser den slik ut: \", ordliste)",
      "execution_count": null,
      "outputs": []
    },
    {
      "metadata": {},
      "cell_type": "markdown",
      "source": "*Oppgave: Finn ut hvordan en legger til et element i en Python dict*"
    },
    {
      "metadata": {
        "trusted": true
      },
      "cell_type": "code",
      "source": "",
      "execution_count": null,
      "outputs": []
    },
    {
      "metadata": {},
      "cell_type": "markdown",
      "source": "## Dokumentasjon - Datayper"
    },
    {
      "metadata": {},
      "cell_type": "markdown",
      "source": "Her finner du utfyllende dokumentasjon på hvordan de ulike datatypene kan brukes:\n\n* [Numeric Types — int, float, complex](https://docs.python.org/3/library/stdtypes.html#numeric-types-int-float-complex)\n* [Sequence Types — list, tuple, range](https://docs.python.org/3/library/stdtypes.html#sequence-types-list-tuple-range)\n* [Text Sequence Type — str](https://docs.python.org/3/library/stdtypes.html#text-sequence-type-str)"
    },
    {
      "metadata": {},
      "cell_type": "markdown",
      "source": "## Variabelnavn"
    },
    {
      "metadata": {},
      "cell_type": "markdown",
      "source": "I matematikk er det populært å bruke $x$ og $y$ og andre bokstaver som variabelnavn. I Python er det vanlig praksis å gi variablene navn som er beskrivende for innholdet. Dersom variabelnavnet inneholder flere ord, skiller du mellom ordene med et understrek-tegn `_`.<br>\nReglene for hvordan en navngir variabler og stilsetter kode i Python finner en i PEP 8<br>\n[Python PEP 8 -- Style Guide for Python Code](https://www.python.org/dev/peps/pep-0008/)"
    },
    {
      "metadata": {
        "trusted": true
      },
      "cell_type": "code",
      "source": "vekt_bil = 1788\nvekt_sykkel = 9\nvekt_differanse = vekt_bil - vekt_sykkel\nprint('Vektforskjellen mellom bil og sykkel er', vekt_differanse,  'kg.')",
      "execution_count": null,
      "outputs": []
    },
    {
      "metadata": {},
      "cell_type": "markdown",
      "source": "## Elektronikk eksempel"
    },
    {
      "metadata": {},
      "cell_type": "markdown",
      "source": "Ohms lov er definert med formelen U = R X I Hvor U er spenningen i Volt, R er motstand i Ohm og I er strøm i Ampere.\nOm R = 100 og I = 2 vil regnestykket bli U = 100 X 2 = 200\nI Python vi det samme eksempelet bli løst på denne måten."
    },
    {
      "metadata": {
        "trusted": true
      },
      "cell_type": "code",
      "source": "motstand = 100\nstrom = 2\nspenning = motstand * strom\nprint('Spenningen i kretsen er:', spenning, 'Volt')\n",
      "execution_count": null,
      "outputs": []
    },
    {
      "metadata": {},
      "cell_type": "markdown",
      "source": "*Oppgave: Snu på eksempelet og regn ut motstand (R = U/I) og Strøm (I = U / R)*\n"
    },
    {
      "metadata": {
        "trusted": true
      },
      "cell_type": "code",
      "source": "",
      "execution_count": null,
      "outputs": []
    },
    {
      "metadata": {
        "slideshow": {
          "slide_type": "subslide"
        }
      },
      "cell_type": "markdown",
      "source": "*Oppgave: I forrige oppgave så Så var I og R under brøken. Hva skjer om du skriver inn 0 for en av disse verdiene?*"
    },
    {
      "metadata": {
        "trusted": true
      },
      "cell_type": "code",
      "source": "",
      "execution_count": null,
      "outputs": []
    },
    {
      "metadata": {},
      "cell_type": "markdown",
      "source": "*Oppgave: Formelen for Effekt er P = U X I hvor P er effekt i watt. I de foregående oppgavene vet du eller beregner I og U, kan du også beregne effekt i de samme programmene?*"
    },
    {
      "metadata": {
        "trusted": true
      },
      "cell_type": "code",
      "source": "",
      "execution_count": null,
      "outputs": []
    },
    {
      "metadata": {},
      "cell_type": "markdown",
      "source": "## Konvertering av datatyper\n"
    },
    {
      "metadata": {},
      "cell_type": "markdown",
      "source": "Det er ofte nødvendig å kovertere mellom ulike datatyper. Input til programmet vil eks. ofte være som streng typen, men du skal bruke det som et tall i beregninger."
    },
    {
      "metadata": {
        "trusted": true
      },
      "cell_type": "code",
      "source": "tall_1 = 12.35\ntall_2 = 45\nstr_1 = '12.35'\nstr_2 = 'Hei på deg'\n\nprint(str(tall_1) + ' kr') # Konverterer en float verdi til string\nprint(float(tall_2)) # Konverterer en int til float\nprint(int(tall_1)) # Koverterer en float til int\nprint(float(str_1)) # Konverter en string til float",
      "execution_count": null,
      "outputs": []
    },
    {
      "metadata": {},
      "cell_type": "markdown",
      "source": "*Oppgaver: Hva skjer om du forsøker å konverter str_2 til en nummer type?*"
    },
    {
      "metadata": {
        "trusted": true
      },
      "cell_type": "code",
      "source": "",
      "execution_count": null,
      "outputs": []
    },
    {
      "metadata": {},
      "cell_type": "markdown",
      "source": "## Kilde"
    },
    {
      "metadata": {},
      "cell_type": "markdown",
      "source": "Materialet på denne siden bygger på [Python på 57 minutter](https://notebooks.azure.com/bitjungle/libraries/python-57)"
    }
  ],
  "metadata": {
    "kernelspec": {
      "name": "python36",
      "display_name": "Python 3.6",
      "language": "python"
    },
    "language_info": {
      "mimetype": "text/x-python",
      "nbconvert_exporter": "python",
      "name": "python",
      "pygments_lexer": "ipython3",
      "version": "3.6.6",
      "file_extension": ".py",
      "codemirror_mode": {
        "version": 3,
        "name": "ipython"
      }
    },
    "hide_input": false
  },
  "nbformat": 4,
  "nbformat_minor": 2
}