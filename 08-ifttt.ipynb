{
  "cells": [
    {
      "metadata": {
        "collapsed": true
      },
      "cell_type": "markdown",
      "source": "# IFTTT (If This Then That)\n[IFTTT](https://ifttt.com/) er en tjeneste som binder \"Internet of Things\" og apper sammen. Nærmest alle levrandører av IOT duppeditter har laget integrasjon mot denne tjensten.<br>\nFor oss \"makere\" så er det også mulig å lage sine egne komponenter. Det er dette vi skal se på her."
    },
    {
      "metadata": {},
      "cell_type": "markdown",
      "source": "## Lag en ny \"applet\"\n* Etter å ha laget konto og logget inn velger du \"New Applet\" fra menyen med navnet ditt.\n"
    }
  ],
  "metadata": {
    "kernelspec": {
      "name": "python36",
      "display_name": "Python 3.6",
      "language": "python"
    },
    "language_info": {
      "mimetype": "text/x-python",
      "nbconvert_exporter": "python",
      "name": "python",
      "pygments_lexer": "ipython3",
      "version": "3.6.6",
      "file_extension": ".py",
      "codemirror_mode": {
        "version": 3,
        "name": "ipython"
      }
    },
    "hide_input": false
  },
  "nbformat": 4,
  "nbformat_minor": 2
}