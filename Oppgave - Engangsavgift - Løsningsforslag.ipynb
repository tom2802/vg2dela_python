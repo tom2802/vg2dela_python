{
 "cells": [
  {
   "cell_type": "markdown",
   "metadata": {},
   "source": [
    "## Engangsavgift"
   ]
  },
  {
   "cell_type": "markdown",
   "metadata": {},
   "source": [
    "Dette programmet regner ut engangsavigt for import av bil.<br>\n",
    "[Engangsavgift - Skatteteaten](https://www.skatteetaten.no/bedrift-og-organisasjon/avgifter/bil/engangsavgift/)<br>\n",
    "[Avgiftssatser 2020 - Skatteteaten](https://www.regjeringen.no/no/tema/okonomi-og-budsjett/skatter-og-avgifter/avgiftssatser-2020/id2671008/)<br>\n",
    "[Regn ut hva det koster å importere bil til Norge - Skatteteaten](https://www.skatteetaten.no/person/avgifter/bil/importere/regn-ut/)<br>\n",
    "\n"
   ]
  },
  {
   "cell_type": "markdown",
   "metadata": {},
   "source": [
    "<span style=\"color: red;\">Velg Cell -> Run All for å kjøre hele siden</span>"
   ]
  },
  {
   "cell_type": "markdown",
   "metadata": {},
   "source": [
    "## Variabler"
   ]
  },
  {
   "cell_type": "code",
   "execution_count": 1,
   "metadata": {},
   "outputs": [],
   "source": [
    "vrakpantavgift = 2400\n",
    "vekt = 1800\n",
    "NOx = 60\n",
    "CO2 = 120"
   ]
  },
  {
   "cell_type": "markdown",
   "metadata": {},
   "source": [
    "## Funksjoner"
   ]
  },
  {
   "cell_type": "code",
   "execution_count": 2,
   "metadata": {},
   "outputs": [],
   "source": [
    "def kalk_vekt_avgift(vekt):\n",
    "\n",
    "    \"\"\"\n",
    "    Avgiftstabell\n",
    "    Egenvekt, kr/kg\n",
    "    første 500 kg 0\n",
    "    neste 700 kg 25,90\n",
    "    neste 200 kg 64,55\n",
    "    neste 100 kg 201,72\n",
    "    resten 234,60\n",
    "    \"\"\"\n",
    "    if vekt > (500+700+200+100): # Vekt kvalifiserer for \"resten\"\n",
    "        avgift = (vekt - (500+700+200+100)) * 234.60 # \"resten\"\n",
    "        avgift += 100 * 201.72\n",
    "        avgift += 200 * 64.55\n",
    "        avgift += 700 * 25.90\n",
    "    elif vekt > (500+700+200): # Vekt kvalifiserer for \"neste 100\"\n",
    "        avgift = (vekt - (500+700+200)) * 201.72 # \"neste 100\"\n",
    "        avgift += 200 * 64.55\n",
    "        avgift += 700 * 25.90\n",
    "    elif vekt > (500+700): # Vekt kvalifiserer for \"neste 200\"\n",
    "        avgift = (vekt - (500+700)) * 64.55 # \"neste 200\"\n",
    "        avgift += 700 * 25.90\n",
    "    elif vekt > 500: # Vekt kvalifiserer for \"neste 700\"\n",
    "        avgift = (vekt - 500) * 25.90 # \"neste 700\"\n",
    "    else: # Under 701\n",
    "        avgift = 0\n",
    "    return avgift"
   ]
  },
  {
   "cell_type": "code",
   "execution_count": 3,
   "metadata": {},
   "outputs": [],
   "source": [
    "def kalk_CO2_avgift(CO2):\n",
    "    \"\"\"\n",
    "    Avgiftstabell\n",
    "    CO2-utslipp, kr per g/km2\n",
    "    første 87 g/km 0\n",
    "    neste 31 g/km 773,91\n",
    "    neste 37 g/km 867,25\n",
    "    neste 70 g/km 2 272,56\n",
    "    resten 3 625,17\n",
    "    \"\"\"\n",
    "    if CO2 > (87+31+37+70): # CO2 Kvalifiserer for \"resten\"\n",
    "        avgift = (CO2 - (87+31+37+70)) * 3625.17\n",
    "        avgift += 70 * 2272.56\n",
    "        avgift += 37 * 867.25\n",
    "        avgift += 31 * 773.91\n",
    "    elif CO2 > (87+31+37): # CO2 Kvalifiserer for \"neste 70\"\n",
    "        avgift = (CO2 - (87+31+37)) * 2272.56\n",
    "        avgift += 37 * 867.25\n",
    "        avgift += 31 * 773.91\n",
    "    elif CO2 > (87+31): # CO2 Kvalifiserer for \"neste 37\"\n",
    "        avgift = (CO2 - (87+31)) * 867.25\n",
    "        avgift += 31 * 773.91\n",
    "    elif CO2 > 87: # CO2 Kvalifiserer for \"neste 31\"\n",
    "        avgift = (CO2 - 87) * 773.91\n",
    "    else:\n",
    "        avgift = 0 # Under 88\n",
    "    return avgift"
   ]
  },
  {
   "cell_type": "code",
   "execution_count": 4,
   "metadata": {},
   "outputs": [],
   "source": [
    "def kalk_NOx_avgift(NOx):\n",
    "    return NOx * 74.53"
   ]
  },
  {
   "cell_type": "code",
   "execution_count": 5,
   "metadata": {},
   "outputs": [],
   "source": [
    "vekt_avgift = kalk_vekt_avgift(vekt)\n",
    "CO2_avgift = kalk_CO2_avgift(CO2)\n",
    "NOx_avgift = kalk_NOx_avgift(NOx)"
   ]
  },
  {
   "cell_type": "code",
   "execution_count": 6,
   "metadata": {},
   "outputs": [
    {
     "name": "stdout",
     "output_type": "stream",
     "text": [
      "Vrakpantavgift: 2400.00\n",
      "Avgift for egenvekt: 121592.00\n",
      "Avgift for CO2: 25725.71\n",
      "Avgift for NOx: 4471.80\n",
      "\n",
      "Totalt i avgifter: 154189.51\n"
     ]
    }
   ],
   "source": [
    "# Skriver ut verdiene. Bruker f stringer for å skrive ut med 2 desimaler\n",
    "print('Vrakpantavgift:', f'{vrakpantavgift:.2f}')\n",
    "print('Avgift for egenvekt:', f'{vekt_avgift:.2f}')\n",
    "print('Avgift for CO2:', f'{CO2_avgift:.2f}')\n",
    "print('Avgift for NOx:', f'{NOx_avgift:.2f}')\n",
    "print()\n",
    "totalt_avgifter = vrakpantavgift + vekt_avgift + CO2_avgift + NOx_avgift\n",
    "print('Totalt i avgifter:', f'{totalt_avgifter:.2f}')"
   ]
  }
 ],
 "metadata": {
  "kernelspec": {
   "display_name": "Python 3",
   "language": "python",
   "name": "python3"
  },
  "language_info": {
   "codemirror_mode": {
    "name": "ipython",
    "version": 3
   },
   "file_extension": ".py",
   "mimetype": "text/x-python",
   "name": "python",
   "nbconvert_exporter": "python",
   "pygments_lexer": "ipython3",
   "version": "3.8.5"
  }
 },
 "nbformat": 4,
 "nbformat_minor": 4
}
