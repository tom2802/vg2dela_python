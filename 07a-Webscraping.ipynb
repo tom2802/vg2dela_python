{
  "cells": [
    {
      "metadata": {
        "collapsed": true
      },
      "cell_type": "markdown",
      "source": "# Hente og sende data på Internett"
    },
    {
      "metadata": {
        "trusted": true
      },
      "cell_type": "code",
      "source": "[Beautiful Soup](https://www.crummy.com/software/BeautifulSoup/bs4/doc/) er et Pyton bibliotek for å trekke data ut av HTML og XML.\n",
      "execution_count": null,
      "outputs": []
    },
    {
      "metadata": {},
      "cell_type": "markdown",
      "source": "## Overvåke pris i en nettbutikk"
    },
    {
      "metadata": {},
      "cell_type": "markdown",
      "source": "Det kan hende du venter på at et produkt skal falle i pris. Da kan du bruke webscraping for å hente ut prisen fra en webside. Dette kan du f.eks. utvikle til å kjøre av seg selv og f.eks. bruke IFTTT til å gjøre noe om prisen endrer seg. (Eks. sende en e-post) "
    },
    {
      "metadata": {
        "trusted": true,
        "scrolled": true
      },
      "cell_type": "code",
      "source": "# Begynner med å importere nødvendige biblioteker\nimport requests\nfrom bs4 import BeautifulSoup\n\n# Dette er prisen vi ønsker at skal være lavere enn\nTARGET_PRICE = 3191\n\n# Dette er adressen til nettsiden vi ønsker å se på\nURL = 'https://www.komplett.no/product/953709/tv-lyd-bilde/hodetelefoner/hodetelefoner/bose-qc-35-ii-traadloese-hodetelefoner#'\n# Vi bruker request for å hente hele siden\nr = requests.get(URL)\n# Vi oppretter BeatifulSoup instans med innholde fra nettsiden (Befinner seg i r.text)\nsoup = BeautifulSoup(r.text, 'html.parser')\n\n# Når vi inspiserte nettsiden , så så vi at prisen lå i en meta tag med attributten itemprop=\"price\"\n# Vi trekker ut taggen ved å bruke \"find\"\n\nmeta = soup.find('meta', {'itemprop':'price'})\n# Vi sjekker hva vi fikk ut av find\nprint(meta)\n# Det så bra ut, vi trekker så \"content\" ut av meta\ncontent = meta['content']\n# Sjekker hva vi fikk ut av denne\nprint(content)\n# content er en streng så vi konvertere den til float\nprice = float(content)\n\n# Så sjekker vi mot prisen vi ønsker at den skal bli lavere enn\n\n\n\nif price < TARGET_PRICE:\n    print('Løp og kjøp!')\nelse:\n    print('Vent litt til med å kjøpe')\n",
      "execution_count": 5,
      "outputs": [
        {
          "output_type": "stream",
          "text": "<meta content=\"3190.00\" itemprop=\"price\"/>\n3190.00\nLøp og kjøp!\n",
          "name": "stdout"
        }
      ]
    },
    {
      "metadata": {},
      "cell_type": "markdown",
      "source": "Uten kommentarer og tester"
    },
    {
      "metadata": {
        "trusted": true
      },
      "cell_type": "code",
      "source": "import requests\nfrom bs4 import BeautifulSoup\n\nTARGET_PRICE = 3191\nURL = 'https://www.komplett.no/product/953709/tv-lyd-bilde/hodetelefoner/hodetelefoner/bose-qc-35-ii-traadloese-hodetelefoner#'\n\nsoup = BeautifulSoup(requests.get(URL).text, 'html.parser')\n\nif float(soup.find('meta', {'itemprop':'price'})['content']) < TARGET_PRICE:\n    print('Løp og kjøp')\n\n",
      "execution_count": 10,
      "outputs": [
        {
          "output_type": "stream",
          "text": "Løp og kjøp\n",
          "name": "stdout"
        }
      ]
    },
    {
      "metadata": {},
      "cell_type": "markdown",
      "source": "*Komplett hadde gjort dette veldig enkelt for oss.<br>\nFinn en nettbutikk hvor du ønsker og sjekke prisen og trekk ut pris fra denne*\n"
    },
    {
      "metadata": {},
      "cell_type": "markdown",
      "source": "## Nyhetssaker fra NRK"
    },
    {
      "metadata": {},
      "cell_type": "markdown",
      "source": "Vi kan f.eks. trekke ut de siste nyhetssakene fra nrk.no med koden under.\n<img  src=\"https://notebooks.azure.com/sauce1971/libraries/vgdatapythonmaster/raw/img%2Fnrk_nyheter.png\">"
    },
    {
      "metadata": {
        "trusted": true
      },
      "cell_type": "code",
      "source": "import requests\nfrom bs4 import BeautifulSoup\nr = requests.get('https://www.nrk.no/nyheter/')\nsoup = BeautifulSoup(r.text, 'html.parser')\n\n#for bulletin_title in soup.find_all('h2', class_= 'bulletin-title'): # Finner alle HTML h2 elementer med classen bulletin-title\n#    print(bulletin_title.text)\nd = soup.find_all('h2', class_= 'bulletin-title')\nprint(d)",
      "execution_count": 1,
      "outputs": [
        {
          "output_type": "stream",
          "text": "[<h2 class=\"bulletin-title\">Bombetrusler i Danmark</h2>, <h2 class=\"bulletin-title\">Holder kirker stengt på Sri Lanka</h2>, <h2 class=\"bulletin-title\">Skogbrannfaren redusert</h2>, <h2 class=\"bulletin-title\">Millioner uten meslingvaksine</h2>, <h2 class=\"bulletin-title\">Nettavisen er nede </h2>, <h2 class=\"bulletin-title\">Gamle forsider på lokalaviser</h2>, <h2 class=\"bulletin-title\">Politiet på Snapchat for russen</h2>, <h2 class=\"bulletin-title\">NOAH reagerer på nedskyting</h2>, <h2 class=\"bulletin-title\">Slår alarm om ungdomskriminalitet</h2>, <h2 class=\"bulletin-title\">Bil kjørte over mur og inn i hage</h2>]\n",
          "name": "stdout"
        }
      ]
    },
    {
      "metadata": {},
      "cell_type": "markdown",
      "source": "Beautiful Soup lar deg navigere rundt i XML/HTML Treet. I eksempelet nedenfor plukker vi også opp tidspunktet for nyhetssaken."
    },
    {
      "metadata": {
        "trusted": true,
        "scrolled": true
      },
      "cell_type": "code",
      "source": "import requests\nfrom bs4 import BeautifulSoup\nr = requests.get('https://www.nrk.no/nyheter/')\nsoup = BeautifulSoup(r.text, 'html.parser')\nfor bulletin_title in soup.find_all('h2', class_= 'bulletin-title'):\n    title = bulletin_title.text\n    # Vi navigerer til forelder noden og bruker find for å finne elementet med classen bulletin-publish-time\n    publish_time = bulletin_title.parent.find(class_='bulletin-publish-time').text \n    print(publish_time, title)",
      "execution_count": null,
      "outputs": []
    },
    {
      "metadata": {},
      "cell_type": "markdown",
      "source": "*Oppgave: Skriv også ut de 100 første bokstavene av selve teksten til artikkelen.*"
    },
    {
      "metadata": {},
      "cell_type": "markdown",
      "source": "## Data i XML format"
    },
    {
      "metadata": {
        "heading_collapsed": true
      },
      "cell_type": "markdown",
      "source": "### api.met.no"
    },
    {
      "metadata": {
        "hidden": true
      },
      "cell_type": "markdown",
      "source": "Meteorolgisk institutt lar deg bruke det meste av sine [data helt gratis](https://api.met.no/). Akkurat på samme måte som de blir brukt på yr.no eller i yr appen. Mye av disse dataene er foreløpig bare i XML format."
    },
    {
      "metadata": {
        "hidden": true
      },
      "cell_type": "markdown",
      "source": "[Nowcast](https://api.met.no/weatherapi/nowcast/0.9/documentation) Gir deg regn for de nærmeste timene."
    },
    {
      "metadata": {
        "trusted": true,
        "hidden": true
      },
      "cell_type": "code",
      "source": "import requests\nfrom bs4 import BeautifulSoup\nr = requests.get('https://api.met.no/weatherapi/nowcast/0.9/?lat=59.173551&lon=9.620759')\nsoup = BeautifulSoup(r.text, 'xml')\nfor data in soup.find_all('time'):\n    from_time = data['from'][11:16]\n    precipitation = data.find('precipitation')['value']\n    print(from_time, precipitation, 'mm')",
      "execution_count": null,
      "outputs": []
    },
    {
      "metadata": {
        "hidden": true
      },
      "cell_type": "markdown",
      "source": "*Oppgave: Analyser dataene fra Nowcast og gi et varsel om det snart blir regn eller ikke.*"
    },
    {
      "metadata": {
        "trusted": true,
        "hidden": true
      },
      "cell_type": "code",
      "source": "",
      "execution_count": null,
      "outputs": []
    },
    {
      "metadata": {
        "hidden": true
      },
      "cell_type": "markdown",
      "source": "*Oppgave: Fortell hvor lenge det er til det eventuelt kommer noe regn. Hint: Du må bruke [datetime.strptime()](https://docs.python.org/3/library/datetime.html?highlight=datetime#datetime.datetime.strptime) for å gjøre from_time om til et datetime objekt. (Google ekspempler på bruk av strptime).*"
    },
    {
      "metadata": {
        "trusted": true,
        "hidden": true
      },
      "cell_type": "code",
      "source": "",
      "execution_count": null,
      "outputs": []
    },
    {
      "metadata": {
        "hidden": true
      },
      "cell_type": "markdown",
      "source": "*Oppgave: Lag et stolpediagram som viser nedbør de nærmeste timene. Kan f.eks. lese [denne](https://pythonprogramming.net/bar-chart-histogram-matplotlib-tutorial/) for å se hvordan.*"
    },
    {
      "metadata": {
        "trusted": true,
        "hidden": true
      },
      "cell_type": "code",
      "source": "",
      "execution_count": null,
      "outputs": []
    },
    {
      "metadata": {},
      "cell_type": "markdown",
      "source": "### yr.no"
    },
    {
      "metadata": {},
      "cell_type": "markdown",
      "source": "En kan også få data som brukes på yr.no i xml ved å legge på varsel.xml i url'en<br>\nhttps://www.yr.no/place/Norway/Telemark/Skien/Skien/varsel.xml"
    },
    {
      "metadata": {},
      "cell_type": "markdown",
      "source": "Tekstvarselet for i dag blir."
    },
    {
      "metadata": {
        "trusted": true
      },
      "cell_type": "code",
      "source": "import requests\nfrom bs4 import BeautifulSoup\nr = requests.get('https://www.yr.no/place/Norway/Telemark/Skien/Skien/varsel.xml')\nsoup = BeautifulSoup(r.text, 'xml')\ntext_forecast = soup.select('forecast text') # Returnerere en liste med matchende elementer\nprint(text_forecast[0].find('title').text)\nprint(text_forecast[0].find('body').text)",
      "execution_count": null,
      "outputs": []
    },
    {
      "metadata": {},
      "cell_type": "markdown",
      "source": "Nå verdiene er (Om du lager værstasjon uten sensorer?)"
    },
    {
      "metadata": {
        "trusted": true
      },
      "cell_type": "code",
      "source": "import requests\nfrom bs4 import BeautifulSoup\nr = requests.get('https://www.yr.no/place/Norway/Telemark/Skien/Skien/varsel.xml')\nsoup = BeautifulSoup(r.text, 'xml')\nweatherstation_name = soup.select('weatherstation')[0]['name']\nweatherstation_temperature = soup.select('weatherstation')[0].find('temperature')['value']\nprint(f'{weatherstation_name}: {weatherstation_temperature} °C')\n",
      "execution_count": null,
      "outputs": []
    },
    {
      "metadata": {},
      "cell_type": "markdown",
      "source": "*Oppgave: Vis temperatur og navn på alle de næreste stasjonene. Der det er vind, så viser du også verdien for dette.*"
    },
    {
      "metadata": {
        "trusted": true
      },
      "cell_type": "code",
      "source": "",
      "execution_count": null,
      "outputs": []
    },
    {
      "metadata": {},
      "cell_type": "markdown",
      "source": "*Oppgave: Lag en graf som viser temperatur fra varselet under \"tabluar\". (Dette er beskrevet i kapittel 4)* "
    },
    {
      "metadata": {
        "trusted": true
      },
      "cell_type": "code",
      "source": "import requests\nimport matplotlib.pyplot as plt\nimport numpy as np\nfrom bs4 import BeautifulSoup\nr = requests.get('https://www.yr.no/place/Norway/Telemark/Skien/Skien/varsel.xml')\nsoup = BeautifulSoup(r.text, 'xml')\n# Finner time taggene under tabular og plukker ut from attributten\ntime_data = [t['from'] for t in soup.find('tabular').find_all('time')] \n# Finner precipitation taggene under tabular og plukker ut value attributten\nprecipation_data = [p['value'] for p in soup.find('tabular').find_all('precipitation')]\nx = [n for n in range(len(precipation_data))] # Lager x verdier fra 0 til antall datapunkt\nplt.figure(figsize=(20,3)) # Angir størrelsen på figuren (Plottet)\nplt.bar(x ,precipation_data, label=\"Nedbør\", color='b')\n#plt.xticks(x, time_data, rotation=45) # Tekster på X aksen\n#plt.legend()\n#plt.xlabel('Tid')\n#plt.ylabel('Nedbør mm/t')\n#plt.title('Nedbørsoversikt')\nplt.show()\n",
      "execution_count": null,
      "outputs": []
    }
  ],
  "metadata": {
    "kernelspec": {
      "name": "python36",
      "display_name": "Python 3.6",
      "language": "python"
    },
    "language_info": {
      "mimetype": "text/x-python",
      "nbconvert_exporter": "python",
      "name": "python",
      "pygments_lexer": "ipython3",
      "version": "3.6.6",
      "file_extension": ".py",
      "codemirror_mode": {
        "version": 3,
        "name": "ipython"
      }
    },
    "hide_input": false
  },
  "nbformat": 4,
  "nbformat_minor": 2
}