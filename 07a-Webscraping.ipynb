{
 "cells": [
  {
   "cell_type": "markdown",
   "metadata": {
    "collapsed": true
   },
   "source": [
    "# Hente og sende data på Internett"
   ]
  },
  {
   "cell_type": "code",
   "execution_count": null,
   "metadata": {},
   "outputs": [],
   "source": [
    "[Beautiful Soup](https://www.crummy.com/software/BeautifulSoup/bs4/doc/) er et Pyton bibliotek for å trekke data ut av HTML og XML.\n"
   ]
  },
  {
   "cell_type": "markdown",
   "metadata": {},
   "source": [
    "## Overvåke pris i en nettbutikk"
   ]
  },
  {
   "cell_type": "markdown",
   "metadata": {},
   "source": [
    "Det kan hende du venter på at et produkt skal falle i pris. Da kan du bruke webscraping for å hente ut prisen fra en webside. Dette kan du f.eks. utvikle til å kjøre av seg selv og f.eks. bruke IFTTT til å gjøre noe om prisen endrer seg. (Eks. sende en e-post) "
   ]
  },
  {
   "cell_type": "code",
   "execution_count": 5,
   "metadata": {
    "scrolled": true
   },
   "outputs": [
    {
     "name": "stdout",
     "output_type": "stream",
     "text": [
      "<meta content=\"3190.00\" itemprop=\"price\"/>\n",
      "3190.00\n",
      "Løp og kjøp!\n"
     ]
    }
   ],
   "source": [
    "# Begynner med å importere nødvendige biblioteker\n",
    "import requests\n",
    "from bs4 import BeautifulSoup\n",
    "\n",
    "# Dette er prisen vi ønsker at skal være lavere enn\n",
    "TARGET_PRICE = 3191\n",
    "\n",
    "# Dette er adressen til nettsiden vi ønsker å se på\n",
    "URL = 'https://www.komplett.no/product/953709/tv-lyd-bilde/hodetelefoner/hodetelefoner/bose-qc-35-ii-traadloese-hodetelefoner#'\n",
    "# Vi bruker request for å hente hele siden\n",
    "r = requests.get(URL)\n",
    "# Vi oppretter BeatifulSoup instans med innholde fra nettsiden (Befinner seg i r.text)\n",
    "soup = BeautifulSoup(r.text, 'html.parser')\n",
    "\n",
    "# Når vi inspiserte nettsiden , så så vi at prisen lå i en meta tag med attributten itemprop=\"price\"\n",
    "# Vi trekker ut taggen ved å bruke \"find\"\n",
    "\n",
    "meta = soup.find('meta', {'itemprop':'price'})\n",
    "# Vi sjekker hva vi fikk ut av find\n",
    "print(meta)\n",
    "# Det så bra ut, vi trekker så \"content\" ut av meta\n",
    "content = meta['content']\n",
    "# Sjekker hva vi fikk ut av denne\n",
    "print(content)\n",
    "# content er en streng så vi konvertere den til float\n",
    "price = float(content)\n",
    "\n",
    "# Så sjekker vi mot prisen vi ønsker at den skal bli lavere enn\n",
    "\n",
    "\n",
    "\n",
    "if price < TARGET_PRICE:\n",
    "    print('Løp og kjøp!')\n",
    "else:\n",
    "    print('Vent litt til med å kjøpe')\n"
   ]
  },
  {
   "cell_type": "markdown",
   "metadata": {},
   "source": [
    "Uten kommentarer og tester"
   ]
  },
  {
   "cell_type": "code",
   "execution_count": 1,
   "metadata": {},
   "outputs": [
    {
     "name": "stdout",
     "output_type": "stream",
     "text": [
      "Løp og kjøp\n"
     ]
    }
   ],
   "source": [
    "import requests\n",
    "from bs4 import BeautifulSoup\n",
    "\n",
    "TARGET_PRICE = 3191\n",
    "URL = 'https://www.komplett.no/product/953709/tv-lyd-bilde/hodetelefoner/hodetelefoner/bose-qc-35-ii-traadloese-hodetelefoner#'\n",
    "\n",
    "soup = BeautifulSoup(requests.get(URL).text, 'html.parser')\n",
    "\n",
    "if float(soup.find('meta', {'itemprop':'price'})['content']) < TARGET_PRICE:\n",
    "    print('Løp og kjøp')\n",
    "\n"
   ]
  },
  {
   "cell_type": "markdown",
   "metadata": {},
   "source": [
    "*Komplett hadde gjort dette veldig enkelt for oss.<br>\n",
    "Finn en nettbutikk hvor du ønsker og sjekke prisen og trekk ut pris fra denne*\n"
   ]
  },
  {
   "cell_type": "markdown",
   "metadata": {},
   "source": [
    "## Nyhetssaker fra NRK"
   ]
  },
  {
   "cell_type": "markdown",
   "metadata": {},
   "source": [
    "Vi kan f.eks. trekke ut de siste nyhetssakene fra nrk.no med koden under.\n",
    "<img  src=\"https://notebooks.azure.com/sauce1971/libraries/vgdatapythonmaster/raw/img%2Fnrk_nyheter.png\">"
   ]
  },
  {
   "cell_type": "code",
   "execution_count": 1,
   "metadata": {},
   "outputs": [
    {
     "name": "stdout",
     "output_type": "stream",
     "text": [
      "[<h2 class=\"bulletin-title\">Bombetrusler i Danmark</h2>, <h2 class=\"bulletin-title\">Holder kirker stengt på Sri Lanka</h2>, <h2 class=\"bulletin-title\">Skogbrannfaren redusert</h2>, <h2 class=\"bulletin-title\">Millioner uten meslingvaksine</h2>, <h2 class=\"bulletin-title\">Nettavisen er nede </h2>, <h2 class=\"bulletin-title\">Gamle forsider på lokalaviser</h2>, <h2 class=\"bulletin-title\">Politiet på Snapchat for russen</h2>, <h2 class=\"bulletin-title\">NOAH reagerer på nedskyting</h2>, <h2 class=\"bulletin-title\">Slår alarm om ungdomskriminalitet</h2>, <h2 class=\"bulletin-title\">Bil kjørte over mur og inn i hage</h2>]\n"
     ]
    }
   ],
   "source": [
    "import requests\n",
    "from bs4 import BeautifulSoup\n",
    "r = requests.get('https://www.nrk.no/nyheter/')\n",
    "soup = BeautifulSoup(r.text, 'html.parser')\n",
    "\n",
    "#for bulletin_title in soup.find_all('h2', class_= 'bulletin-title'): # Finner alle HTML h2 elementer med classen bulletin-title\n",
    "#    print(bulletin_title.text)\n",
    "d = soup.find_all('h2', class_= 'bulletin-title')\n",
    "print(d)"
   ]
  },
  {
   "cell_type": "markdown",
   "metadata": {},
   "source": [
    "Beautiful Soup lar deg navigere rundt i XML/HTML Treet. I eksempelet nedenfor plukker vi også opp tidspunktet for nyhetssaken."
   ]
  },
  {
   "cell_type": "code",
   "execution_count": null,
   "metadata": {
    "scrolled": true
   },
   "outputs": [],
   "source": [
    "import requests\n",
    "from bs4 import BeautifulSoup\n",
    "r = requests.get('https://www.nrk.no/nyheter/')\n",
    "soup = BeautifulSoup(r.text, 'html.parser')\n",
    "for bulletin_title in soup.find_all('h2', class_= 'bulletin-title'):\n",
    "    title = bulletin_title.text\n",
    "    # Vi navigerer til forelder noden og bruker find for å finne elementet med classen bulletin-publish-time\n",
    "    publish_time = bulletin_title.parent.find(class_='bulletin-publish-time').text \n",
    "    print(publish_time, title)"
   ]
  },
  {
   "cell_type": "markdown",
   "metadata": {},
   "source": [
    "*Oppgave: Skriv også ut de 100 første bokstavene av selve teksten til artikkelen.*"
   ]
  },
  {
   "cell_type": "markdown",
   "metadata": {},
   "source": [
    "## Data i XML format"
   ]
  },
  {
   "cell_type": "markdown",
   "metadata": {
    "heading_collapsed": true
   },
   "source": [
    "### api.met.no"
   ]
  },
  {
   "cell_type": "markdown",
   "metadata": {
    "hidden": true
   },
   "source": [
    "Meteorolgisk institutt lar deg bruke det meste av sine [data helt gratis](https://api.met.no/). Akkurat på samme måte som de blir brukt på yr.no eller i yr appen. Mye av disse dataene er foreløpig bare i XML format."
   ]
  },
  {
   "cell_type": "markdown",
   "metadata": {
    "hidden": true
   },
   "source": [
    "[Nowcast](https://api.met.no/weatherapi/nowcast/0.9/documentation) Gir deg regn for de nærmeste timene."
   ]
  },
  {
   "cell_type": "code",
   "execution_count": null,
   "metadata": {
    "hidden": true
   },
   "outputs": [],
   "source": [
    "import requests\n",
    "from bs4 import BeautifulSoup\n",
    "r = requests.get('https://api.met.no/weatherapi/nowcast/0.9/?lat=59.173551&lon=9.620759')\n",
    "soup = BeautifulSoup(r.text, 'xml')\n",
    "for data in soup.find_all('time'):\n",
    "    from_time = data['from'][11:16]\n",
    "    precipitation = data.find('precipitation')['value']\n",
    "    print(from_time, precipitation, 'mm')"
   ]
  },
  {
   "cell_type": "markdown",
   "metadata": {
    "hidden": true
   },
   "source": [
    "*Oppgave: Analyser dataene fra Nowcast og gi et varsel om det snart blir regn eller ikke.*"
   ]
  },
  {
   "cell_type": "code",
   "execution_count": null,
   "metadata": {
    "hidden": true
   },
   "outputs": [],
   "source": []
  },
  {
   "cell_type": "markdown",
   "metadata": {
    "hidden": true
   },
   "source": [
    "*Oppgave: Fortell hvor lenge det er til det eventuelt kommer noe regn. Hint: Du må bruke [datetime.strptime()](https://docs.python.org/3/library/datetime.html?highlight=datetime#datetime.datetime.strptime) for å gjøre from_time om til et datetime objekt. (Google ekspempler på bruk av strptime).*"
   ]
  },
  {
   "cell_type": "code",
   "execution_count": null,
   "metadata": {
    "hidden": true
   },
   "outputs": [],
   "source": []
  },
  {
   "cell_type": "markdown",
   "metadata": {
    "hidden": true
   },
   "source": [
    "*Oppgave: Lag et stolpediagram som viser nedbør de nærmeste timene. Kan f.eks. lese [denne](https://pythonprogramming.net/bar-chart-histogram-matplotlib-tutorial/) for å se hvordan.*"
   ]
  },
  {
   "cell_type": "code",
   "execution_count": null,
   "metadata": {
    "hidden": true
   },
   "outputs": [],
   "source": []
  },
  {
   "cell_type": "markdown",
   "metadata": {},
   "source": [
    "### yr.no"
   ]
  },
  {
   "cell_type": "markdown",
   "metadata": {},
   "source": [
    "En kan også få data som brukes på yr.no i xml ved å legge på varsel.xml i url'en<br>\n",
    "https://www.yr.no/place/Norway/Telemark/Skien/Skien/varsel.xml"
   ]
  },
  {
   "cell_type": "markdown",
   "metadata": {},
   "source": [
    "Tekstvarselet for i dag blir."
   ]
  },
  {
   "cell_type": "code",
   "execution_count": 2,
   "metadata": {},
   "outputs": [
    {
     "name": "stdout",
     "output_type": "stream",
     "text": [
      "Obs! Note!\n",
      "Tekstvarsel-tjenesten er nedlagt. The text forecast service is suspended\n"
     ]
    }
   ],
   "source": [
    "import requests\n",
    "from bs4 import BeautifulSoup\n",
    "r = requests.get('https://www.yr.no/place/Norway/Telemark/Skien/Skien/varsel.xml')\n",
    "soup = BeautifulSoup(r.text, 'xml')\n",
    "text_forecast = soup.select('forecast text') # Returnerere en liste med matchende elementer\n",
    "print(text_forecast[0].find('title').text)\n",
    "print(text_forecast[0].find('body').text)"
   ]
  },
  {
   "cell_type": "markdown",
   "metadata": {},
   "source": [
    "Nå verdiene er (Om du lager værstasjon uten sensorer?)"
   ]
  },
  {
   "cell_type": "code",
   "execution_count": 3,
   "metadata": {},
   "outputs": [
    {
     "name": "stdout",
     "output_type": "stream",
     "text": [
      ": 0 °C\n"
     ]
    }
   ],
   "source": [
    "import requests\n",
    "from bs4 import BeautifulSoup\n",
    "r = requests.get('https://www.yr.no/place/Norway/Telemark/Skien/Skien/varsel.xml')\n",
    "soup = BeautifulSoup(r.text, 'xml')\n",
    "weatherstation_name = soup.select('weatherstation')[0]['name']\n",
    "weatherstation_temperature = soup.select('weatherstation')[0].find('temperature')['value']\n",
    "print(f'{weatherstation_name}: {weatherstation_temperature} °C')\n"
   ]
  },
  {
   "cell_type": "markdown",
   "metadata": {},
   "source": [
    "*Oppgave: Vis temperatur og navn på alle de næreste stasjonene. Der det er vind, så viser du også verdien for dette.*"
   ]
  },
  {
   "cell_type": "code",
   "execution_count": null,
   "metadata": {},
   "outputs": [],
   "source": []
  },
  {
   "cell_type": "markdown",
   "metadata": {},
   "source": [
    "*Oppgave: Lag en graf som viser temperatur fra varselet under \"tabluar\". (Dette er beskrevet i kapittel 4)* "
   ]
  },
  {
   "cell_type": "code",
   "execution_count": null,
   "metadata": {},
   "outputs": [],
   "source": [
    "import requests\n",
    "import matplotlib.pyplot as plt\n",
    "import numpy as np\n",
    "from bs4 import BeautifulSoup\n",
    "r = requests.get('https://www.yr.no/place/Norway/Telemark/Skien/Skien/varsel.xml')\n",
    "soup = BeautifulSoup(r.text, 'xml')\n",
    "# Finner time taggene under tabular og plukker ut from attributten\n",
    "time_data = [t['from'] for t in soup.find('tabular').find_all('time')] \n",
    "# Finner precipitation taggene under tabular og plukker ut value attributten\n",
    "precipation_data = [p['value'] for p in soup.find('tabular').find_all('precipitation')]\n",
    "x = [n for n in range(len(precipation_data))] # Lager x verdier fra 0 til antall datapunkt\n",
    "plt.figure(figsize=(20,3)) # Angir størrelsen på figuren (Plottet)\n",
    "plt.bar(x ,precipation_data, label=\"Nedbør\", color='b')\n",
    "#plt.xticks(x, time_data, rotation=45) # Tekster på X aksen\n",
    "#plt.legend()\n",
    "#plt.xlabel('Tid')\n",
    "#plt.ylabel('Nedbør mm/t')\n",
    "#plt.title('Nedbørsoversikt')\n",
    "plt.show()\n"
   ]
  }
 ],
 "metadata": {
  "hide_input": false,
  "kernelspec": {
   "display_name": "Python 3",
   "language": "python",
   "name": "python3"
  },
  "language_info": {
   "codemirror_mode": {
    "name": "ipython",
    "version": 3
   },
   "file_extension": ".py",
   "mimetype": "text/x-python",
   "name": "python",
   "nbconvert_exporter": "python",
   "pygments_lexer": "ipython3",
   "version": "3.7.6"
  }
 },
 "nbformat": 4,
 "nbformat_minor": 2
}
